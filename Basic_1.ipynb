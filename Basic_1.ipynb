{
 "cells": [
  {
   "cell_type": "code",
   "execution_count": null,
   "id": "f94e932c-9539-4440-8198-2e3467e82c73",
   "metadata": {},
   "outputs": [],
   "source": []
  },
  {
   "cell_type": "code",
   "execution_count": null,
   "id": "b025cee5-144b-44ac-aaff-9a72015f807e",
   "metadata": {},
   "outputs": [],
   "source": []
  },
  {
   "cell_type": "code",
   "execution_count": 3,
   "id": "3bfb624c-5984-4ec7-b15b-2ed2e76ec80b",
   "metadata": {
    "tags": []
   },
   "outputs": [],
   "source": [
    "name='Debanjan'\n",
    "age= 26"
   ]
  },
  {
   "cell_type": "code",
   "execution_count": 11,
   "id": "70635e0f-aedb-4b13-8427-05790f9ea236",
   "metadata": {
    "tags": []
   },
   "outputs": [
    {
     "name": "stdout",
     "output_type": "stream",
     "text": [
      "Name: Debanjan\n"
     ]
    }
   ],
   "source": [
    "print(\"Name:\",name)"
   ]
  },
  {
   "cell_type": "code",
   "execution_count": null,
   "id": "eeb31abd-faa1-40c1-8f47-65a277e476b7",
   "metadata": {},
   "outputs": [],
   "source": []
  },
  {
   "cell_type": "code",
   "execution_count": 13,
   "id": "e4de9e66-3d92-4615-a141-21cae07eb6f2",
   "metadata": {
    "tags": []
   },
   "outputs": [
    {
     "name": "stdout",
     "output_type": "stream",
     "text": [
      "Age: 26\n"
     ]
    }
   ],
   "source": [
    "print(\"Age:\",age)"
   ]
  },
  {
   "cell_type": "code",
   "execution_count": 14,
   "id": "43ba7d2e-2d85-488d-8a94-0cbfd08276e9",
   "metadata": {
    "tags": []
   },
   "outputs": [],
   "source": [
    "X=10\n",
    "Y=11"
   ]
  },
  {
   "cell_type": "code",
   "execution_count": 15,
   "id": "e7be1bf8-98a4-4aa6-b908-4e256a61d610",
   "metadata": {
    "tags": []
   },
   "outputs": [
    {
     "data": {
      "text/plain": [
       "21"
      ]
     },
     "execution_count": 15,
     "metadata": {},
     "output_type": "execute_result"
    }
   ],
   "source": [
    "z=X+Y\n"
   ]
  },
  {
   "cell_type": "code",
   "execution_count": 16,
   "id": "069ac25f-ce69-466c-8822-be2cda6a077d",
   "metadata": {
    "tags": []
   },
   "outputs": [],
   "source": [
    "#dynamic take value#"
   ]
  },
  {
   "cell_type": "code",
   "execution_count": null,
   "id": "68e808ed-4b51-429e-ae5f-75a67e5e4760",
   "metadata": {},
   "outputs": [],
   "source": [
    "input=(\"enter the value of x)\n",
    "       "
   ]
  },
  {
   "cell_type": "code",
   "execution_count": 23,
   "id": "ea24f478-e371-4497-8083-87c285591231",
   "metadata": {
    "tags": []
   },
   "outputs": [
    {
     "name": "stdin",
     "output_type": "stream",
     "text": [
      "enter value the : 8.9\n",
      "enter value the : 9.8\n"
     ]
    }
   ],
   "source": [
    "x=float(input(\"enter value the :\"))\n",
    "y=float(input(\"enter value the :\"))"
   ]
  },
  {
   "cell_type": "code",
   "execution_count": 25,
   "id": "32d67354-4dc1-41da-9248-d7a53912ea57",
   "metadata": {
    "tags": []
   },
   "outputs": [
    {
     "data": {
      "text/plain": [
       "18.7"
      ]
     },
     "execution_count": 25,
     "metadata": {},
     "output_type": "execute_result"
    }
   ],
   "source": [
    "round(x+y,2)\n"
   ]
  },
  {
   "cell_type": "code",
   "execution_count": 34,
   "id": "6bdca400-a53f-4ffd-a667-caae2fad6b96",
   "metadata": {
    "tags": []
   },
   "outputs": [],
   "source": [
    "x=2\n",
    "y=4\n"
   ]
  },
  {
   "cell_type": "code",
   "execution_count": 35,
   "id": "be5031c9-07a6-464b-af52-dfdc991b7da1",
   "metadata": {
    "tags": []
   },
   "outputs": [
    {
     "data": {
      "text/plain": [
       "2"
      ]
     },
     "execution_count": 35,
     "metadata": {},
     "output_type": "execute_result"
    }
   ],
   "source": [
    "x"
   ]
  },
  {
   "cell_type": "code",
   "execution_count": 39,
   "id": "76f671e5-9afa-4f3b-bb4a-9f378e0b8d2a",
   "metadata": {
    "tags": []
   },
   "outputs": [],
   "source": [
    "x,y=y,x"
   ]
  },
  {
   "cell_type": "code",
   "execution_count": 40,
   "id": "d6a43d91-c296-4827-b510-c5d8bd50c3e2",
   "metadata": {
    "tags": []
   },
   "outputs": [
    {
     "data": {
      "text/plain": [
       "4"
      ]
     },
     "execution_count": 40,
     "metadata": {},
     "output_type": "execute_result"
    }
   ],
   "source": [
    "x"
   ]
  },
  {
   "cell_type": "code",
   "execution_count": 51,
   "id": "465e29a0-57e6-4429-8ef4-86cc02d8f17c",
   "metadata": {
    "tags": []
   },
   "outputs": [
    {
     "name": "stdin",
     "output_type": "stream",
     "text": [
      "enter the value l:  4\n",
      "enter the value b:  3\n"
     ]
    }
   ],
   "source": [
    "l=int(input(\"enter the value l: \"))\n",
    "b=int(input(\"enter the value b: \"))\n",
    "area=l*b\n",
    "perimeter=2*(l+b)\n"
   ]
  },
  {
   "cell_type": "code",
   "execution_count": 52,
   "id": "fa757ec0-38d5-4433-b3c9-e3f9ec548866",
   "metadata": {
    "tags": []
   },
   "outputs": [
    {
     "data": {
      "text/plain": [
       "12"
      ]
     },
     "execution_count": 52,
     "metadata": {},
     "output_type": "execute_result"
    }
   ],
   "source": [
    "area"
   ]
  },
  {
   "cell_type": "code",
   "execution_count": 53,
   "id": "b9b4ab4b-8e03-40c5-a9b1-6d9ba5c0eaf9",
   "metadata": {
    "tags": []
   },
   "outputs": [
    {
     "data": {
      "text/plain": [
       "14"
      ]
     },
     "execution_count": 53,
     "metadata": {},
     "output_type": "execute_result"
    }
   ],
   "source": [
    "perimeter"
   ]
  },
  {
   "cell_type": "code",
   "execution_count": 80,
   "id": "62b31e98-e379-43f2-acb5-6a6173492122",
   "metadata": {
    "tags": []
   },
   "outputs": [
    {
     "name": "stdin",
     "output_type": "stream",
     "text": [
      "enter the value a:  3\n",
      "enter the value b:  4.5\n",
      "enter the value c:  5\n"
     ]
    }
   ],
   "source": [
    "a=float(input(\"enter the value a: \"))\n",
    "b=float(input(\"enter the value b: \"))\n",
    "c=float(input(\"enter the value c: \"))\n",
    "s=a+b+c/2"
   ]
  },
  {
   "cell_type": "code",
   "execution_count": 81,
   "id": "bc5a8f1b-734f-46c0-8b32-6324e0cf5092",
   "metadata": {
    "tags": []
   },
   "outputs": [],
   "source": [
    "s=(a+b+c)/2"
   ]
  },
  {
   "cell_type": "code",
   "execution_count": 82,
   "id": "c685b395-9fce-4926-b331-162d3eaf6f5f",
   "metadata": {
    "tags": []
   },
   "outputs": [
    {
     "data": {
      "text/plain": [
       "6.25"
      ]
     },
     "execution_count": 82,
     "metadata": {},
     "output_type": "execute_result"
    }
   ],
   "source": [
    "s"
   ]
  },
  {
   "cell_type": "code",
   "execution_count": 83,
   "id": "beaa86bf-e14b-4c96-bfc4-41e3666c7fdb",
   "metadata": {
    "tags": []
   },
   "outputs": [],
   "source": [
    "area=(s*(s-a)*(s-b)*(s-c))**0.5"
   ]
  },
  {
   "cell_type": "code",
   "execution_count": 84,
   "id": "b6f9ac98-5f7d-4ac9-a267-60343591d21c",
   "metadata": {
    "tags": []
   },
   "outputs": [
    {
     "data": {
      "text/plain": [
       "7"
      ]
     },
     "execution_count": 84,
     "metadata": {},
     "output_type": "execute_result"
    }
   ],
   "source": [
    "round(area)"
   ]
  },
  {
   "cell_type": "code",
   "execution_count": 85,
   "id": "f63dcdf9-c5b4-4fa8-9c85-e694fe2b7ddd",
   "metadata": {
    "tags": []
   },
   "outputs": [
    {
     "data": {
      "text/plain": [
       "6.6658528149067315"
      ]
     },
     "execution_count": 85,
     "metadata": {},
     "output_type": "execute_result"
    }
   ],
   "source": [
    "area"
   ]
  },
  {
   "cell_type": "code",
   "execution_count": null,
   "id": "3f0e43f5-4074-4e56-96d0-8c439f005bbb",
   "metadata": {},
   "outputs": [],
   "source": []
  },
  {
   "cell_type": "code",
   "execution_count": 76,
   "id": "d2ef2f96-6e4a-4f59-b15e-89e53f3b865f",
   "metadata": {
    "tags": []
   },
   "outputs": [],
   "source": [
    "import math"
   ]
  },
  {
   "cell_type": "code",
   "execution_count": 78,
   "id": "74b26e7d-0833-489d-b212-33ddb17b1769",
   "metadata": {
    "tags": []
   },
   "outputs": [],
   "source": [
    "area=math.pow(s*(s-a)*(s-b)*(s-c),0.5)"
   ]
  },
  {
   "cell_type": "code",
   "execution_count": 79,
   "id": "2294a364-7a82-4134-ad97-3eba9bea2003",
   "metadata": {
    "tags": []
   },
   "outputs": [
    {
     "data": {
      "text/plain": [
       "2.9047375096555625"
      ]
     },
     "execution_count": 79,
     "metadata": {},
     "output_type": "execute_result"
    }
   ],
   "source": [
    "area"
   ]
  },
  {
   "cell_type": "code",
   "execution_count": 101,
   "id": "3eee1c60-73cf-4162-8802-6d494cc4ac0d",
   "metadata": {
    "tags": []
   },
   "outputs": [
    {
     "name": "stdin",
     "output_type": "stream",
     "text": [
      "enter the amount: 10000\n",
      "enter the interest in %: 2.5\n",
      "enter the term: 6\n"
     ]
    }
   ],
   "source": [
    "\n",
    "p=float(input(\"enter the amount:\" ))\n",
    "R=float(input(\"enter the interest in %:\"))\n",
    "T=float(input(\"enter the term:\"))"
   ]
  },
  {
   "cell_type": "code",
   "execution_count": 102,
   "id": "6d79d94b-bef0-440d-a28a-50dcd0809367",
   "metadata": {
    "tags": []
   },
   "outputs": [],
   "source": [
    "SI = (p * R * T)/100"
   ]
  },
  {
   "cell_type": "code",
   "execution_count": 103,
   "id": "5d0ce484-bcfd-470c-8b13-c059dc18123d",
   "metadata": {
    "tags": []
   },
   "outputs": [
    {
     "name": "stdout",
     "output_type": "stream",
     "text": [
      "simple interest: 1500.0\n"
     ]
    }
   ],
   "source": [
    "print(\"simple interest:\", SI)"
   ]
  },
  {
   "cell_type": "code",
   "execution_count": null,
   "id": "df649b64-fac4-4539-82dc-eff7d5890dbd",
   "metadata": {},
   "outputs": [],
   "source": []
  }
 ],
 "metadata": {
  "kernelspec": {
   "display_name": "Python 3 (ipykernel)",
   "language": "python",
   "name": "python3"
  },
  "language_info": {
   "codemirror_mode": {
    "name": "ipython",
    "version": 3
   },
   "file_extension": ".py",
   "mimetype": "text/x-python",
   "name": "python",
   "nbconvert_exporter": "python",
   "pygments_lexer": "ipython3",
   "version": "3.11.5"
  }
 },
 "nbformat": 4,
 "nbformat_minor": 5
}
