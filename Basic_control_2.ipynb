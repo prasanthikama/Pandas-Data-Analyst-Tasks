{
 "cells": [
  {
   "cell_type": "code",
   "execution_count": 128,
   "id": "7f9c32d8-9832-45c4-b0c6-c9b4f70d0c19",
   "metadata": {
    "tags": []
   },
   "outputs": [],
   "source": [
    "salary = .9"
   ]
  },
  {
   "cell_type": "code",
   "execution_count": 129,
   "id": "7a338dd9-33da-43be-9660-f59f8d361286",
   "metadata": {
    "tags": []
   },
   "outputs": [
    {
     "name": "stdout",
     "output_type": "stream",
     "text": [
      "s\n"
     ]
    }
   ],
   "source": [
    "if salary >= 1.5:\n",
    "    print(\"salary\")\n",
    "else:\n",
    "    print(\"s\")"
   ]
  },
  {
   "cell_type": "code",
   "execution_count": 130,
   "id": "7d249b2e-4024-4410-87ec-8cab20a4dd52",
   "metadata": {
    "tags": []
   },
   "outputs": [],
   "source": [
    "subject = 30"
   ]
  },
  {
   "cell_type": "code",
   "execution_count": 131,
   "id": "fc71ab75-87e5-449a-9a72-340650627226",
   "metadata": {
    "tags": []
   },
   "outputs": [
    {
     "name": "stdout",
     "output_type": "stream",
     "text": [
      "subject is failed\n"
     ]
    }
   ],
   "source": [
    "if subject >= 35:\n",
    "    print(\"subject is passed\")\n",
    "else:\n",
    "    print(\"subject is failed\")"
   ]
  },
  {
   "cell_type": "code",
   "execution_count": 132,
   "id": "2c60d8a1-a4f0-4a7b-87fa-03e77e7e3f05",
   "metadata": {
    "tags": []
   },
   "outputs": [],
   "source": [
    "subject=[200,40,60,70,100,200,30,0]"
   ]
  },
  {
   "cell_type": "code",
   "execution_count": 133,
   "id": "960bafb3-6a6d-4e82-8c53-d39f20c3cc93",
   "metadata": {
    "tags": []
   },
   "outputs": [
    {
     "name": "stdout",
     "output_type": "stream",
     "text": [
      "first class\n",
      "failed\n",
      "thrid class\n",
      "second class\n",
      "first class\n",
      "first class\n",
      "failed\n",
      "failed\n"
     ]
    }
   ],
   "source": [
    "for me in subject:\n",
    "    if me >= 75:\n",
    "        print(\"first class\")\n",
    "    elif me > 60:\n",
    "        print(\"second class\")\n",
    "    elif me > 40:\n",
    "        print(\"thrid class\")\n",
    "    else:\n",
    "        print(\"failed\")"
   ]
  },
  {
   "cell_type": "code",
   "execution_count": 134,
   "id": "50250a4f-7c1f-4de1-9a4b-48148576f997",
   "metadata": {
    "tags": []
   },
   "outputs": [],
   "source": [
    "#using function to get the values"
   ]
  },
  {
   "cell_type": "code",
   "execution_count": 135,
   "id": "04fc14a6-a3c7-49dc-b60b-30aea9ef1883",
   "metadata": {
    "tags": []
   },
   "outputs": [],
   "source": [
    "shan=[90,50,60,40,30,20]"
   ]
  },
  {
   "cell_type": "code",
   "execution_count": 136,
   "id": "5eb4c4e7-7d28-4b8d-a853-bad4e2296320",
   "metadata": {
    "tags": []
   },
   "outputs": [],
   "source": [
    "def ranking_university(marks):\n",
    "    for subject in shanthi:\n",
    "            if subject > 70:\n",
    "                 print(\"Distinguish\")\n",
    "            elif subject > 50:\n",
    "                 print(\"good\")\n",
    "            elif subject >= 30:\n",
    "                print(\"average\")\n",
    "            else:\n",
    "                print(\"failed\")"
   ]
  },
  {
   "cell_type": "code",
   "execution_count": 137,
   "id": "f2913f1f-44f3-46cf-8769-e88ffae64062",
   "metadata": {
    "tags": []
   },
   "outputs": [
    {
     "name": "stdout",
     "output_type": "stream",
     "text": [
      "Distinguish\n",
      "average\n",
      "good\n",
      "average\n",
      "average\n",
      "failed\n"
     ]
    }
   ],
   "source": [
    "ranking_university(shan)"
   ]
  },
  {
   "cell_type": "code",
   "execution_count": 138,
   "id": "dafa7763-f199-43e9-af8c-0ed7f46e847e",
   "metadata": {
    "tags": []
   },
   "outputs": [],
   "source": [
    "import statistics "
   ]
  },
  {
   "cell_type": "code",
   "execution_count": 139,
   "id": "3e7f71ff-bbc5-40ed-b684-10ee4caaa2ae",
   "metadata": {
    "tags": []
   },
   "outputs": [
    {
     "data": {
      "text/plain": [
       "48.333333333333336"
      ]
     },
     "execution_count": 139,
     "metadata": {},
     "output_type": "execute_result"
    }
   ],
   "source": [
    " statistics.mean(shan)"
   ]
  },
  {
   "cell_type": "code",
   "execution_count": 140,
   "id": "126980aa-f8e0-43a0-ad2c-c9c3bdd04c5d",
   "metadata": {
    "tags": []
   },
   "outputs": [],
   "source": [
    "def mean_uni(marks):\n",
    "    total=sum(marks)\n",
    "    num=len(marks)\n",
    "    return  total/num"
   ]
  },
  {
   "cell_type": "code",
   "execution_count": 141,
   "id": "cdeaebc3-bd6f-4f54-b5c9-0572d58d6629",
   "metadata": {
    "tags": []
   },
   "outputs": [
    {
     "data": {
      "text/plain": [
       "48.333333333333336"
      ]
     },
     "execution_count": 141,
     "metadata": {},
     "output_type": "execute_result"
    }
   ],
   "source": [
    " mean_uni(shan)"
   ]
  },
  {
   "cell_type": "code",
   "execution_count": 142,
   "id": "18a710b8-4e3f-4e64-a4ca-fd0b5f61e054",
   "metadata": {
    "tags": []
   },
   "outputs": [],
   "source": [
    "def caluculate_bmi(w,h):\n",
    "    bmi=w/(h**2)\n",
    "    print(\"your bmi:\",bmi)\n",
    "    if bmi <=18.5:\n",
    "        print(\"underweight\")\n",
    "    elif bmi > 18.5 and bmi <=24.9:\n",
    "        print(\"Normal weight\")\n",
    "    elif bmi <= 29.9:\n",
    "        print(\"over weight\")\n",
    "    else:\n",
    "        print(\"Obesity\")\n",
    "\n",
    "    "
   ]
  },
  {
   "cell_type": "code",
   "execution_count": 143,
   "id": "be3f4cad-c088-4c56-b796-b482e8aa9ce2",
   "metadata": {
    "tags": []
   },
   "outputs": [
    {
     "name": "stdout",
     "output_type": "stream",
     "text": [
      "your bmi: 24.654832347140037\n",
      "Normal weight\n"
     ]
    }
   ],
   "source": [
    "caluculate_bmi(60,1.56)"
   ]
  },
  {
   "cell_type": "code",
   "execution_count": 144,
   "id": "f94aad97-4b78-49d5-866d-d479a964b236",
   "metadata": {
    "tags": []
   },
   "outputs": [],
   "source": [
    "def caluculate_bmi(w,h):\n",
    "    w=float(input(\"enter the weight in kg:\"))\n",
    "    h=float(input(\"enter the height in meters:\"))\n",
    "    bmi=w/(h**2)\n",
    "    print(\"your bmi:\",bmi)\n",
    "    if bmi <=18.5:\n",
    "        print(\"underweight\")\n",
    "    elif bmi > 18.5 and bmi <=24.9:\n",
    "        print(\"Normal weight\")\n",
    "    elif bmi <= 29.9:\n",
    "        print(\"over weight\")\n",
    "    else:\n",
    "        print(\"Obesity\")"
   ]
  },
  {
   "cell_type": "code",
   "execution_count": 145,
   "id": "6d3c4d58-96d3-46fb-a775-400b7928f97e",
   "metadata": {
    "tags": []
   },
   "outputs": [
    {
     "name": "stdin",
     "output_type": "stream",
     "text": [
      "enter the weight in kg: 60\n",
      "enter the height in meters: 1.52\n"
     ]
    },
    {
     "name": "stdout",
     "output_type": "stream",
     "text": [
      "your bmi: 25.969529085872576\n",
      "over weight\n"
     ]
    }
   ],
   "source": [
    " caluculate_bmi(60,1.52)"
   ]
  },
  {
   "cell_type": "code",
   "execution_count": null,
   "id": "51d2153b-7571-4dac-8690-5da2d2e2de6c",
   "metadata": {},
   "outputs": [],
   "source": []
  }
 ],
 "metadata": {
  "kernelspec": {
   "display_name": "Python 3 (ipykernel)",
   "language": "python",
   "name": "python3"
  },
  "language_info": {
   "codemirror_mode": {
    "name": "ipython",
    "version": 3
   },
   "file_extension": ".py",
   "mimetype": "text/x-python",
   "name": "python",
   "nbconvert_exporter": "python",
   "pygments_lexer": "ipython3",
   "version": "3.11.5"
  }
 },
 "nbformat": 4,
 "nbformat_minor": 5
}
