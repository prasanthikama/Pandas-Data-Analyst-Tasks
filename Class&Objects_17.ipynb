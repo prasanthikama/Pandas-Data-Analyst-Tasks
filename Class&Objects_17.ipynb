{
 "cells": [
  {
   "cell_type": "code",
   "execution_count": 25,
   "id": "7ddaba25-d013-4367-a447-615d01bde75b",
   "metadata": {
    "tags": []
   },
   "outputs": [],
   "source": [
    "class student: ### student class\n",
    "    \n",
    "    #### Attributes \n",
    "    def __init__(self,name,age,marks,school_name,sports):\n",
    "        self.name = name\n",
    "        self.age = age\n",
    "        self.marks = marks\n",
    "        self.school_name = school_name\n",
    "        self.sports = sports\n",
    "    ### method part    \n",
    "    def go_to_school(self):\n",
    "        print(\"Name of student:\",self.name)\n",
    "        print(self.age)\n",
    "        print(self.school_name)\n",
    "        \n",
    "    def write_exam(self):\n",
    "        print(self.name)\n",
    "        print( self.marks)\n",
    "        \n",
    "    def play(self):\n",
    "        print(self.name)\n",
    "        print(self.sports)"
   ]
  },
  {
   "cell_type": "code",
   "execution_count": 26,
   "id": "f89671d3-4d50-4a05-9216-e6a6f4b6d808",
   "metadata": {
    "tags": []
   },
   "outputs": [
    {
     "name": "stdout",
     "output_type": "stream",
     "text": [
      "Name of student: Ram\n",
      "13\n",
      "DAV\n",
      "Ram\n",
      "85\n",
      "Ram\n",
      "Cricket\n"
     ]
    }
   ],
   "source": [
    "ram = student(\"Ram\", 13, 85, \"DAV\", \"Cricket\")\n",
    "ram.go_to_school()\n",
    "ram.write_exam()\n",
    "ram.play()"
   ]
  },
  {
   "cell_type": "code",
   "execution_count": null,
   "id": "c1fac0d3-a7f6-4c8e-aec7-39afe15ad896",
   "metadata": {},
   "outputs": [],
   "source": []
  }
 ],
 "metadata": {
  "kernelspec": {
   "display_name": "Python 3 (ipykernel)",
   "language": "python",
   "name": "python3"
  },
  "language_info": {
   "codemirror_mode": {
    "name": "ipython",
    "version": 3
   },
   "file_extension": ".py",
   "mimetype": "text/x-python",
   "name": "python",
   "nbconvert_exporter": "python",
   "pygments_lexer": "ipython3",
   "version": "3.11.5"
  }
 },
 "nbformat": 4,
 "nbformat_minor": 5
}
