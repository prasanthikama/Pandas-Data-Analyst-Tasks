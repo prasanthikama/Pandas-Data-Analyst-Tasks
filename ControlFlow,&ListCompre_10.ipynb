{
 "cells": [
  {
   "cell_type": "code",
   "execution_count": null,
   "id": "bcd39d55-8b2d-4223-94bc-76d242410b88",
   "metadata": {},
   "outputs": [],
   "source": [
    "### control flow"
   ]
  },
  {
   "cell_type": "code",
   "execution_count": 4,
   "id": "2209d1f7-a7c5-4bc9-8695-b92450866fd5",
   "metadata": {
    "tags": []
   },
   "outputs": [
    {
     "name": "stdout",
     "output_type": "stream",
     "text": [
      "Not a valid\n"
     ]
    }
   ],
   "source": [
    "age = 20\n",
    "if age >= 18:\n",
    "    print(\"valid age\")\n",
    "else:\n",
    "    print(\"Not a valid\")"
   ]
  },
  {
   "cell_type": "code",
   "execution_count": 5,
   "id": "eb0ad83b-ad6c-465c-b87a-5bca7ff79984",
   "metadata": {
    "tags": []
   },
   "outputs": [
    {
     "name": "stdout",
     "output_type": "stream",
     "text": [
      "pass\n"
     ]
    }
   ],
   "source": [
    "marks = 50\n",
    "if marks > 33:\n",
    "    print(\"pass\")\n",
    "else:\n",
    "    print(\"fail\")"
   ]
  },
  {
   "cell_type": "code",
   "execution_count": 10,
   "id": "7490b102-52e2-4e85-80e4-6fb4a3d07594",
   "metadata": {
    "tags": []
   },
   "outputs": [
    {
     "name": "stdout",
     "output_type": "stream",
     "text": [
      "C\n"
     ]
    }
   ],
   "source": [
    "marks = 59\n",
    "if marks > 80:\n",
    "    print(\"A\")\n",
    "elif marks > 60 and marks <=80:\n",
    "    print(\"B\")\n",
    "else:\n",
    "    print(\"C\")"
   ]
  },
  {
   "cell_type": "code",
   "execution_count": 16,
   "id": "67589e83-e384-4e6a-a430-7056ac6f1f71",
   "metadata": {
    "tags": []
   },
   "outputs": [
    {
     "name": "stdin",
     "output_type": "stream",
     "text": [
      "enter the marks 7\n"
     ]
    },
    {
     "name": "stdout",
     "output_type": "stream",
     "text": [
      "grade F\n"
     ]
    }
   ],
   "source": [
    "marks = float(input(\"enter the marks\"))\n",
    "if marks > 90:\n",
    "    print(\"grade A\")\n",
    "elif marks > 80 and marks <=90:\n",
    "    print(\"grade B\")\n",
    "elif marks > 70 and marks <=80:\n",
    "    print(\"grade C\")\n",
    "elif marks > 60 and marks <=70:\n",
    "    print(\"grade D\") \n",
    "elif marks > 50 and marks <=60:\n",
    "    print(\"grade E\")\n",
    "else:\n",
    "    print(\"grade F\")\n"
   ]
  },
  {
   "cell_type": "code",
   "execution_count": null,
   "id": "9f8ab44d-d1e4-4be2-acdb-8145b980e96f",
   "metadata": {},
   "outputs": [],
   "source": [
    "#### Looping Statement or iterative statement ####"
   ]
  },
  {
   "cell_type": "code",
   "execution_count": 41,
   "id": "c3ef2909-d5cd-4d26-99e9-67aa94021332",
   "metadata": {
    "tags": []
   },
   "outputs": [
    {
     "name": "stdin",
     "output_type": "stream",
     "text": [
      "Enter which table you want:  10\n"
     ]
    },
    {
     "name": "stdout",
     "output_type": "stream",
     "text": [
      "10 x 0 = 0\n",
      "10 x 1 = 10\n",
      "10 x 2 = 20\n",
      "10 x 3 = 30\n",
      "10 x 4 = 40\n",
      "10 x 5 = 50\n",
      "10 x 6 = 60\n",
      "10 x 7 = 70\n",
      "10 x 8 = 80\n",
      "10 x 9 = 90\n",
      "10 x 10 = 100\n"
     ]
    }
   ],
   "source": [
    "num = int(input(\"Enter which table you want: \"))\n",
    "for i in range(0, 11):  # Loop from 0 to 10\n",
    "    print(num, 'x', i, '=', num * i)"
   ]
  },
  {
   "cell_type": "code",
   "execution_count": 48,
   "id": "76aac9ed-543a-4a44-a747-0ac0c1fad18f",
   "metadata": {
    "tags": []
   },
   "outputs": [
    {
     "name": "stdin",
     "output_type": "stream",
     "text": [
      "enter the number 9\n"
     ]
    },
    {
     "name": "stdout",
     "output_type": "stream",
     "text": [
      "9 X 1 = 9\n",
      "9 X 2 = 18\n",
      "9 X 3 = 27\n",
      "9 X 4 = 36\n",
      "9 X 5 = 45\n",
      "9 X 6 = 54\n",
      "9 X 7 = 63\n",
      "9 X 8 = 72\n",
      "9 X 9 = 81\n",
      "9 X 10 = 90\n"
     ]
    }
   ],
   "source": [
    "var = int(input(\"enter the number\"))\n",
    "i = 1\n",
    "while i <= 10:\n",
    "    print(var,\"X\",i, \"=\",var*i)\n",
    "    i +=1"
   ]
  },
  {
   "cell_type": "code",
   "execution_count": 57,
   "id": "ea5d6d2b-7e24-4da5-a78b-26913936d19d",
   "metadata": {
    "tags": []
   },
   "outputs": [
    {
     "name": "stdin",
     "output_type": "stream",
     "text": [
      "enter a number 0\n"
     ]
    },
    {
     "name": "stdout",
     "output_type": "stream",
     "text": [
      "0 X 1 = 0\n",
      "0 x 1 = 0\n",
      "0 X 2 = 0\n",
      "0 x 2 = 0\n",
      "0 X 3 = 0\n",
      "0 x 3 = 0\n",
      "0 X 4 = 0\n",
      "0 x 4 = 0\n",
      "0 X 5 = 0\n",
      "0 x 5 = 0\n",
      "0 X 6 = 0\n",
      "0 x 6 = 0\n",
      "0 X 7 = 0\n",
      "0 x 7 = 0\n",
      "0 X 8 = 0\n",
      "0 x 8 = 0\n",
      "0 X 9 = 0\n",
      "0 x 9 = 0\n",
      "0 X 10 = 0\n",
      "0 x 10 = 0\n"
     ]
    }
   ],
   "source": [
    "var = int(input(\"enter a number\"))\n",
    "for i in range(1,11):\n",
    "    print(var,'X',i,'=', var * i)\n"
   ]
  },
  {
   "cell_type": "code",
   "execution_count": 59,
   "id": "b6980205-84b9-4b77-b59d-674e04475155",
   "metadata": {
    "tags": []
   },
   "outputs": [
    {
     "name": "stdout",
     "output_type": "stream",
     "text": [
      "0.0015130043029785156\n"
     ]
    }
   ],
   "source": [
    "#### list comprehantion ####\n",
    "import time\n",
    "lst = []\n",
    "start_time = time.time()\n",
    "for i in range(1,100):\n",
    "    lst.append(i)\n",
    "end_time = time.time()\n",
    "print(end_time - start_time)"
   ]
  },
  {
   "cell_type": "code",
   "execution_count": 2,
   "id": "b9539066-5c1b-4991-a16d-27453a233871",
   "metadata": {
    "tags": []
   },
   "outputs": [
    {
     "data": {
      "text/plain": [
       "[2, 4, 6, 8, 10, 12, 14, 16, 18, 20, 22, 24, 26, 28, 30, 32, 34, 36, 38, 40]"
      ]
     },
     "execution_count": 2,
     "metadata": {},
     "output_type": "execute_result"
    }
   ],
   "source": [
    "lst = [2*i for i in range(1,21)]\n",
    "lst"
   ]
  },
  {
   "cell_type": "code",
   "execution_count": 15,
   "id": "d1c05343-e313-4611-856f-3ba2df2c8245",
   "metadata": {},
   "outputs": [
    {
     "name": "stdout",
     "output_type": "stream",
     "text": [
      "[2, 4, 6, 8, 10, 12, 14, 16, 18, 20, 22, 24, 26, 28, 30, 32, 34, 36, 38, 40, 42, 44, 46, 48, 50]\n",
      "\n",
      "[1, 3, 5, 7, 9, 11, 13, 15, 17, 19, 21, 23, 25, 27, 29, 31, 33, 35, 37, 39, 41, 43, 45, 47, 49]\n"
     ]
    }
   ],
   "source": [
    "# to genarate two lists; one consisting of all even number betwen 1 to 100 and the other list\n",
    "# consisting of all odd number between 1 to 100\n",
    "even_list = []\n",
    "odd_list = []\n",
    "for  i in range(1,51):\n",
    "    if i%2 == 0:\n",
    "        even_list.append(i)\n",
    "    else:\n",
    "        odd_list.append(i)\n",
    "print(even_list)\n",
    "print()\n",
    "print(odd_list)\n"
   ]
  },
  {
   "cell_type": "markdown",
   "id": "fa578129-34a4-422b-9c52-e4e2d49c1db5",
   "metadata": {},
   "source": [
    "###list compresion ###\n"
   ]
  },
  {
   "cell_type": "code",
   "execution_count": 17,
   "id": "67d7bcbd-37b0-4d8e-8c04-598dde4744ba",
   "metadata": {
    "tags": []
   },
   "outputs": [
    {
     "name": "stdout",
     "output_type": "stream",
     "text": [
      "[2, 4, 6, 8, 10, 12, 14, 16, 18, 20, 22, 24, 26, 28, 30, 32, 34, 36, 38, 40, 42, 44, 46, 48, 50, 52, 54, 56, 58, 60, 62, 64, 66, 68, 70, 72, 74, 76, 78, 80, 82, 84, 86, 88, 90, 92, 94, 96, 98, 100]\n",
      "[1, 3, 5, 7, 9, 11, 13, 15, 17, 19, 21, 23, 25, 27, 29, 31, 33, 35, 37, 39, 41, 43, 45, 47, 49, 51, 53, 55, 57, 59, 61, 63, 65, 67, 69, 71, 73, 75, 77, 79, 81, 83, 85, 87, 89, 91, 93, 95, 97, 99]\n"
     ]
    }
   ],
   "source": [
    "even_list = [i for i in range(1,101) if i%2 == 0]\n",
    "odd_list = [i for i in range(1,101) if i%2 != 0]\n",
    "print(even_list)\n",
    "print(odd_list)"
   ]
  },
  {
   "cell_type": "code",
   "execution_count": null,
   "id": "ddaa157b-5393-48d0-814d-faa76cd7b953",
   "metadata": {},
   "outputs": [],
   "source": []
  },
  {
   "cell_type": "code",
   "execution_count": null,
   "id": "e87aa1c6-21e2-4d8b-9989-c40acd0068c6",
   "metadata": {},
   "outputs": [],
   "source": []
  },
  {
   "cell_type": "code",
   "execution_count": null,
   "id": "b7f5a67f-3551-49f0-a9c3-e9210f2ca308",
   "metadata": {},
   "outputs": [],
   "source": []
  }
 ],
 "metadata": {
  "kernelspec": {
   "display_name": "Python 3 (ipykernel)",
   "language": "python",
   "name": "python3"
  },
  "language_info": {
   "codemirror_mode": {
    "name": "ipython",
    "version": 3
   },
   "file_extension": ".py",
   "mimetype": "text/x-python",
   "name": "python",
   "nbconvert_exporter": "python",
   "pygments_lexer": "ipython3",
   "version": "3.11.5"
  }
 },
 "nbformat": 4,
 "nbformat_minor": 5
}
