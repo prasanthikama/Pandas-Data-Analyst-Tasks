{
 "cells": [
  {
   "cell_type": "code",
   "execution_count": 3,
   "id": "c423f776-8e4b-4acc-a46d-3d9db517c346",
   "metadata": {
    "tags": []
   },
   "outputs": [],
   "source": [
    "import  pandas as pd\n",
    "import numpy as np"
   ]
  },
  {
   "cell_type": "code",
   "execution_count": 4,
   "id": "c85b1713-9b02-4efd-8fae-5039e5ccc408",
   "metadata": {
    "tags": []
   },
   "outputs": [],
   "source": [
    "data = pd.read_excel(\"C:/Users/prasa/OneDrive/Documents/Python_class_bepec/uncleaned bike sales data.xlsx\")"
   ]
  },
  {
   "cell_type": "code",
   "execution_count": 5,
   "id": "2f87b15d-f14a-4764-9f3d-c5b0626a2a9b",
   "metadata": {
    "tags": []
   },
   "outputs": [
    {
     "data": {
      "text/plain": [
       "(89, 19)"
      ]
     },
     "execution_count": 5,
     "metadata": {},
     "output_type": "execute_result"
    }
   ],
   "source": [
    "data.shape"
   ]
  },
  {
   "cell_type": "code",
   "execution_count": 6,
   "id": "39f5e528-0656-455c-b2f8-67264d30251e",
   "metadata": {
    "tags": []
   },
   "outputs": [
    {
     "data": {
      "text/html": [
       "<div>\n",
       "<style scoped>\n",
       "    .dataframe tbody tr th:only-of-type {\n",
       "        vertical-align: middle;\n",
       "    }\n",
       "\n",
       "    .dataframe tbody tr th {\n",
       "        vertical-align: top;\n",
       "    }\n",
       "\n",
       "    .dataframe thead th {\n",
       "        text-align: right;\n",
       "    }\n",
       "</style>\n",
       "<table border=\"1\" class=\"dataframe\">\n",
       "  <thead>\n",
       "    <tr style=\"text-align: right;\">\n",
       "      <th></th>\n",
       "      <th>Sales_Order #</th>\n",
       "      <th>Date</th>\n",
       "      <th>Day</th>\n",
       "      <th>Month</th>\n",
       "      <th>Year</th>\n",
       "      <th>Customer_Age</th>\n",
       "      <th>Age_Group</th>\n",
       "      <th>Customer_Gender</th>\n",
       "      <th>Country</th>\n",
       "      <th>State</th>\n",
       "      <th>Product_Category</th>\n",
       "      <th>Sub_Category</th>\n",
       "      <th>Product_Description</th>\n",
       "      <th>Order_Quantity</th>\n",
       "      <th>Unit_Cost</th>\n",
       "      <th>Unit_Price</th>\n",
       "      <th>Profit</th>\n",
       "      <th>Cost</th>\n",
       "      <th>Revenue</th>\n",
       "    </tr>\n",
       "  </thead>\n",
       "  <tbody>\n",
       "    <tr>\n",
       "      <th>84</th>\n",
       "      <td>261778</td>\n",
       "      <td>2021-12-22</td>\n",
       "      <td>22.0</td>\n",
       "      <td>December</td>\n",
       "      <td>2021</td>\n",
       "      <td>41</td>\n",
       "      <td>Adults (35-64)</td>\n",
       "      <td>M</td>\n",
       "      <td>Germany</td>\n",
       "      <td>Hessen</td>\n",
       "      <td>Bikes</td>\n",
       "      <td>Mountain Bikes</td>\n",
       "      <td>Mountain-200 Silver, 38</td>\n",
       "      <td>1.0</td>\n",
       "      <td>1266</td>\n",
       "      <td>2320</td>\n",
       "      <td>1054</td>\n",
       "      <td>1266</td>\n",
       "      <td>2320</td>\n",
       "    </tr>\n",
       "    <tr>\n",
       "      <th>85</th>\n",
       "      <td>261779</td>\n",
       "      <td>2021-12-23</td>\n",
       "      <td>23.0</td>\n",
       "      <td>December</td>\n",
       "      <td>2021</td>\n",
       "      <td>30</td>\n",
       "      <td>Young Adults (25-34)</td>\n",
       "      <td>F</td>\n",
       "      <td>United States</td>\n",
       "      <td>Oregon</td>\n",
       "      <td>Bikes</td>\n",
       "      <td>Mountain Bikes</td>\n",
       "      <td>Mountain-200 Silver, 42</td>\n",
       "      <td>1.0</td>\n",
       "      <td>1266</td>\n",
       "      <td>2320</td>\n",
       "      <td>1054</td>\n",
       "      <td>1266</td>\n",
       "      <td>2320</td>\n",
       "    </tr>\n",
       "    <tr>\n",
       "      <th>86</th>\n",
       "      <td>261780</td>\n",
       "      <td>2021-12-23</td>\n",
       "      <td>23.0</td>\n",
       "      <td>December</td>\n",
       "      <td>2021</td>\n",
       "      <td>31</td>\n",
       "      <td>Young Adults (25-34)</td>\n",
       "      <td>F</td>\n",
       "      <td>Canada</td>\n",
       "      <td>British Columbia</td>\n",
       "      <td>Bikes</td>\n",
       "      <td>Mountain Bikes</td>\n",
       "      <td>Mountain-200 Black, 42</td>\n",
       "      <td>1.0</td>\n",
       "      <td>1252</td>\n",
       "      <td>2295</td>\n",
       "      <td>1043</td>\n",
       "      <td>1252</td>\n",
       "      <td>2295</td>\n",
       "    </tr>\n",
       "    <tr>\n",
       "      <th>87</th>\n",
       "      <td>261781</td>\n",
       "      <td>2021-12-23</td>\n",
       "      <td>23.0</td>\n",
       "      <td>December</td>\n",
       "      <td>2021</td>\n",
       "      <td>35</td>\n",
       "      <td>Adults (35-64)</td>\n",
       "      <td>F</td>\n",
       "      <td>United States</td>\n",
       "      <td>California</td>\n",
       "      <td>Bikes</td>\n",
       "      <td>Mountain Bikes</td>\n",
       "      <td>Mountain-500 Black, 42</td>\n",
       "      <td>1.0</td>\n",
       "      <td>295</td>\n",
       "      <td>540</td>\n",
       "      <td>245</td>\n",
       "      <td>295</td>\n",
       "      <td>540</td>\n",
       "    </tr>\n",
       "    <tr>\n",
       "      <th>88</th>\n",
       "      <td>261782</td>\n",
       "      <td>2021-12-24</td>\n",
       "      <td>24.0</td>\n",
       "      <td>December</td>\n",
       "      <td>2021</td>\n",
       "      <td>38</td>\n",
       "      <td>Adults (35-64)</td>\n",
       "      <td>M</td>\n",
       "      <td>Australia</td>\n",
       "      <td>Queensland</td>\n",
       "      <td>Bikes</td>\n",
       "      <td>Mountain Bikes</td>\n",
       "      <td>Mountain-200 Black, 42</td>\n",
       "      <td>4.0</td>\n",
       "      <td>1252</td>\n",
       "      <td>2295</td>\n",
       "      <td>4172</td>\n",
       "      <td>5008</td>\n",
       "      <td>9180</td>\n",
       "    </tr>\n",
       "  </tbody>\n",
       "</table>\n",
       "</div>"
      ],
      "text/plain": [
       "    Sales_Order #       Date   Day     Month  Year  Customer_Age  \\\n",
       "84         261778 2021-12-22  22.0  December  2021            41   \n",
       "85         261779 2021-12-23  23.0  December  2021            30   \n",
       "86         261780 2021-12-23  23.0  December  2021            31   \n",
       "87         261781 2021-12-23  23.0  December  2021            35   \n",
       "88         261782 2021-12-24  24.0  December  2021            38   \n",
       "\n",
       "               Age_Group Customer_Gender        Country             State  \\\n",
       "84        Adults (35-64)               M        Germany            Hessen   \n",
       "85  Young Adults (25-34)               F  United States            Oregon   \n",
       "86  Young Adults (25-34)               F         Canada  British Columbia   \n",
       "87        Adults (35-64)               F  United States        California   \n",
       "88        Adults (35-64)               M      Australia        Queensland   \n",
       "\n",
       "   Product_Category    Sub_Category      Product_Description  Order_Quantity  \\\n",
       "84            Bikes  Mountain Bikes  Mountain-200 Silver, 38             1.0   \n",
       "85            Bikes  Mountain Bikes  Mountain-200 Silver, 42             1.0   \n",
       "86            Bikes  Mountain Bikes   Mountain-200 Black, 42             1.0   \n",
       "87            Bikes  Mountain Bikes   Mountain-500 Black, 42             1.0   \n",
       "88            Bikes  Mountain Bikes   Mountain-200 Black, 42             4.0   \n",
       "\n",
       "     Unit_Cost    Unit_Price    Profit    Cost   Revenue  \n",
       "84         1266          2320      1054    1266     2320  \n",
       "85         1266          2320      1054    1266     2320  \n",
       "86         1252          2295      1043    1252     2295  \n",
       "87          295           540       245     295      540  \n",
       "88         1252          2295      4172    5008     9180  "
      ]
     },
     "execution_count": 6,
     "metadata": {},
     "output_type": "execute_result"
    }
   ],
   "source": [
    "# find the shape #\n",
    "data.tail()"
   ]
  },
  {
   "cell_type": "code",
   "execution_count": 7,
   "id": "520a55f9-d76e-4a5f-8629-53e65895a31e",
   "metadata": {
    "tags": []
   },
   "outputs": [
    {
     "data": {
      "text/plain": [
       "(89, 19)"
      ]
     },
     "execution_count": 7,
     "metadata": {},
     "output_type": "execute_result"
    }
   ],
   "source": [
    "data.shape"
   ]
  },
  {
   "cell_type": "code",
   "execution_count": 8,
   "id": "2540e5f2-cde6-4572-97b2-05eb8228ed89",
   "metadata": {
    "tags": []
   },
   "outputs": [
    {
     "data": {
      "text/plain": [
       "Index(['Sales_Order #', 'Date', 'Day', 'Month', 'Year', 'Customer_Age',\n",
       "       'Age_Group', 'Customer_Gender', 'Country', 'State', 'Product_Category',\n",
       "       'Sub_Category', 'Product_Description', 'Order_Quantity', ' Unit_Cost ',\n",
       "       ' Unit_Price ', ' Profit ', ' Cost ', 'Revenue'],\n",
       "      dtype='object')"
      ]
     },
     "execution_count": 8,
     "metadata": {},
     "output_type": "execute_result"
    }
   ],
   "source": [
    "# find columns#\n",
    "data.columns"
   ]
  },
  {
   "cell_type": "code",
   "execution_count": 9,
   "id": "1dedcae9-4449-45d0-9e6e-8aff09cdb85c",
   "metadata": {
    "tags": []
   },
   "outputs": [
    {
     "name": "stdout",
     "output_type": "stream",
     "text": [
      "<class 'pandas.core.frame.DataFrame'>\n",
      "RangeIndex: 89 entries, 0 to 88\n",
      "Data columns (total 19 columns):\n",
      " #   Column               Non-Null Count  Dtype         \n",
      "---  ------               --------------  -----         \n",
      " 0   Sales_Order #        89 non-null     int64         \n",
      " 1   Date                 89 non-null     datetime64[ns]\n",
      " 2   Day                  88 non-null     float64       \n",
      " 3   Month                89 non-null     object        \n",
      " 4   Year                 89 non-null     int64         \n",
      " 5   Customer_Age         89 non-null     int64         \n",
      " 6   Age_Group            88 non-null     object        \n",
      " 7   Customer_Gender      89 non-null     object        \n",
      " 8   Country              89 non-null     object        \n",
      " 9   State                89 non-null     object        \n",
      " 10  Product_Category     89 non-null     object        \n",
      " 11  Sub_Category         89 non-null     object        \n",
      " 12  Product_Description  88 non-null     object        \n",
      " 13  Order_Quantity       88 non-null     float64       \n",
      " 14   Unit_Cost           89 non-null     int64         \n",
      " 15   Unit_Price          89 non-null     int64         \n",
      " 16   Profit              89 non-null     int64         \n",
      " 17   Cost                89 non-null     int64         \n",
      " 18  Revenue              89 non-null     int64         \n",
      "dtypes: datetime64[ns](1), float64(2), int64(8), object(8)\n",
      "memory usage: 13.3+ KB\n"
     ]
    }
   ],
   "source": [
    "#how to handling data find the info#\n",
    "data.info()"
   ]
  },
  {
   "cell_type": "code",
   "execution_count": 10,
   "id": "51c7031d-0330-4970-b283-2eb57d12ec6a",
   "metadata": {
    "tags": []
   },
   "outputs": [
    {
     "name": "stdout",
     "output_type": "stream",
     "text": [
      "<class 'pandas.core.frame.DataFrame'>\n",
      "RangeIndex: 89 entries, 0 to 88\n",
      "Data columns (total 19 columns):\n",
      " #   Column               Non-Null Count  Dtype         \n",
      "---  ------               --------------  -----         \n",
      " 0   Sales_Order #        89 non-null     int64         \n",
      " 1   Date                 89 non-null     datetime64[ns]\n",
      " 2   Day                  88 non-null     float64       \n",
      " 3   Month                89 non-null     object        \n",
      " 4   Year                 89 non-null     int64         \n",
      " 5   Customer_Age         89 non-null     int64         \n",
      " 6   Age_Group            88 non-null     object        \n",
      " 7   Customer_Gender      89 non-null     object        \n",
      " 8   Country              89 non-null     object        \n",
      " 9   State                89 non-null     object        \n",
      " 10  Product_Category     89 non-null     object        \n",
      " 11  Sub_Category         89 non-null     object        \n",
      " 12  Product_Description  88 non-null     object        \n",
      " 13  Order_Quantity       88 non-null     float64       \n",
      " 14   Unit_Cost           89 non-null     int64         \n",
      " 15   Unit_Price          89 non-null     int64         \n",
      " 16   Profit              89 non-null     int64         \n",
      " 17   Cost                89 non-null     int64         \n",
      " 18  Revenue              89 non-null     int64         \n",
      "dtypes: datetime64[ns](1), float64(2), int64(8), object(8)\n",
      "memory usage: 13.3+ KB\n"
     ]
    },
    {
     "data": {
      "text/plain": [
       "NoneType"
      ]
     },
     "execution_count": 10,
     "metadata": {},
     "output_type": "execute_result"
    }
   ],
   "source": [
    "x = data.info()\n",
    "type(x)"
   ]
  },
  {
   "cell_type": "code",
   "execution_count": 11,
   "id": "0d667133-76f3-49c5-b94a-f35158f97167",
   "metadata": {
    "tags": []
   },
   "outputs": [
    {
     "name": "stdout",
     "output_type": "stream",
     "text": [
      "Sales_Order # 0.0\n",
      "Date 0.0\n",
      "Day 1.1235955056179776\n",
      "Month 0.0\n",
      "Year 0.0\n",
      "Customer_Age 0.0\n",
      "Age_Group 1.1235955056179776\n",
      "Customer_Gender 0.0\n",
      "Country 0.0\n",
      "State 0.0\n",
      "Product_Category 0.0\n",
      "Sub_Category 0.0\n",
      "Product_Description 1.1235955056179776\n",
      "Order_Quantity 1.1235955056179776\n",
      " Unit_Cost  0.0\n",
      " Unit_Price  0.0\n",
      " Profit  0.0\n",
      " Cost  0.0\n",
      "Revenue 0.0\n"
     ]
    }
   ],
   "source": [
    "for i in data.columns:\n",
    "    print(i,data[i].isna().sum()/data.shape[0]*100)"
   ]
  },
  {
   "cell_type": "raw",
   "id": "291780cb-6653-4789-b8b9-b6fbc50f83a4",
   "metadata": {
    "tags": []
   },
   "source": [
    "# handling Null values #\n",
    "# 1.removing the entire row and entire columns\n",
    "#2.remove the entire column \n",
    "#3. imputation strategy(mean.medium,Mode)"
   ]
  },
  {
   "cell_type": "code",
   "execution_count": 12,
   "id": "1ea36016-5a6e-44c0-bb1f-3a87fcd74f5c",
   "metadata": {
    "tags": []
   },
   "outputs": [
    {
     "name": "stdout",
     "output_type": "stream",
     "text": [
      "['Day', 'Age_Group', 'Product_Description', 'Order_Quantity']\n"
     ]
    }
   ],
   "source": [
    "lst = []\n",
    "for i in data.columns:\n",
    "    if data[i].isna().sum()>0:\n",
    "        lst.append(i)\n",
    "print(lst)"
   ]
  },
  {
   "cell_type": "code",
   "execution_count": 13,
   "id": "1291a873-6819-48b4-8220-52854d2c7a5c",
   "metadata": {
    "tags": []
   },
   "outputs": [
    {
     "data": {
      "text/plain": [
       "Index(['Sales_Order #', 'Date', 'Day', 'Month', 'Year', 'Customer_Age',\n",
       "       'Age_Group', 'Customer_Gender', 'Country', 'State', 'Product_Category',\n",
       "       'Sub_Category', 'Product_Description', 'Order_Quantity', ' Unit_Cost ',\n",
       "       ' Unit_Price ', ' Profit ', ' Cost ', 'Revenue'],\n",
       "      dtype='object')"
      ]
     },
     "execution_count": 13,
     "metadata": {},
     "output_type": "execute_result"
    }
   ],
   "source": [
    "data.columns"
   ]
  },
  {
   "cell_type": "code",
   "execution_count": 14,
   "id": "28827d76-e326-448b-9891-b8bea379d0e8",
   "metadata": {
    "tags": []
   },
   "outputs": [
    {
     "data": {
      "text/plain": [
       "Sales_Order #          0\n",
       "Date                   0\n",
       "Day                    1\n",
       "Month                  0\n",
       "Year                   0\n",
       "Customer_Age           0\n",
       "Age_Group              1\n",
       "Customer_Gender        0\n",
       "Country                0\n",
       "State                  0\n",
       "Product_Category       0\n",
       "Sub_Category           0\n",
       "Product_Description    1\n",
       "Order_Quantity         1\n",
       " Unit_Cost             0\n",
       " Unit_Price            0\n",
       " Profit                0\n",
       " Cost                  0\n",
       "Revenue                0\n",
       "dtype: int64"
      ]
     },
     "execution_count": 14,
     "metadata": {},
     "output_type": "execute_result"
    }
   ],
   "source": [
    "data.isna().sum()"
   ]
  },
  {
   "cell_type": "code",
   "execution_count": 15,
   "id": "ffec8b07-bd96-4a5c-a026-8d6dce7255b7",
   "metadata": {
    "tags": []
   },
   "outputs": [
    {
     "name": "stdout",
     "output_type": "stream",
     "text": [
      "<class 'pandas.core.frame.DataFrame'>\n",
      "RangeIndex: 89 entries, 0 to 88\n",
      "Data columns (total 19 columns):\n",
      " #   Column               Non-Null Count  Dtype         \n",
      "---  ------               --------------  -----         \n",
      " 0   Sales_Order #        89 non-null     int64         \n",
      " 1   Date                 89 non-null     datetime64[ns]\n",
      " 2   Day                  88 non-null     float64       \n",
      " 3   Month                89 non-null     object        \n",
      " 4   Year                 89 non-null     int64         \n",
      " 5   Customer_Age         89 non-null     int64         \n",
      " 6   Age_Group            88 non-null     object        \n",
      " 7   Customer_Gender      89 non-null     object        \n",
      " 8   Country              89 non-null     object        \n",
      " 9   State                89 non-null     object        \n",
      " 10  Product_Category     89 non-null     object        \n",
      " 11  Sub_Category         89 non-null     object        \n",
      " 12  Product_Description  88 non-null     object        \n",
      " 13  Order_Quantity       88 non-null     float64       \n",
      " 14   Unit_Cost           89 non-null     int64         \n",
      " 15   Unit_Price          89 non-null     int64         \n",
      " 16   Profit              89 non-null     int64         \n",
      " 17   Cost                89 non-null     int64         \n",
      " 18  Revenue              89 non-null     int64         \n",
      "dtypes: datetime64[ns](1), float64(2), int64(8), object(8)\n",
      "memory usage: 13.3+ KB\n"
     ]
    }
   ],
   "source": [
    "data.info()"
   ]
  },
  {
   "cell_type": "code",
   "execution_count": 16,
   "id": "bc0de482-71cf-41fc-9605-34494ce925c3",
   "metadata": {},
   "outputs": [],
   "source": [
    "# imputation \n",
    "df3 = data.copy()\n",
    "df3[\"Day\"].fillna(df3[\"Day\"].mode(),inplace= True)"
   ]
  },
  {
   "cell_type": "code",
   "execution_count": 17,
   "id": "03c3df1a-1568-4507-b0cc-264d5938d32a",
   "metadata": {},
   "outputs": [
    {
     "name": "stdout",
     "output_type": "stream",
     "text": [
      "<class 'pandas.core.frame.DataFrame'>\n",
      "RangeIndex: 89 entries, 0 to 88\n",
      "Data columns (total 19 columns):\n",
      " #   Column               Non-Null Count  Dtype         \n",
      "---  ------               --------------  -----         \n",
      " 0   Sales_Order #        89 non-null     int64         \n",
      " 1   Date                 89 non-null     datetime64[ns]\n",
      " 2   Day                  88 non-null     float64       \n",
      " 3   Month                89 non-null     object        \n",
      " 4   Year                 89 non-null     int64         \n",
      " 5   Customer_Age         89 non-null     int64         \n",
      " 6   Age_Group            88 non-null     object        \n",
      " 7   Customer_Gender      89 non-null     object        \n",
      " 8   Country              89 non-null     object        \n",
      " 9   State                89 non-null     object        \n",
      " 10  Product_Category     89 non-null     object        \n",
      " 11  Sub_Category         89 non-null     object        \n",
      " 12  Product_Description  88 non-null     object        \n",
      " 13  Order_Quantity       88 non-null     float64       \n",
      " 14   Unit_Cost           89 non-null     int64         \n",
      " 15   Unit_Price          89 non-null     int64         \n",
      " 16   Profit              89 non-null     int64         \n",
      " 17   Cost                89 non-null     int64         \n",
      " 18  Revenue              89 non-null     int64         \n",
      "dtypes: datetime64[ns](1), float64(2), int64(8), object(8)\n",
      "memory usage: 13.3+ KB\n"
     ]
    }
   ],
   "source": [
    "data.info()"
   ]
  },
  {
   "cell_type": "code",
   "execution_count": 18,
   "id": "0d87c003-e6a9-473b-ad55-e6202c5112a4",
   "metadata": {},
   "outputs": [],
   "source": [
    "# Handling continous data #"
   ]
  },
  {
   "cell_type": "code",
   "execution_count": 19,
   "id": "38dc1523-92a7-4d9f-9c0f-1b9eb2414c7d",
   "metadata": {},
   "outputs": [
    {
     "data": {
      "text/plain": [
       "{0, 295, 308, 420, 1252, 1266, 1898, 1912}"
      ]
     },
     "execution_count": 19,
     "metadata": {},
     "output_type": "execute_result"
    }
   ],
   "source": [
    "set(data[\" Unit_Cost \"])"
   ]
  },
  {
   "cell_type": "code",
   "execution_count": 20,
   "id": "5f1349be-7394-4600-8658-19a6ee5de9c5",
   "metadata": {
    "tags": []
   },
   "outputs": [],
   "source": [
    "#how fill missing values with median values#\n",
    "median_value = data[\" Unit_Cost \"].median()\n",
    "df3[' Unit_Cost ' ].replace(0, median_value,inplace = True)"
   ]
  },
  {
   "cell_type": "code",
   "execution_count": 21,
   "id": "f7c14c28-6bfe-4c06-bcdf-ef64589f1469",
   "metadata": {
    "tags": []
   },
   "outputs": [
    {
     "data": {
      "text/html": [
       "<div>\n",
       "<style scoped>\n",
       "    .dataframe tbody tr th:only-of-type {\n",
       "        vertical-align: middle;\n",
       "    }\n",
       "\n",
       "    .dataframe tbody tr th {\n",
       "        vertical-align: top;\n",
       "    }\n",
       "\n",
       "    .dataframe thead th {\n",
       "        text-align: right;\n",
       "    }\n",
       "</style>\n",
       "<table border=\"1\" class=\"dataframe\">\n",
       "  <thead>\n",
       "    <tr style=\"text-align: right;\">\n",
       "      <th></th>\n",
       "      <th>Sales_Order #</th>\n",
       "      <th>Date</th>\n",
       "      <th>Day</th>\n",
       "      <th>Month</th>\n",
       "      <th>Year</th>\n",
       "      <th>Customer_Age</th>\n",
       "      <th>Age_Group</th>\n",
       "      <th>Customer_Gender</th>\n",
       "      <th>Country</th>\n",
       "      <th>State</th>\n",
       "      <th>Product_Category</th>\n",
       "      <th>Sub_Category</th>\n",
       "      <th>Product_Description</th>\n",
       "      <th>Order_Quantity</th>\n",
       "      <th>Unit_Cost</th>\n",
       "      <th>Unit_Price</th>\n",
       "      <th>Profit</th>\n",
       "      <th>Cost</th>\n",
       "      <th>Revenue</th>\n",
       "    </tr>\n",
       "  </thead>\n",
       "  <tbody>\n",
       "    <tr>\n",
       "      <th>0</th>\n",
       "      <td>261695</td>\n",
       "      <td>2021-12-01</td>\n",
       "      <td>1.0</td>\n",
       "      <td>December</td>\n",
       "      <td>2021</td>\n",
       "      <td>39</td>\n",
       "      <td>Adults (35-64)</td>\n",
       "      <td>F</td>\n",
       "      <td>United States</td>\n",
       "      <td>California</td>\n",
       "      <td>Bikes</td>\n",
       "      <td>Mountain Bikes</td>\n",
       "      <td>Mountain-200 Black, 46</td>\n",
       "      <td>4.0</td>\n",
       "      <td>1252</td>\n",
       "      <td>2295</td>\n",
       "      <td>4172</td>\n",
       "      <td>5008</td>\n",
       "      <td>9180</td>\n",
       "    </tr>\n",
       "    <tr>\n",
       "      <th>1</th>\n",
       "      <td>261695</td>\n",
       "      <td>2021-12-01</td>\n",
       "      <td>1.0</td>\n",
       "      <td>December</td>\n",
       "      <td>2021</td>\n",
       "      <td>44</td>\n",
       "      <td>Adults (35-64)</td>\n",
       "      <td>M</td>\n",
       "      <td>United Kingdom</td>\n",
       "      <td>England</td>\n",
       "      <td>Bikes</td>\n",
       "      <td>Mountain Bikes</td>\n",
       "      <td>Mountain-200 Silver, 42</td>\n",
       "      <td>1.0</td>\n",
       "      <td>1266</td>\n",
       "      <td>2320</td>\n",
       "      <td>1054</td>\n",
       "      <td>1266</td>\n",
       "      <td>2320</td>\n",
       "    </tr>\n",
       "    <tr>\n",
       "      <th>2</th>\n",
       "      <td>261697</td>\n",
       "      <td>2021-12-02</td>\n",
       "      <td>2.0</td>\n",
       "      <td>December</td>\n",
       "      <td>2021</td>\n",
       "      <td>37</td>\n",
       "      <td>Adults (35-64)</td>\n",
       "      <td>M</td>\n",
       "      <td>United States</td>\n",
       "      <td>California</td>\n",
       "      <td>Bikes</td>\n",
       "      <td>Mountain Bikes</td>\n",
       "      <td>Mountain-400-W Silver, 46</td>\n",
       "      <td>2.0</td>\n",
       "      <td>420</td>\n",
       "      <td>769</td>\n",
       "      <td>698</td>\n",
       "      <td>840</td>\n",
       "      <td>1538</td>\n",
       "    </tr>\n",
       "    <tr>\n",
       "      <th>3</th>\n",
       "      <td>261698</td>\n",
       "      <td>2021-12-02</td>\n",
       "      <td>2.0</td>\n",
       "      <td>December</td>\n",
       "      <td>2021</td>\n",
       "      <td>31</td>\n",
       "      <td>Young Adults (25-34)</td>\n",
       "      <td>F</td>\n",
       "      <td>Australia</td>\n",
       "      <td>New South Wales</td>\n",
       "      <td>Bikes</td>\n",
       "      <td>Mountain Bikes</td>\n",
       "      <td>Mountain-400-W Silver, 42</td>\n",
       "      <td>1.0</td>\n",
       "      <td>420</td>\n",
       "      <td>769</td>\n",
       "      <td>349</td>\n",
       "      <td>420</td>\n",
       "      <td>769</td>\n",
       "    </tr>\n",
       "    <tr>\n",
       "      <th>4</th>\n",
       "      <td>261699</td>\n",
       "      <td>2021-12-03</td>\n",
       "      <td>3.0</td>\n",
       "      <td>December</td>\n",
       "      <td>2021</td>\n",
       "      <td>37</td>\n",
       "      <td>Adults (35-64)</td>\n",
       "      <td>F</td>\n",
       "      <td>United  States</td>\n",
       "      <td>California</td>\n",
       "      <td>Bikes</td>\n",
       "      <td>Mountain Bikes</td>\n",
       "      <td>Mountain-200 Black, 46</td>\n",
       "      <td>2.0</td>\n",
       "      <td>1252</td>\n",
       "      <td>2295</td>\n",
       "      <td>2086</td>\n",
       "      <td>0</td>\n",
       "      <td>4590</td>\n",
       "    </tr>\n",
       "    <tr>\n",
       "      <th>...</th>\n",
       "      <td>...</td>\n",
       "      <td>...</td>\n",
       "      <td>...</td>\n",
       "      <td>...</td>\n",
       "      <td>...</td>\n",
       "      <td>...</td>\n",
       "      <td>...</td>\n",
       "      <td>...</td>\n",
       "      <td>...</td>\n",
       "      <td>...</td>\n",
       "      <td>...</td>\n",
       "      <td>...</td>\n",
       "      <td>...</td>\n",
       "      <td>...</td>\n",
       "      <td>...</td>\n",
       "      <td>...</td>\n",
       "      <td>...</td>\n",
       "      <td>...</td>\n",
       "      <td>...</td>\n",
       "    </tr>\n",
       "    <tr>\n",
       "      <th>84</th>\n",
       "      <td>261778</td>\n",
       "      <td>2021-12-22</td>\n",
       "      <td>22.0</td>\n",
       "      <td>December</td>\n",
       "      <td>2021</td>\n",
       "      <td>41</td>\n",
       "      <td>Adults (35-64)</td>\n",
       "      <td>M</td>\n",
       "      <td>Germany</td>\n",
       "      <td>Hessen</td>\n",
       "      <td>Bikes</td>\n",
       "      <td>Mountain Bikes</td>\n",
       "      <td>Mountain-200 Silver, 38</td>\n",
       "      <td>1.0</td>\n",
       "      <td>1266</td>\n",
       "      <td>2320</td>\n",
       "      <td>1054</td>\n",
       "      <td>1266</td>\n",
       "      <td>2320</td>\n",
       "    </tr>\n",
       "    <tr>\n",
       "      <th>85</th>\n",
       "      <td>261779</td>\n",
       "      <td>2021-12-23</td>\n",
       "      <td>23.0</td>\n",
       "      <td>December</td>\n",
       "      <td>2021</td>\n",
       "      <td>30</td>\n",
       "      <td>Young Adults (25-34)</td>\n",
       "      <td>F</td>\n",
       "      <td>United States</td>\n",
       "      <td>Oregon</td>\n",
       "      <td>Bikes</td>\n",
       "      <td>Mountain Bikes</td>\n",
       "      <td>Mountain-200 Silver, 42</td>\n",
       "      <td>1.0</td>\n",
       "      <td>1266</td>\n",
       "      <td>2320</td>\n",
       "      <td>1054</td>\n",
       "      <td>1266</td>\n",
       "      <td>2320</td>\n",
       "    </tr>\n",
       "    <tr>\n",
       "      <th>86</th>\n",
       "      <td>261780</td>\n",
       "      <td>2021-12-23</td>\n",
       "      <td>23.0</td>\n",
       "      <td>December</td>\n",
       "      <td>2021</td>\n",
       "      <td>31</td>\n",
       "      <td>Young Adults (25-34)</td>\n",
       "      <td>F</td>\n",
       "      <td>Canada</td>\n",
       "      <td>British Columbia</td>\n",
       "      <td>Bikes</td>\n",
       "      <td>Mountain Bikes</td>\n",
       "      <td>Mountain-200 Black, 42</td>\n",
       "      <td>1.0</td>\n",
       "      <td>1252</td>\n",
       "      <td>2295</td>\n",
       "      <td>1043</td>\n",
       "      <td>1252</td>\n",
       "      <td>2295</td>\n",
       "    </tr>\n",
       "    <tr>\n",
       "      <th>87</th>\n",
       "      <td>261781</td>\n",
       "      <td>2021-12-23</td>\n",
       "      <td>23.0</td>\n",
       "      <td>December</td>\n",
       "      <td>2021</td>\n",
       "      <td>35</td>\n",
       "      <td>Adults (35-64)</td>\n",
       "      <td>F</td>\n",
       "      <td>United States</td>\n",
       "      <td>California</td>\n",
       "      <td>Bikes</td>\n",
       "      <td>Mountain Bikes</td>\n",
       "      <td>Mountain-500 Black, 42</td>\n",
       "      <td>1.0</td>\n",
       "      <td>295</td>\n",
       "      <td>540</td>\n",
       "      <td>245</td>\n",
       "      <td>295</td>\n",
       "      <td>540</td>\n",
       "    </tr>\n",
       "    <tr>\n",
       "      <th>88</th>\n",
       "      <td>261782</td>\n",
       "      <td>2021-12-24</td>\n",
       "      <td>24.0</td>\n",
       "      <td>December</td>\n",
       "      <td>2021</td>\n",
       "      <td>38</td>\n",
       "      <td>Adults (35-64)</td>\n",
       "      <td>M</td>\n",
       "      <td>Australia</td>\n",
       "      <td>Queensland</td>\n",
       "      <td>Bikes</td>\n",
       "      <td>Mountain Bikes</td>\n",
       "      <td>Mountain-200 Black, 42</td>\n",
       "      <td>4.0</td>\n",
       "      <td>1252</td>\n",
       "      <td>2295</td>\n",
       "      <td>4172</td>\n",
       "      <td>5008</td>\n",
       "      <td>9180</td>\n",
       "    </tr>\n",
       "  </tbody>\n",
       "</table>\n",
       "<p>89 rows × 19 columns</p>\n",
       "</div>"
      ],
      "text/plain": [
       "    Sales_Order #       Date   Day     Month  Year  Customer_Age  \\\n",
       "0          261695 2021-12-01   1.0  December  2021            39   \n",
       "1          261695 2021-12-01   1.0  December  2021            44   \n",
       "2          261697 2021-12-02   2.0  December  2021            37   \n",
       "3          261698 2021-12-02   2.0  December  2021            31   \n",
       "4          261699 2021-12-03   3.0  December  2021            37   \n",
       "..            ...        ...   ...       ...   ...           ...   \n",
       "84         261778 2021-12-22  22.0  December  2021            41   \n",
       "85         261779 2021-12-23  23.0  December  2021            30   \n",
       "86         261780 2021-12-23  23.0  December  2021            31   \n",
       "87         261781 2021-12-23  23.0  December  2021            35   \n",
       "88         261782 2021-12-24  24.0  December  2021            38   \n",
       "\n",
       "               Age_Group Customer_Gender         Country             State  \\\n",
       "0         Adults (35-64)               F   United States        California   \n",
       "1         Adults (35-64)               M  United Kingdom           England   \n",
       "2         Adults (35-64)               M   United States        California   \n",
       "3   Young Adults (25-34)               F       Australia   New South Wales   \n",
       "4         Adults (35-64)               F  United  States        California   \n",
       "..                   ...             ...             ...               ...   \n",
       "84        Adults (35-64)               M         Germany            Hessen   \n",
       "85  Young Adults (25-34)               F   United States            Oregon   \n",
       "86  Young Adults (25-34)               F          Canada  British Columbia   \n",
       "87        Adults (35-64)               F   United States        California   \n",
       "88        Adults (35-64)               M       Australia        Queensland   \n",
       "\n",
       "   Product_Category    Sub_Category        Product_Description  \\\n",
       "0             Bikes  Mountain Bikes     Mountain-200 Black, 46   \n",
       "1             Bikes  Mountain Bikes    Mountain-200 Silver, 42   \n",
       "2             Bikes  Mountain Bikes  Mountain-400-W Silver, 46   \n",
       "3             Bikes  Mountain Bikes  Mountain-400-W Silver, 42   \n",
       "4             Bikes  Mountain Bikes     Mountain-200 Black, 46   \n",
       "..              ...             ...                        ...   \n",
       "84            Bikes  Mountain Bikes    Mountain-200 Silver, 38   \n",
       "85            Bikes  Mountain Bikes    Mountain-200 Silver, 42   \n",
       "86            Bikes  Mountain Bikes     Mountain-200 Black, 42   \n",
       "87            Bikes  Mountain Bikes     Mountain-500 Black, 42   \n",
       "88            Bikes  Mountain Bikes     Mountain-200 Black, 42   \n",
       "\n",
       "    Order_Quantity   Unit_Cost    Unit_Price    Profit    Cost   Revenue  \n",
       "0              4.0         1252          2295      4172    5008     9180  \n",
       "1              1.0         1266          2320      1054    1266     2320  \n",
       "2              2.0          420           769       698     840     1538  \n",
       "3              1.0          420           769       349     420      769  \n",
       "4              2.0         1252          2295      2086       0     4590  \n",
       "..             ...          ...           ...       ...     ...      ...  \n",
       "84             1.0         1266          2320      1054    1266     2320  \n",
       "85             1.0         1266          2320      1054    1266     2320  \n",
       "86             1.0         1252          2295      1043    1252     2295  \n",
       "87             1.0          295           540       245     295      540  \n",
       "88             4.0         1252          2295      4172    5008     9180  \n",
       "\n",
       "[89 rows x 19 columns]"
      ]
     },
     "execution_count": 21,
     "metadata": {},
     "output_type": "execute_result"
    }
   ],
   "source": [
    "df3"
   ]
  },
  {
   "cell_type": "code",
   "execution_count": 22,
   "id": "f769d0bb-4a90-4456-8217-bca136eac2b6",
   "metadata": {
    "tags": []
   },
   "outputs": [
    {
     "data": {
      "text/plain": [
       "{295, 308, 420, 1252, 1266, 1898, 1912}"
      ]
     },
     "execution_count": 22,
     "metadata": {},
     "output_type": "execute_result"
    }
   ],
   "source": [
    "set(df3[\" Unit_Cost \"])"
   ]
  },
  {
   "cell_type": "code",
   "execution_count": 23,
   "id": "dd29b7e6-8db4-44b1-8460-2ce54c96560d",
   "metadata": {
    "tags": []
   },
   "outputs": [
    {
     "data": {
      "text/plain": [
       "{0, 540, 565, 769, 2295, 2320, 3375, 3400}"
      ]
     },
     "execution_count": 23,
     "metadata": {},
     "output_type": "execute_result"
    }
   ],
   "source": [
    "set(data[\" Unit_Price \"])"
   ]
  },
  {
   "cell_type": "code",
   "execution_count": 24,
   "id": "4f271b76-9bde-4a8d-bd34-db3aecee1864",
   "metadata": {
    "tags": []
   },
   "outputs": [
    {
     "ename": "KeyError",
     "evalue": "'Unit_Price'",
     "output_type": "error",
     "traceback": [
      "\u001b[1;31m---------------------------------------------------------------------------\u001b[0m",
      "\u001b[1;31mKeyError\u001b[0m                                  Traceback (most recent call last)",
      "File \u001b[1;32m~\\anaconda3\\Lib\\site-packages\\pandas\\core\\indexes\\base.py:3653\u001b[0m, in \u001b[0;36mIndex.get_loc\u001b[1;34m(self, key)\u001b[0m\n\u001b[0;32m   3652\u001b[0m \u001b[38;5;28;01mtry\u001b[39;00m:\n\u001b[1;32m-> 3653\u001b[0m     \u001b[38;5;28;01mreturn\u001b[39;00m \u001b[38;5;28mself\u001b[39m\u001b[38;5;241m.\u001b[39m_engine\u001b[38;5;241m.\u001b[39mget_loc(casted_key)\n\u001b[0;32m   3654\u001b[0m \u001b[38;5;28;01mexcept\u001b[39;00m \u001b[38;5;167;01mKeyError\u001b[39;00m \u001b[38;5;28;01mas\u001b[39;00m err:\n",
      "File \u001b[1;32m~\\anaconda3\\Lib\\site-packages\\pandas\\_libs\\index.pyx:147\u001b[0m, in \u001b[0;36mpandas._libs.index.IndexEngine.get_loc\u001b[1;34m()\u001b[0m\n",
      "File \u001b[1;32m~\\anaconda3\\Lib\\site-packages\\pandas\\_libs\\index.pyx:176\u001b[0m, in \u001b[0;36mpandas._libs.index.IndexEngine.get_loc\u001b[1;34m()\u001b[0m\n",
      "File \u001b[1;32mpandas\\_libs\\hashtable_class_helper.pxi:7080\u001b[0m, in \u001b[0;36mpandas._libs.hashtable.PyObjectHashTable.get_item\u001b[1;34m()\u001b[0m\n",
      "File \u001b[1;32mpandas\\_libs\\hashtable_class_helper.pxi:7088\u001b[0m, in \u001b[0;36mpandas._libs.hashtable.PyObjectHashTable.get_item\u001b[1;34m()\u001b[0m\n",
      "\u001b[1;31mKeyError\u001b[0m: 'Unit_Price'",
      "\nThe above exception was the direct cause of the following exception:\n",
      "\u001b[1;31mKeyError\u001b[0m                                  Traceback (most recent call last)",
      "Cell \u001b[1;32mIn[24], line 1\u001b[0m\n\u001b[1;32m----> 1\u001b[0m median_value \u001b[38;5;241m=\u001b[39m df3[\u001b[38;5;124m\"\u001b[39m\u001b[38;5;124mUnit_Price\u001b[39m\u001b[38;5;124m\"\u001b[39m]\u001b[38;5;241m.\u001b[39mmedian()\n\u001b[0;32m      2\u001b[0m df3[\u001b[38;5;124m'\u001b[39m\u001b[38;5;124mUnit_Price\u001b[39m\u001b[38;5;124m'\u001b[39m]\u001b[38;5;241m.\u001b[39mreplace(\u001b[38;5;241m0\u001b[39m, median_value,inplace \u001b[38;5;241m=\u001b[39m \u001b[38;5;28;01mTrue\u001b[39;00m)\n",
      "File \u001b[1;32m~\\anaconda3\\Lib\\site-packages\\pandas\\core\\frame.py:3761\u001b[0m, in \u001b[0;36mDataFrame.__getitem__\u001b[1;34m(self, key)\u001b[0m\n\u001b[0;32m   3759\u001b[0m \u001b[38;5;28;01mif\u001b[39;00m \u001b[38;5;28mself\u001b[39m\u001b[38;5;241m.\u001b[39mcolumns\u001b[38;5;241m.\u001b[39mnlevels \u001b[38;5;241m>\u001b[39m \u001b[38;5;241m1\u001b[39m:\n\u001b[0;32m   3760\u001b[0m     \u001b[38;5;28;01mreturn\u001b[39;00m \u001b[38;5;28mself\u001b[39m\u001b[38;5;241m.\u001b[39m_getitem_multilevel(key)\n\u001b[1;32m-> 3761\u001b[0m indexer \u001b[38;5;241m=\u001b[39m \u001b[38;5;28mself\u001b[39m\u001b[38;5;241m.\u001b[39mcolumns\u001b[38;5;241m.\u001b[39mget_loc(key)\n\u001b[0;32m   3762\u001b[0m \u001b[38;5;28;01mif\u001b[39;00m is_integer(indexer):\n\u001b[0;32m   3763\u001b[0m     indexer \u001b[38;5;241m=\u001b[39m [indexer]\n",
      "File \u001b[1;32m~\\anaconda3\\Lib\\site-packages\\pandas\\core\\indexes\\base.py:3655\u001b[0m, in \u001b[0;36mIndex.get_loc\u001b[1;34m(self, key)\u001b[0m\n\u001b[0;32m   3653\u001b[0m     \u001b[38;5;28;01mreturn\u001b[39;00m \u001b[38;5;28mself\u001b[39m\u001b[38;5;241m.\u001b[39m_engine\u001b[38;5;241m.\u001b[39mget_loc(casted_key)\n\u001b[0;32m   3654\u001b[0m \u001b[38;5;28;01mexcept\u001b[39;00m \u001b[38;5;167;01mKeyError\u001b[39;00m \u001b[38;5;28;01mas\u001b[39;00m err:\n\u001b[1;32m-> 3655\u001b[0m     \u001b[38;5;28;01mraise\u001b[39;00m \u001b[38;5;167;01mKeyError\u001b[39;00m(key) \u001b[38;5;28;01mfrom\u001b[39;00m \u001b[38;5;21;01merr\u001b[39;00m\n\u001b[0;32m   3656\u001b[0m \u001b[38;5;28;01mexcept\u001b[39;00m \u001b[38;5;167;01mTypeError\u001b[39;00m:\n\u001b[0;32m   3657\u001b[0m     \u001b[38;5;66;03m# If we have a listlike key, _check_indexing_error will raise\u001b[39;00m\n\u001b[0;32m   3658\u001b[0m     \u001b[38;5;66;03m#  InvalidIndexError. Otherwise we fall through and re-raise\u001b[39;00m\n\u001b[0;32m   3659\u001b[0m     \u001b[38;5;66;03m#  the TypeError.\u001b[39;00m\n\u001b[0;32m   3660\u001b[0m     \u001b[38;5;28mself\u001b[39m\u001b[38;5;241m.\u001b[39m_check_indexing_error(key)\n",
      "\u001b[1;31mKeyError\u001b[0m: 'Unit_Price'"
     ]
    }
   ],
   "source": [
    "median_value = df3[\"Unit_Price\"].median()\n",
    "df3['Unit_Price'].replace(0, median_value,inplace = True)"
   ]
  },
  {
   "cell_type": "code",
   "execution_count": null,
   "id": "9c2e6bd4-2cf1-4619-8e00-469b8e9a687a",
   "metadata": {
    "tags": []
   },
   "outputs": [],
   "source": [
    "df3.columns = df3.columns.str.strip()  # Removes spaces from column names\n",
    "median_value = df3[\"Unit_Price\"].median()\n",
    "df3[\"Unit_Price\"].replace(0, median_value, inplace=True)"
   ]
  },
  {
   "cell_type": "code",
   "execution_count": null,
   "id": "569884dd-09c4-43f3-aebd-3d9dabdad736",
   "metadata": {
    "tags": []
   },
   "outputs": [],
   "source": [
    "set(df3[\"Unit_Price\"])"
   ]
  },
  {
   "cell_type": "code",
   "execution_count": null,
   "id": "0d78ef27-289b-4a9d-b23d-b109750e3d96",
   "metadata": {
    "tags": []
   },
   "outputs": [],
   "source": [
    "set(df3[\"Cost\"])"
   ]
  },
  {
   "cell_type": "code",
   "execution_count": null,
   "id": "ad49a12e-253c-4731-9e42-cec29386abb2",
   "metadata": {
    "tags": []
   },
   "outputs": [],
   "source": [
    "median_value = df3[\"Cost\"].median()\n",
    "df3[\"Cost\"].replace(0, median_value, inplace=True)"
   ]
  },
  {
   "cell_type": "code",
   "execution_count": null,
   "id": "9da5dfab-3b1f-41bc-986a-5531203a4a96",
   "metadata": {
    "tags": []
   },
   "outputs": [],
   "source": [
    "set(df3[\"Cost\"])"
   ]
  },
  {
   "cell_type": "code",
   "execution_count": null,
   "id": "d1cba852-6c89-4cc1-a281-0a98f0205f9a",
   "metadata": {},
   "outputs": [],
   "source": [
    "# revenue will be done with formula we cant replace median #"
   ]
  },
  {
   "cell_type": "code",
   "execution_count": 51,
   "id": "c4f175f3-ce74-454b-a288-6f73d272a687",
   "metadata": {
    "tags": []
   },
   "outputs": [
    {
     "data": {
      "text/plain": [
       "{0, 540, 565, 769, 2295, 2320, 3375, 3400}"
      ]
     },
     "execution_count": 51,
     "metadata": {},
     "output_type": "execute_result"
    }
   ],
   "source": [
    "set(df3[\" Unit_Price \"])"
   ]
  },
  {
   "cell_type": "code",
   "execution_count": 130,
   "id": "89c7259e-c1c0-4a41-a8ff-f6de84738b47",
   "metadata": {
    "tags": []
   },
   "outputs": [],
   "source": [
    "df4 = df3.copy()"
   ]
  },
  {
   "cell_type": "code",
   "execution_count": 131,
   "id": "a020b526-0c96-49ca-b6f9-9b5e41d2ea93",
   "metadata": {
    "tags": []
   },
   "outputs": [],
   "source": [
    "df4[' Unit_Cost '] = np.where(df4[' Unit_Cost '] == 0, df3[\" Unit_Price \"] - (df4[\" Profit \"]/ df4[\"Order_Quantity\"]), df4[\" Unit_Cost \"])"
   ]
  },
  {
   "cell_type": "code",
   "execution_count": 132,
   "id": "87e1dd69-7fa1-496e-adbb-849f04a52b14",
   "metadata": {
    "tags": []
   },
   "outputs": [
    {
     "data": {
      "text/plain": [
       "{295.0, 308.0, 420.0, 1252.0, 1266.0, 1898.0, 1912.0}"
      ]
     },
     "execution_count": 132,
     "metadata": {},
     "output_type": "execute_result"
    }
   ],
   "source": [
    "set(df4[\" Unit_Cost \"])"
   ]
  },
  {
   "cell_type": "code",
   "execution_count": 135,
   "id": "7450edec-c49b-4e44-9749-c1d5d7a0e33f",
   "metadata": {
    "tags": []
   },
   "outputs": [],
   "source": [
    "df4[' Unit_Price '] = np.where(df3[' Unit_Price '] == 0, df3[\" Unit_Cost \"] + (df3[\" Profit \"]/ df3[\"Order_Quantity\"]), df3[\" Unit_Price \"])"
   ]
  },
  {
   "cell_type": "code",
   "execution_count": 139,
   "id": "646f89cd-bc65-4d3f-9cec-1b7c8dfd9503",
   "metadata": {
    "tags": []
   },
   "outputs": [
    {
     "data": {
      "text/plain": [
       "{540.0, 565.0, 769.0, 2295.0, 2320.0, 3375.0, 3400.0}"
      ]
     },
     "execution_count": 139,
     "metadata": {},
     "output_type": "execute_result"
    }
   ],
   "source": [
    "set(df4[\" Unit_Price \"])"
   ]
  },
  {
   "cell_type": "code",
   "execution_count": 140,
   "id": "0983458b-d550-4e79-acec-660c978736da",
   "metadata": {
    "tags": []
   },
   "outputs": [
    {
     "data": {
      "text/html": [
       "<div>\n",
       "<style scoped>\n",
       "    .dataframe tbody tr th:only-of-type {\n",
       "        vertical-align: middle;\n",
       "    }\n",
       "\n",
       "    .dataframe tbody tr th {\n",
       "        vertical-align: top;\n",
       "    }\n",
       "\n",
       "    .dataframe thead th {\n",
       "        text-align: right;\n",
       "    }\n",
       "</style>\n",
       "<table border=\"1\" class=\"dataframe\">\n",
       "  <thead>\n",
       "    <tr style=\"text-align: right;\">\n",
       "      <th></th>\n",
       "      <th>Sales_Order #</th>\n",
       "      <th>Date</th>\n",
       "      <th>Day</th>\n",
       "      <th>Month</th>\n",
       "      <th>Year</th>\n",
       "      <th>Customer_Age</th>\n",
       "      <th>Age_Group</th>\n",
       "      <th>Customer_Gender</th>\n",
       "      <th>Country</th>\n",
       "      <th>State</th>\n",
       "      <th>Product_Category</th>\n",
       "      <th>Sub_Category</th>\n",
       "      <th>Product_Description</th>\n",
       "      <th>Order_Quantity</th>\n",
       "      <th>Unit_Cost</th>\n",
       "      <th>Unit_Price</th>\n",
       "      <th>Profit</th>\n",
       "      <th>Cost</th>\n",
       "      <th>Revenue</th>\n",
       "      <th>Unit_Price</th>\n",
       "    </tr>\n",
       "  </thead>\n",
       "  <tbody>\n",
       "    <tr>\n",
       "      <th>4</th>\n",
       "      <td>261699</td>\n",
       "      <td>2021-12-03</td>\n",
       "      <td>3.0</td>\n",
       "      <td>December</td>\n",
       "      <td>2021</td>\n",
       "      <td>37</td>\n",
       "      <td>Adults (35-64)</td>\n",
       "      <td>F</td>\n",
       "      <td>United  States</td>\n",
       "      <td>California</td>\n",
       "      <td>Bikes</td>\n",
       "      <td>Mountain Bikes</td>\n",
       "      <td>Mountain-200 Black, 46</td>\n",
       "      <td>2.0</td>\n",
       "      <td>1252.0</td>\n",
       "      <td>2295.0</td>\n",
       "      <td>2086</td>\n",
       "      <td>0</td>\n",
       "      <td>4590</td>\n",
       "      <td>2295.0</td>\n",
       "    </tr>\n",
       "    <tr>\n",
       "      <th>22</th>\n",
       "      <td>261716</td>\n",
       "      <td>2021-12-08</td>\n",
       "      <td>8.0</td>\n",
       "      <td>December</td>\n",
       "      <td>2021</td>\n",
       "      <td>35</td>\n",
       "      <td>Adults (35-64)</td>\n",
       "      <td>F</td>\n",
       "      <td>United States</td>\n",
       "      <td>California</td>\n",
       "      <td>Bikes</td>\n",
       "      <td>Mountain Bikes</td>\n",
       "      <td>Mountain-500 Black, 42</td>\n",
       "      <td>NaN</td>\n",
       "      <td>295.0</td>\n",
       "      <td>540.0</td>\n",
       "      <td>245</td>\n",
       "      <td>0</td>\n",
       "      <td>0</td>\n",
       "      <td>540.0</td>\n",
       "    </tr>\n",
       "  </tbody>\n",
       "</table>\n",
       "</div>"
      ],
      "text/plain": [
       "    Sales_Order #       Date  Day     Month  Year  Customer_Age  \\\n",
       "4          261699 2021-12-03  3.0  December  2021            37   \n",
       "22         261716 2021-12-08  8.0  December  2021            35   \n",
       "\n",
       "         Age_Group Customer_Gender         Country       State  \\\n",
       "4   Adults (35-64)               F  United  States  California   \n",
       "22  Adults (35-64)               F   United States  California   \n",
       "\n",
       "   Product_Category    Sub_Category     Product_Description  Order_Quantity  \\\n",
       "4             Bikes  Mountain Bikes  Mountain-200 Black, 46             2.0   \n",
       "22            Bikes  Mountain Bikes  Mountain-500 Black, 42             NaN   \n",
       "\n",
       "     Unit_Cost    Unit_Price    Profit    Cost   Revenue  Unit_Price  \n",
       "4        1252.0        2295.0      2086       0     4590      2295.0  \n",
       "22        295.0         540.0       245       0        0       540.0  "
      ]
     },
     "execution_count": 140,
     "metadata": {},
     "output_type": "execute_result"
    }
   ],
   "source": [
    "df4[df4[\" Cost \"] == 0]"
   ]
  },
  {
   "cell_type": "code",
   "execution_count": 141,
   "id": "2c9be842-4635-4a54-8192-3d75f169d29a",
   "metadata": {
    "tags": []
   },
   "outputs": [
    {
     "data": {
      "text/html": [
       "<div>\n",
       "<style scoped>\n",
       "    .dataframe tbody tr th:only-of-type {\n",
       "        vertical-align: middle;\n",
       "    }\n",
       "\n",
       "    .dataframe tbody tr th {\n",
       "        vertical-align: top;\n",
       "    }\n",
       "\n",
       "    .dataframe thead th {\n",
       "        text-align: right;\n",
       "    }\n",
       "</style>\n",
       "<table border=\"1\" class=\"dataframe\">\n",
       "  <thead>\n",
       "    <tr style=\"text-align: right;\">\n",
       "      <th></th>\n",
       "      <th>Sales_Order #</th>\n",
       "      <th>Date</th>\n",
       "      <th>Day</th>\n",
       "      <th>Month</th>\n",
       "      <th>Year</th>\n",
       "      <th>Customer_Age</th>\n",
       "      <th>Age_Group</th>\n",
       "      <th>Customer_Gender</th>\n",
       "      <th>Country</th>\n",
       "      <th>State</th>\n",
       "      <th>Product_Category</th>\n",
       "      <th>Sub_Category</th>\n",
       "      <th>Product_Description</th>\n",
       "      <th>Order_Quantity</th>\n",
       "      <th>Unit_Cost</th>\n",
       "      <th>Unit_Price</th>\n",
       "      <th>Profit</th>\n",
       "      <th>Cost</th>\n",
       "      <th>Revenue</th>\n",
       "      <th>Unit_Price</th>\n",
       "    </tr>\n",
       "  </thead>\n",
       "  <tbody>\n",
       "    <tr>\n",
       "      <th>4</th>\n",
       "      <td>261699</td>\n",
       "      <td>2021-12-03</td>\n",
       "      <td>3.0</td>\n",
       "      <td>December</td>\n",
       "      <td>2021</td>\n",
       "      <td>37</td>\n",
       "      <td>Adults (35-64)</td>\n",
       "      <td>F</td>\n",
       "      <td>United  States</td>\n",
       "      <td>California</td>\n",
       "      <td>Bikes</td>\n",
       "      <td>Mountain Bikes</td>\n",
       "      <td>Mountain-200 Black, 46</td>\n",
       "      <td>2.0</td>\n",
       "      <td>1252.0</td>\n",
       "      <td>2295.0</td>\n",
       "      <td>2086</td>\n",
       "      <td>0</td>\n",
       "      <td>4590</td>\n",
       "      <td>2295.0</td>\n",
       "    </tr>\n",
       "    <tr>\n",
       "      <th>22</th>\n",
       "      <td>261716</td>\n",
       "      <td>2021-12-08</td>\n",
       "      <td>8.0</td>\n",
       "      <td>December</td>\n",
       "      <td>2021</td>\n",
       "      <td>35</td>\n",
       "      <td>Adults (35-64)</td>\n",
       "      <td>F</td>\n",
       "      <td>United States</td>\n",
       "      <td>California</td>\n",
       "      <td>Bikes</td>\n",
       "      <td>Mountain Bikes</td>\n",
       "      <td>Mountain-500 Black, 42</td>\n",
       "      <td>NaN</td>\n",
       "      <td>295.0</td>\n",
       "      <td>540.0</td>\n",
       "      <td>245</td>\n",
       "      <td>0</td>\n",
       "      <td>0</td>\n",
       "      <td>540.0</td>\n",
       "    </tr>\n",
       "  </tbody>\n",
       "</table>\n",
       "</div>"
      ],
      "text/plain": [
       "    Sales_Order #       Date  Day     Month  Year  Customer_Age  \\\n",
       "4          261699 2021-12-03  3.0  December  2021            37   \n",
       "22         261716 2021-12-08  8.0  December  2021            35   \n",
       "\n",
       "         Age_Group Customer_Gender         Country       State  \\\n",
       "4   Adults (35-64)               F  United  States  California   \n",
       "22  Adults (35-64)               F   United States  California   \n",
       "\n",
       "   Product_Category    Sub_Category     Product_Description  Order_Quantity  \\\n",
       "4             Bikes  Mountain Bikes  Mountain-200 Black, 46             2.0   \n",
       "22            Bikes  Mountain Bikes  Mountain-500 Black, 42             NaN   \n",
       "\n",
       "     Unit_Cost    Unit_Price    Profit    Cost   Revenue  Unit_Price  \n",
       "4        1252.0        2295.0      2086       0     4590      2295.0  \n",
       "22        295.0         540.0       245       0        0       540.0  "
      ]
     },
     "execution_count": 141,
     "metadata": {},
     "output_type": "execute_result"
    }
   ],
   "source": [
    "df4[df4[\" Cost \"] == 0]"
   ]
  },
  {
   "cell_type": "code",
   "execution_count": 142,
   "id": "8347d14c-099e-45be-b95c-2469dcb928d2",
   "metadata": {
    "tags": []
   },
   "outputs": [],
   "source": [
    "condition = (df4[' Cost '] == 0.0)\n",
    "df4.loc[condition, ' Cost '] = df4.loc[condition, 'Order_Quantity'] * df4.loc[condition, ' Unit_Cost ']"
   ]
  },
  {
   "cell_type": "code",
   "execution_count": 143,
   "id": "5e0c9e47-0a8f-46de-acb8-3ee07bc93edc",
   "metadata": {
    "tags": []
   },
   "outputs": [
    {
     "data": {
      "text/html": [
       "<div>\n",
       "<style scoped>\n",
       "    .dataframe tbody tr th:only-of-type {\n",
       "        vertical-align: middle;\n",
       "    }\n",
       "\n",
       "    .dataframe tbody tr th {\n",
       "        vertical-align: top;\n",
       "    }\n",
       "\n",
       "    .dataframe thead th {\n",
       "        text-align: right;\n",
       "    }\n",
       "</style>\n",
       "<table border=\"1\" class=\"dataframe\">\n",
       "  <thead>\n",
       "    <tr style=\"text-align: right;\">\n",
       "      <th></th>\n",
       "      <th>Sales_Order #</th>\n",
       "      <th>Date</th>\n",
       "      <th>Day</th>\n",
       "      <th>Month</th>\n",
       "      <th>Year</th>\n",
       "      <th>Customer_Age</th>\n",
       "      <th>Age_Group</th>\n",
       "      <th>Customer_Gender</th>\n",
       "      <th>Country</th>\n",
       "      <th>State</th>\n",
       "      <th>Product_Category</th>\n",
       "      <th>Sub_Category</th>\n",
       "      <th>Product_Description</th>\n",
       "      <th>Order_Quantity</th>\n",
       "      <th>Unit_Cost</th>\n",
       "      <th>Unit_Price</th>\n",
       "      <th>Profit</th>\n",
       "      <th>Cost</th>\n",
       "      <th>Revenue</th>\n",
       "      <th>Unit_Price</th>\n",
       "    </tr>\n",
       "  </thead>\n",
       "  <tbody>\n",
       "  </tbody>\n",
       "</table>\n",
       "</div>"
      ],
      "text/plain": [
       "Empty DataFrame\n",
       "Columns: [Sales_Order #, Date, Day, Month, Year, Customer_Age, Age_Group, Customer_Gender, Country, State, Product_Category, Sub_Category, Product_Description, Order_Quantity,  Unit_Cost ,  Unit_Price ,  Profit ,  Cost , Revenue, Unit_Price]\n",
       "Index: []"
      ]
     },
     "execution_count": 143,
     "metadata": {},
     "output_type": "execute_result"
    }
   ],
   "source": [
    "df4[df4[\" Cost \"] == 0]"
   ]
  },
  {
   "cell_type": "code",
   "execution_count": 147,
   "id": "e38d7bb0-c8b5-4ad6-9d4e-39e8afc948a3",
   "metadata": {
    "tags": []
   },
   "outputs": [],
   "source": [
    "condition = (df4['Revenue'] == 0.0)\n",
    "df4.loc[condition, 'Revenue'] = df4.loc[condition, 'Order_Quantity'] * df4.loc[condition, ' Unit_Price ']"
   ]
  },
  {
   "cell_type": "code",
   "execution_count": 148,
   "id": "d9c46f2c-645f-42f1-822e-cb9c9ce813a9",
   "metadata": {
    "tags": []
   },
   "outputs": [
    {
     "data": {
      "text/html": [
       "<div>\n",
       "<style scoped>\n",
       "    .dataframe tbody tr th:only-of-type {\n",
       "        vertical-align: middle;\n",
       "    }\n",
       "\n",
       "    .dataframe tbody tr th {\n",
       "        vertical-align: top;\n",
       "    }\n",
       "\n",
       "    .dataframe thead th {\n",
       "        text-align: right;\n",
       "    }\n",
       "</style>\n",
       "<table border=\"1\" class=\"dataframe\">\n",
       "  <thead>\n",
       "    <tr style=\"text-align: right;\">\n",
       "      <th></th>\n",
       "      <th>Sales_Order #</th>\n",
       "      <th>Date</th>\n",
       "      <th>Day</th>\n",
       "      <th>Month</th>\n",
       "      <th>Year</th>\n",
       "      <th>Customer_Age</th>\n",
       "      <th>Age_Group</th>\n",
       "      <th>Customer_Gender</th>\n",
       "      <th>Country</th>\n",
       "      <th>State</th>\n",
       "      <th>Product_Category</th>\n",
       "      <th>Sub_Category</th>\n",
       "      <th>Product_Description</th>\n",
       "      <th>Order_Quantity</th>\n",
       "      <th>Unit_Cost</th>\n",
       "      <th>Unit_Price</th>\n",
       "      <th>Profit</th>\n",
       "      <th>Cost</th>\n",
       "      <th>Revenue</th>\n",
       "      <th>Unit_Price</th>\n",
       "    </tr>\n",
       "  </thead>\n",
       "  <tbody>\n",
       "  </tbody>\n",
       "</table>\n",
       "</div>"
      ],
      "text/plain": [
       "Empty DataFrame\n",
       "Columns: [Sales_Order #, Date, Day, Month, Year, Customer_Age, Age_Group, Customer_Gender, Country, State, Product_Category, Sub_Category, Product_Description, Order_Quantity,  Unit_Cost ,  Unit_Price ,  Profit ,  Cost , Revenue, Unit_Price]\n",
       "Index: []"
      ]
     },
     "execution_count": 148,
     "metadata": {},
     "output_type": "execute_result"
    }
   ],
   "source": [
    "df4[df4['Revenue'] == 0]"
   ]
  },
  {
   "cell_type": "code",
   "execution_count": 150,
   "id": "55c1ff45-9c57-4561-b0ef-d9dff8f653cf",
   "metadata": {
    "tags": []
   },
   "outputs": [
    {
     "name": "stdout",
     "output_type": "stream",
     "text": [
      "Sales_Order #\n",
      "{261695, 261697, 261698, 261699, 261700, 261701, 261702, 261703, 261704, 261705, 261706, 261707, 261708, 261709, 261710, 261711, 261712, 261713, 261714, 261715, 261716, 261717, 261718, 261719, 261720, 261721, 261722, 261723, 261724, 261725, 261726, 261727, 261728, 261729, 261730, 261731, 261732, 261733, 261734, 261735, 261736, 261737, 261738, 261739, 261740, 261741, 261742, 261743, 261744, 261745, 261746, 261747, 261748, 261749, 261750, 261751, 261752, 261753, 261754, 261755, 261756, 261757, 261758, 261759, 261760, 261761, 261762, 261763, 261764, 261765, 261766, 261767, 261768, 261769, 261770, 261771, 261772, 261773, 261774, 261775, 261776, 261777, 261778, 261779, 261780, 261781, 261782}\n",
      "\n",
      "\n",
      "\n",
      "Date\n",
      "{Timestamp('2021-12-09 00:00:00'), Timestamp('2021-12-02 00:00:00'), Timestamp('2021-12-05 00:00:00'), Timestamp('2021-12-16 00:00:00'), Timestamp('2021-12-12 00:00:00'), Timestamp('2021-12-03 00:00:00'), Timestamp('2021-12-22 00:00:00'), Timestamp('2021-12-04 00:00:00'), Timestamp('2021-12-01 00:00:00'), Timestamp('2021-12-11 00:00:00'), Timestamp('2021-12-18 00:00:00'), Timestamp('2021-12-24 00:00:00'), Timestamp('2021-12-15 00:00:00'), Timestamp('2021-12-20 00:00:00'), Timestamp('2021-12-17 00:00:00'), Timestamp('2021-12-19 00:00:00'), Timestamp('2021-12-08 00:00:00'), Timestamp('2021-12-14 00:00:00'), Timestamp('2021-12-10 00:00:00'), Timestamp('2021-12-21 00:00:00'), Timestamp('2021-12-23 00:00:00'), Timestamp('2021-12-13 00:00:00'), Timestamp('2021-12-07 00:00:00'), Timestamp('2021-12-06 00:00:00')}\n",
      "\n",
      "\n",
      "\n",
      "Day\n",
      "{1.0, 2.0, 3.0, 4.0, 5.0, 6.0, 7.0, 8.0, 9.0, 10.0, 11.0, 12.0, 13.0, 14.0, 15.0, 16.0, 17.0, 18.0, 19.0, 20.0, 21.0, 22.0, 23.0, 24.0, nan}\n",
      "\n",
      "\n",
      "\n",
      "Month\n",
      "{'Decmber', 'December'}\n",
      "\n",
      "\n",
      "\n",
      "Year\n",
      "{2021}\n",
      "\n",
      "\n",
      "\n",
      "Customer_Age\n",
      "{17, 18, 19, 23, 24, 25, 26, 27, 29, 30, 31, 32, 33, 34, 35, 36, 37, 38, 39, 40, 41, 42, 44, 47, 49, 56, 57, 63}\n",
      "\n",
      "\n",
      "\n",
      "Age_Group\n",
      "{'Adults (35-64)', 'Young Adults (25-34)', 'Youth (<25)', nan}\n",
      "\n",
      "\n",
      "\n",
      "Customer_Gender\n",
      "{'F', 'M'}\n",
      "\n",
      "\n",
      "\n",
      "Country\n",
      "{'Germany', 'Australia', 'Canada', 'United  States', 'United Kingdom', ' United States', 'France', 'United States ', 'United States'}\n",
      "\n",
      "\n",
      "\n",
      "State\n",
      "{'England', 'British Columbia', 'New South Wales', 'California', 'Seine (Paris)', 'Seine Saint Denis', 'Hessen', 'Seine et Marne', 'Queensland', 'Washington', 'Hamburg', 'Nordrhein-Westfalen', 'Nord', 'Victoria', 'Oregon', 'South Australia', 'Somme'}\n",
      "\n",
      "\n",
      "\n",
      "Product_Category\n",
      "{'Bikes'}\n",
      "\n",
      "\n",
      "\n",
      "Sub_Category\n",
      "{'Mountain Bikes'}\n",
      "\n",
      "\n",
      "\n",
      "Product_Description\n",
      "{'Mountain-400-W Silver, 38', 'Mountain-500 Black, 40', 'Mountain-200 Black, 42', 'Mountain-100 Black, 48', 'Mountain-500 Black, 44', nan, 'Mountain-100 Silver, 44', 'Mountain-200 Black, 46', 'Mountain-400-W Silver, 46', 'Mountain-500 Black, 52', 'Mountain-500 Silver, 40', 'Mountain-200 Black, 38', 'Mountain-200 Silver, 46', 'Mountain-500 Silver, 42', 'Mountain-200 Silver, 38', 'Mountain-500 Black, 42', 'Mountain-400-W Silver, 42', 'Mountain-100 Black, 38', 'Mountain-200 Silver, 42'}\n",
      "\n",
      "\n",
      "\n",
      "Order_Quantity\n",
      "{1.0, 2.0, 3.0, 4.0, nan}\n",
      "\n",
      "\n",
      "\n",
      " Unit_Cost \n",
      "{420.0, 1252.0, 295.0, 1898.0, 1266.0, 308.0, 1912.0}\n",
      "\n",
      "\n",
      "\n",
      " Unit_Price \n",
      "{769.0, 3400.0, 3375.0, 2320.0, 565.0, 2295.0, 540.0}\n",
      "\n",
      "\n",
      "\n",
      " Profit \n",
      "{257, 1028, 2954, 1043, 5908, 1047, 1054, 2086, 3129, 698, 2108, 4172, 1488, 980, 3162, 349, 735, 490, 1396, 245, 4216}\n",
      "\n",
      "\n",
      "\n",
      " Cost \n",
      "{5008.0, 1680.0, 1180.0, 420.0, 295.0, 7592.0, 3756.0, 308.0, 840.0, 2504.0, 5064.0, nan, 590.0, 1232.0, 3796.0, 3798.0, 1252.0, 2532.0, 1260.0, 1266.0, 885.0, 1912.0}\n",
      "\n",
      "\n",
      "\n",
      "Revenue\n",
      "{769.0, 1538.0, 2307.0, 3076.0, nan, 2320.0, 540.0, 4640.0, 6960.0, 565.0, 1080.0, 13500.0, 9280.0, 3400.0, 2260.0, 1620.0, 9180.0, 6750.0, 6885.0, 4590.0, 2160.0, 2295.0}\n",
      "\n",
      "\n",
      "\n",
      "Unit_Price\n",
      "{769.0, 3400.0, 3375.0, 2320.0, 565.0, 2295.0, 540.0}\n",
      "\n",
      "\n",
      "\n"
     ]
    }
   ],
   "source": [
    "for i in df4.columns:\n",
    "    print(i)\n",
    "    print(set(df4[i]))\n",
    "    print(\"\\n\\n\")\n",
    "    "
   ]
  },
  {
   "cell_type": "code",
   "execution_count": 151,
   "id": "6a16ce0b-4197-4fcb-bf3e-514393744b50",
   "metadata": {
    "tags": []
   },
   "outputs": [],
   "source": [
    "df4['Month'] = df4['Month'].replace('Decmber','December')"
   ]
  },
  {
   "cell_type": "code",
   "execution_count": 152,
   "id": "64ebe024-d3ae-4d23-9d06-d5f9158bebef",
   "metadata": {
    "tags": []
   },
   "outputs": [
    {
     "data": {
      "text/plain": [
       "{'December'}"
      ]
     },
     "execution_count": 152,
     "metadata": {},
     "output_type": "execute_result"
    }
   ],
   "source": [
    "set(df4['Month'])"
   ]
  },
  {
   "cell_type": "code",
   "execution_count": 155,
   "id": "6e84484d-e426-41f6-a604-061af50e8e17",
   "metadata": {
    "tags": []
   },
   "outputs": [],
   "source": [
    "lst = ['United  States',' United States','United States ']\n",
    "df4['Country'] = df4['Country'].replace(lst,'United States') \n"
   ]
  },
  {
   "cell_type": "code",
   "execution_count": 156,
   "id": "c4432818-9904-4b33-b505-f5fb9b1d1c4d",
   "metadata": {
    "tags": []
   },
   "outputs": [
    {
     "data": {
      "text/plain": [
       "{'Australia', 'Canada', 'France', 'Germany', 'United Kingdom', 'United States'}"
      ]
     },
     "execution_count": 156,
     "metadata": {},
     "output_type": "execute_result"
    }
   ],
   "source": [
    "set(df4['Country'])"
   ]
  },
  {
   "cell_type": "markdown",
   "id": "08f0e2e8-3a58-44b4-9dda-c44b511a5909",
   "metadata": {},
   "source": [
    "# Outlier detection\n"
   ]
  },
  {
   "cell_type": "code",
   "execution_count": 157,
   "id": "358b0b31-3ad5-44d6-a9d7-f9695c07d9d7",
   "metadata": {
    "tags": []
   },
   "outputs": [],
   "source": [
    "def outlier_removal(df, column):\n",
    "    q1 = df[column].quantile(0.25)\n",
    "    q3 = df[column].quantile(0.75)\n",
    "    iqr = q3-q1\n",
    "    lower_fence = q1 - 1.5*iqr\n",
    "    upper_fence = q3 + 1.5*iqr\n",
    "    trimmed_data = df[(df[column] > lower_fence) & (df[column] < upper_fence)]\n",
    "    return trimmed_data\n"
   ]
  },
  {
   "cell_type": "code",
   "execution_count": 159,
   "id": "7c5de0b3-815f-4d36-878a-e5105c42b5d4",
   "metadata": {
    "tags": []
   },
   "outputs": [],
   "source": [
    "import seaborn as sns"
   ]
  },
  {
   "cell_type": "code",
   "execution_count": 161,
   "id": "06c6ae75-81b9-4542-9d79-9cb32acabaaa",
   "metadata": {
    "tags": []
   },
   "outputs": [
    {
     "data": {
      "text/plain": [
       "<Axes: >"
      ]
     },
     "execution_count": 161,
     "metadata": {},
     "output_type": "execute_result"
    },
    {
     "data": {
      "image/png": "[encoded data removed]",
      "text/plain": [
       "<Figure size 640x480 with 1 Axes>"
      ]
     },
     "metadata": {},
     "output_type": "display_data"
    }
   ],
   "source": [
    "sns.boxplot(df4, orient = \"h\")"
   ]
  },
  {
   "cell_type": "code",
   "execution_count": 163,
   "id": "66398516-13f2-427a-9efd-1cca796c28fc",
   "metadata": {
    "tags": []
   },
   "outputs": [],
   "source": [
    "df5 = df4.copy()"
   ]
  },
  {
   "cell_type": "code",
   "execution_count": 164,
   "id": "c871fd72-3fcb-4a18-b862-b9fa5878d203",
   "metadata": {
    "tags": []
   },
   "outputs": [],
   "source": [
    "trimmed_data = outlier_removal(df5, ' Unit_Cost ')"
   ]
  },
  {
   "cell_type": "code",
   "execution_count": 165,
   "id": "422c5172-9065-4571-a707-3c31be7e18c2",
   "metadata": {
    "tags": []
   },
   "outputs": [
    {
     "data": {
      "text/plain": [
       "<Axes: >"
      ]
     },
     "execution_count": 165,
     "metadata": {},
     "output_type": "execute_result"
    },
    {
     "data": {
      "image/png": "[encoded data removed]",
      "text/plain": [
       "<Figure size 640x480 with 1 Axes>"
      ]
     },
     "metadata": {},
     "output_type": "display_data"
    }
   ],
   "source": [
    "sns.boxplot(trimmed_data, orient = \"h\")"
   ]
  },
  {
   "cell_type": "code",
   "execution_count": 166,
   "id": "51eeb4f0-f5e3-4525-a8b9-6764eee28741",
   "metadata": {
    "tags": []
   },
   "outputs": [],
   "source": [
    "trimmed_data1 = outlier_removal(df5, 'Revenue')"
   ]
  },
  {
   "cell_type": "code",
   "execution_count": 167,
   "id": "d231c549-b606-47f9-84c8-6a5dfca7ba93",
   "metadata": {
    "tags": []
   },
   "outputs": [
    {
     "data": {
      "text/plain": [
       "<Axes: >"
      ]
     },
     "execution_count": 167,
     "metadata": {},
     "output_type": "execute_result"
    },
    {
     "data": {
      "image/png": "[encoded data removed]",
      "text/plain": [
       "<Figure size 640x480 with 1 Axes>"
      ]
     },
     "metadata": {},
     "output_type": "display_data"
    }
   ],
   "source": [
    "sns.boxplot(trimmed_data1, orient = \"h\")"
   ]
  },
  {
   "cell_type": "code",
   "execution_count": null,
   "id": "5b913c37-6e83-4b6a-be39-bb45391749cd",
   "metadata": {},
   "outputs": [],
   "source": []
  }
 ],
 "metadata": {
  "kernelspec": {
   "display_name": "Python 3 (ipykernel)",
   "language": "python",
   "name": "python3"
  },
  "language_info": {
   "codemirror_mode": {
    "name": "ipython",
    "version": 3
   },
   "file_extension": ".py",
   "mimetype": "text/x-python",
   "name": "python",
   "nbconvert_exporter": "python",
   "pygments_lexer": "ipython3",
   "version": "3.11.5"
  }
 },
 "nbformat": 4,
 "nbformat_minor": 5
}
