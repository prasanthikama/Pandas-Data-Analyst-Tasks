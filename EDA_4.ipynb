{
 "cells": [
  {
   "cell_type": "code",
   "execution_count": 1,
   "id": "027777b5-5a66-45ab-b16a-561372a256a3",
   "metadata": {
    "tags": []
   },
   "outputs": [],
   "source": [
    "import pandas as pd\n",
    "import numpy as np\n"
   ]
  },
  {
   "cell_type": "code",
   "execution_count": 2,
   "id": "0bf8d50a-4639-42de-84a2-68bfd685b65f",
   "metadata": {
    "tags": []
   },
   "outputs": [
    {
     "name": "stdout",
     "output_type": "stream",
     "text": [
      "C:\\Users\\prasa\n"
     ]
    }
   ],
   "source": [
    "cd\n"
   ]
  },
  {
   "cell_type": "code",
   "execution_count": null,
   "id": "05607b43-d586-4047-9fd7-ed104b32b4bd",
   "metadata": {},
   "outputs": [],
   "source": [
    "churn = pd.read_excel(\"\")"
   ]
  },
  {
   "cell_type": "code",
   "execution_count": null,
   "id": "0624a710-d02d-407e-9f45-b8dc992b1b84",
   "metadata": {},
   "outputs": [],
   "source": [
    "churn"
   ]
  },
  {
   "cell_type": "code",
   "execution_count": null,
   "id": "1498c39d-9885-460c-878c-c6d8fc699328",
   "metadata": {},
   "outputs": [],
   "source": [
    "#data quality\n",
    "#Missing values--some of your pandas commands - math\n",
    "#Duplicates\n",
    "#special charters\n",
    "#Outliers - anything which is extreme minimum or extreme maximum value"
   ]
  },
  {
   "cell_type": "code",
   "execution_count": null,
   "id": "34155d43-a343-4d8d-a1c9-46c493e2b02e",
   "metadata": {},
   "outputs": [],
   "source": [
    "# indexing the data set\n",
    "hd.shape"
   ]
  },
  {
   "cell_type": "code",
   "execution_count": null,
   "id": "9b257360-2f85-46ac-83c2-d6fcaf791ec3",
   "metadata": {},
   "outputs": [],
   "source": [
    "#finding null values\n",
    "hd.isnull().sum()"
   ]
  },
  {
   "cell_type": "code",
   "execution_count": null,
   "id": "b33e61ea-8b3f-44a6-a629-604d2b96bd5c",
   "metadata": {},
   "outputs": [],
   "source": [
    "# how to find inbuilt function or inbuilt function\n",
    "# hetrogen having each column has it wont data type\n",
    "type(hd)"
   ]
  },
  {
   "cell_type": "code",
   "execution_count": null,
   "id": "5e370d8f-11f2-4d0b-acdc-0846ab19c8e7",
   "metadata": {},
   "outputs": [],
   "source": [
    "hd.iloc[:,:]"
   ]
  },
  {
   "cell_type": "code",
   "execution_count": null,
   "id": "298ea7b0-28e5-455b-9a22-99d431e59a3e",
   "metadata": {},
   "outputs": [],
   "source": [
    "hd.columns"
   ]
  },
  {
   "cell_type": "code",
   "execution_count": null,
   "id": "9f3486a3-a2dc-4746-bf60-9dab4b66494b",
   "metadata": {},
   "outputs": [],
   "source": [
    "hd.iloc[:5,:5]"
   ]
  },
  {
   "cell_type": "code",
   "execution_count": null,
   "id": "dabe182a-02dd-46d9-896f-5554ed809a6a",
   "metadata": {},
   "outputs": [],
   "source": [
    "hd['ca'].unique()"
   ]
  },
  {
   "cell_type": "code",
   "execution_count": null,
   "id": "3f74b54a-ef5e-4d86-a938-945eebda00c8",
   "metadata": {},
   "outputs": [],
   "source": [
    "hd['ca'].value_counts()"
   ]
  },
  {
   "cell_type": "code",
   "execution_count": null,
   "id": "c6b53725-feb8-4e2a-8bb5-4d96478309b3",
   "metadata": {},
   "outputs": [],
   "source": [
    "## another library #\n",
    "# plotly -express\n",
    "# pip "
   ]
  },
  {
   "cell_type": "code",
   "execution_count": 4,
   "id": "b9af2bc3-4448-453a-9b0f-8d71e7f70274",
   "metadata": {
    "tags": []
   },
   "outputs": [
    {
     "name": "stdout",
     "output_type": "stream",
     "text": [
      "Requirement already satisfied: plotly-express in c:\\users\\prasa\\anaconda3\\lib\\site-packages (0.4.1)\n",
      "Requirement already satisfied: pandas>=0.20.0 in c:\\users\\prasa\\anaconda3\\lib\\site-packages (from plotly-express) (2.0.3)\n",
      "Requirement already satisfied: plotly>=4.1.0 in c:\\users\\prasa\\anaconda3\\lib\\site-packages (from plotly-express) (5.9.0)\n",
      "Requirement already satisfied: statsmodels>=0.9.0 in c:\\users\\prasa\\anaconda3\\lib\\site-packages (from plotly-express) (0.14.0)\n",
      "Requirement already satisfied: scipy>=0.18 in c:\\users\\prasa\\anaconda3\\lib\\site-packages (from plotly-express) (1.11.1)\n",
      "Requirement already satisfied: patsy>=0.5 in c:\\users\\prasa\\anaconda3\\lib\\site-packages (from plotly-express) (0.5.3)\n",
      "Requirement already satisfied: numpy>=1.11 in c:\\users\\prasa\\anaconda3\\lib\\site-packages (from plotly-express) (1.24.3)\n",
      "Requirement already satisfied: python-dateutil>=2.8.2 in c:\\users\\prasa\\anaconda3\\lib\\site-packages (from pandas>=0.20.0->plotly-express) (2.8.2)\n",
      "Requirement already satisfied: pytz>=2020.1 in c:\\users\\prasa\\anaconda3\\lib\\site-packages (from pandas>=0.20.0->plotly-express) (2023.3.post1)\n",
      "Requirement already satisfied: tzdata>=2022.1 in c:\\users\\prasa\\anaconda3\\lib\\site-packages (from pandas>=0.20.0->plotly-express) (2023.3)\n",
      "Requirement already satisfied: six in c:\\users\\prasa\\anaconda3\\lib\\site-packages (from patsy>=0.5->plotly-express) (1.16.0)\n",
      "Requirement already satisfied: tenacity>=6.2.0 in c:\\users\\prasa\\anaconda3\\lib\\site-packages (from plotly>=4.1.0->plotly-express) (8.2.2)\n",
      "Requirement already satisfied: packaging>=21.3 in c:\\users\\prasa\\anaconda3\\lib\\site-packages (from statsmodels>=0.9.0->plotly-express) (23.1)\n",
      "Note: you may need to restart the kernel to use updated packages.\n"
     ]
    }
   ],
   "source": [
    "pip install plotly-express"
   ]
  },
  {
   "cell_type": "code",
   "execution_count": 6,
   "id": "9770b2ed-5a6c-473f-ad71-135c7623b8cc",
   "metadata": {
    "tags": []
   },
   "outputs": [],
   "source": [
    "import  plotly_express as px"
   ]
  },
  {
   "cell_type": "code",
   "execution_count": null,
   "id": "372d7df0-a20a-4e4e-accc-a475202fb1a3",
   "metadata": {},
   "outputs": [],
   "source": [
    "# To plot Distribution for continous 1 column #\n",
    "# nbin category \n",
    "# univariant Analysing one column at a time\n",
    "# two column at time is bivariate analysis\n",
    "fig = px.histogram(hd,x='age',nbins = 25)\n",
    "fig.show()"
   ]
  },
  {
   "cell_type": "code",
   "execution_count": null,
   "id": "501efecf-2a7a-41b3-acb3-deef8351e4ec",
   "metadata": {},
   "outputs": [],
   "source": [
    "# insight "
   ]
  }
 ],
 "metadata": {
  "kernelspec": {
   "display_name": "Python 3 (ipykernel)",
   "language": "python",
   "name": "python3"
  },
  "language_info": {
   "codemirror_mode": {
    "name": "ipython",
    "version": 3
   },
   "file_extension": ".py",
   "mimetype": "text/x-python",
   "name": "python",
   "nbconvert_exporter": "python",
   "pygments_lexer": "ipython3",
   "version": "3.11.5"
  }
 },
 "nbformat": 4,
 "nbformat_minor": 5
}
