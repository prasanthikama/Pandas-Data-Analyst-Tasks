{
 "cells": [
  {
   "cell_type": "code",
   "execution_count": null,
   "id": "7265766f-718a-4f7a-aab9-04f08915d377",
   "metadata": {},
   "outputs": [],
   "source": [
    "## Error vs Exception\n",
    "Errors are serious issues in code, e.g syntax errors or memory overflow which cannot be handled during runtime\n",
    "Exception are humous errors that canbe  handled using exception handling mechanisim"
   ]
  },
  {
   "cell_type": "code",
   "execution_count": 11,
   "id": "ff713225-2106-4376-8758-de73bbc359e3",
   "metadata": {
    "tags": []
   },
   "outputs": [
    {
     "name": "stdin",
     "output_type": "stream",
     "text": [
      "enter the value x: 9\n",
      "enter the value y: 0\n"
     ]
    },
    {
     "name": "stdout",
     "output_type": "stream",
     "text": [
      "cannot divide by zero\n",
      "0.0 14\n"
     ]
    }
   ],
   "source": [
    "x = int(input(\"enter the value x:\"))\n",
    "y = int(input(\"enter the value y:\"))\n",
    "try:\n",
    "     result = x/y\n",
    "except ZeroDivisionError:\n",
    "    print(\"cannot divide by zero\")\n",
    "else:\n",
    "    print(result)\n",
    "z = x * y\n",
    "y/=2\n",
    "x+=5\n",
    "print(y,x)\n",
    "    "
   ]
  },
  {
   "cell_type": "markdown",
   "id": "683c31a8-f326-4abe-b20a-d3abd69db2b7",
   "metadata": {},
   "source": [
    "## Various types of Exceptions\n"
   ]
  },
  {
   "cell_type": "markdown",
   "id": "8a37ed87-631c-4e96-ab5b-d12e2f5dddd5",
   "metadata": {},
   "source": [
    "### Arthmetic Exception\n",
    "### Zero Division Errorr\n",
    "### OverflowError : Raised when a mathematical caluculation exceeds the limit for a numeric type"
   ]
  },
  {
   "cell_type": "code",
   "execution_count": 21,
   "id": "664ef175-51f0-480b-b2cd-7c0a00019d05",
   "metadata": {
    "tags": []
   },
   "outputs": [
    {
     "name": "stdout",
     "output_type": "stream",
     "text": [
      "9223372036854775807000000000000000000000000000\n"
     ]
    }
   ],
   "source": [
    "### overflow error\n",
    "import sys \n",
    "x = sys.maxsize *1000000000000000000000000000\n",
    "print(x)"
   ]
  },
  {
   "cell_type": "code",
   "execution_count": 22,
   "id": "d1cc846d-7910-4f7b-8e7b-e23c6ac052e5",
   "metadata": {
    "tags": []
   },
   "outputs": [
    {
     "ename": "IndexError",
     "evalue": "list index out of range",
     "output_type": "error",
     "traceback": [
      "\u001b[1;31m---------------------------------------------------------------------------\u001b[0m",
      "\u001b[1;31mIndexError\u001b[0m                                Traceback (most recent call last)",
      "Cell \u001b[1;32mIn[22], line 4\u001b[0m\n\u001b[0;32m      1\u001b[0m \u001b[38;5;66;03m### Lookup errors\u001b[39;00m\n\u001b[0;32m      2\u001b[0m \u001b[38;5;66;03m# index error\u001b[39;00m\n\u001b[0;32m      3\u001b[0m \u001b[38;5;28mlist\u001b[39m \u001b[38;5;241m=\u001b[39m[\u001b[38;5;241m1\u001b[39m,\u001b[38;5;241m2\u001b[39m,\u001b[38;5;241m3\u001b[39m,\u001b[38;5;241m4\u001b[39m,\u001b[38;5;241m5\u001b[39m,\u001b[38;5;241m6\u001b[39m]\n\u001b[1;32m----> 4\u001b[0m \u001b[38;5;28mlist\u001b[39m[\u001b[38;5;241m10\u001b[39m]\n",
      "\u001b[1;31mIndexError\u001b[0m: list index out of range"
     ]
    }
   ],
   "source": [
    "### Lookup errors\n",
    "# index error\n",
    "list =[1,2,3,4,5,6]\n",
    "list[10]"
   ]
  },
  {
   "cell_type": "code",
   "execution_count": 23,
   "id": "bf77213e-01e7-4241-a82b-77348a399a3f",
   "metadata": {
    "tags": []
   },
   "outputs": [
    {
     "ename": "KeyError",
     "evalue": "8",
     "output_type": "error",
     "traceback": [
      "\u001b[1;31m---------------------------------------------------------------------------\u001b[0m",
      "\u001b[1;31mKeyError\u001b[0m                                  Traceback (most recent call last)",
      "Cell \u001b[1;32mIn[23], line 3\u001b[0m\n\u001b[0;32m      1\u001b[0m \u001b[38;5;66;03m### key error\u001b[39;00m\n\u001b[0;32m      2\u001b[0m dic \u001b[38;5;241m=\u001b[39m {\u001b[38;5;241m1\u001b[39m:\u001b[38;5;241m2\u001b[39m,\u001b[38;5;241m3\u001b[39m:\u001b[38;5;241m4\u001b[39m,\u001b[38;5;241m5\u001b[39m:\u001b[38;5;241m6\u001b[39m}\n\u001b[1;32m----> 3\u001b[0m dic[\u001b[38;5;241m8\u001b[39m]\n",
      "\u001b[1;31mKeyError\u001b[0m: 8"
     ]
    }
   ],
   "source": [
    "### key error\n",
    "dic = {1:2,3:4,5:6}\n",
    "dic[8]"
   ]
  },
  {
   "cell_type": "code",
   "execution_count": 24,
   "id": "2262e47c-f1cf-485e-903b-a0eb68a5a84d",
   "metadata": {
    "tags": []
   },
   "outputs": [
    {
     "ename": "FileNotFoundError",
     "evalue": "[Errno 2] No such file or directory: 'abc.txt'",
     "output_type": "error",
     "traceback": [
      "\u001b[1;31m---------------------------------------------------------------------------\u001b[0m",
      "\u001b[1;31mFileNotFoundError\u001b[0m                         Traceback (most recent call last)",
      "Cell \u001b[1;32mIn[24], line 3\u001b[0m\n\u001b[0;32m      1\u001b[0m \u001b[38;5;66;03m## file error\u001b[39;00m\n\u001b[0;32m      2\u001b[0m \u001b[38;5;66;03m# file not found error\u001b[39;00m\n\u001b[1;32m----> 3\u001b[0m f \u001b[38;5;241m=\u001b[39m \u001b[38;5;28mopen\u001b[39m(\u001b[38;5;124m\"\u001b[39m\u001b[38;5;124mabc.txt\u001b[39m\u001b[38;5;124m\"\u001b[39m)\n",
      "File \u001b[1;32m~\\anaconda3\\Lib\\site-packages\\IPython\\core\\interactiveshell.py:286\u001b[0m, in \u001b[0;36m_modified_open\u001b[1;34m(file, *args, **kwargs)\u001b[0m\n\u001b[0;32m    279\u001b[0m \u001b[38;5;28;01mif\u001b[39;00m file \u001b[38;5;129;01min\u001b[39;00m {\u001b[38;5;241m0\u001b[39m, \u001b[38;5;241m1\u001b[39m, \u001b[38;5;241m2\u001b[39m}:\n\u001b[0;32m    280\u001b[0m     \u001b[38;5;28;01mraise\u001b[39;00m \u001b[38;5;167;01mValueError\u001b[39;00m(\n\u001b[0;32m    281\u001b[0m         \u001b[38;5;124mf\u001b[39m\u001b[38;5;124m\"\u001b[39m\u001b[38;5;124mIPython won\u001b[39m\u001b[38;5;124m'\u001b[39m\u001b[38;5;124mt let you open fd=\u001b[39m\u001b[38;5;132;01m{\u001b[39;00mfile\u001b[38;5;132;01m}\u001b[39;00m\u001b[38;5;124m by default \u001b[39m\u001b[38;5;124m\"\u001b[39m\n\u001b[0;32m    282\u001b[0m         \u001b[38;5;124m\"\u001b[39m\u001b[38;5;124mas it is likely to crash IPython. If you know what you are doing, \u001b[39m\u001b[38;5;124m\"\u001b[39m\n\u001b[0;32m    283\u001b[0m         \u001b[38;5;124m\"\u001b[39m\u001b[38;5;124myou can use builtins\u001b[39m\u001b[38;5;124m'\u001b[39m\u001b[38;5;124m open.\u001b[39m\u001b[38;5;124m\"\u001b[39m\n\u001b[0;32m    284\u001b[0m     )\n\u001b[1;32m--> 286\u001b[0m \u001b[38;5;28;01mreturn\u001b[39;00m io_open(file, \u001b[38;5;241m*\u001b[39margs, \u001b[38;5;241m*\u001b[39m\u001b[38;5;241m*\u001b[39mkwargs)\n",
      "\u001b[1;31mFileNotFoundError\u001b[0m: [Errno 2] No such file or directory: 'abc.txt'"
     ]
    }
   ],
   "source": [
    "## file error\n",
    "# file not found error\n",
    "f = open(\"abc.txt\")"
   ]
  },
  {
   "cell_type": "code",
   "execution_count": 25,
   "id": "31107730-9714-45f2-b23c-abde126b85d8",
   "metadata": {
    "tags": []
   },
   "outputs": [
    {
     "ename": "TypeError",
     "evalue": "can only concatenate str (not \"int\") to str",
     "output_type": "error",
     "traceback": [
      "\u001b[1;31m---------------------------------------------------------------------------\u001b[0m",
      "\u001b[1;31mTypeError\u001b[0m                                 Traceback (most recent call last)",
      "Cell \u001b[1;32mIn[25], line 2\u001b[0m\n\u001b[0;32m      1\u001b[0m \u001b[38;5;66;03m### Type error\u001b[39;00m\n\u001b[1;32m----> 2\u001b[0m \u001b[38;5;28mprint\u001b[39m(\u001b[38;5;124m\"\u001b[39m\u001b[38;5;124mhello\u001b[39m\u001b[38;5;124m\"\u001b[39m \u001b[38;5;241m+\u001b[39m \u001b[38;5;241m5\u001b[39m)\n",
      "\u001b[1;31mTypeError\u001b[0m: can only concatenate str (not \"int\") to str"
     ]
    }
   ],
   "source": [
    "### Type error\n",
    "print(\"hello\" + 5)"
   ]
  },
  {
   "cell_type": "code",
   "execution_count": 26,
   "id": "54a1577d-a391-4e8e-b08f-dd9d37c134a7",
   "metadata": {
    "tags": []
   },
   "outputs": [
    {
     "ename": "ValueError",
     "evalue": "invalid literal for int() with base 10: 'abc'",
     "output_type": "error",
     "traceback": [
      "\u001b[1;31m---------------------------------------------------------------------------\u001b[0m",
      "\u001b[1;31mValueError\u001b[0m                                Traceback (most recent call last)",
      "Cell \u001b[1;32mIn[26], line 3\u001b[0m\n\u001b[0;32m      1\u001b[0m \u001b[38;5;66;03m# value eerror\u001b[39;00m\n\u001b[0;32m      2\u001b[0m \u001b[38;5;28mint\u001b[39m(\u001b[38;5;241m7.6\u001b[39m)\n\u001b[1;32m----> 3\u001b[0m \u001b[38;5;28mint\u001b[39m(\u001b[38;5;124m\"\u001b[39m\u001b[38;5;124mabc\u001b[39m\u001b[38;5;124m\"\u001b[39m)\n",
      "\u001b[1;31mValueError\u001b[0m: invalid literal for int() with base 10: 'abc'"
     ]
    }
   ],
   "source": [
    "# value eerror\n",
    "int(7.6)\n",
    "int(\"abc\")"
   ]
  },
  {
   "cell_type": "code",
   "execution_count": 27,
   "id": "0bbeda71-eb3a-4545-977c-ac8b66210c73",
   "metadata": {
    "tags": []
   },
   "outputs": [
    {
     "ename": "ModuleNotFoundError",
     "evalue": "No module named 'ram'",
     "output_type": "error",
     "traceback": [
      "\u001b[1;31m---------------------------------------------------------------------------\u001b[0m",
      "\u001b[1;31mModuleNotFoundError\u001b[0m                       Traceback (most recent call last)",
      "Cell \u001b[1;32mIn[27], line 2\u001b[0m\n\u001b[0;32m      1\u001b[0m \u001b[38;5;66;03m### import  error\u001b[39;00m\n\u001b[1;32m----> 2\u001b[0m \u001b[38;5;28;01mimport\u001b[39;00m \u001b[38;5;21;01mram\u001b[39;00m\n",
      "\u001b[1;31mModuleNotFoundError\u001b[0m: No module named 'ram'"
     ]
    }
   ],
   "source": [
    "### import  error(module not found error is a subset of import error )\n",
    "import ram"
   ]
  },
  {
   "cell_type": "code",
   "execution_count": 41,
   "id": "06c6fc1f-1a7b-411c-bf94-08a216975d9c",
   "metadata": {
    "tags": []
   },
   "outputs": [
    {
     "name": "stdin",
     "output_type": "stream",
     "text": [
      "enter the value x: 7\n",
      "enter the value y: 9\n"
     ]
    },
    {
     "name": "stdout",
     "output_type": "stream",
     "text": [
      "0.7777777777777778\n"
     ]
    }
   ],
   "source": [
    "try:\n",
    "    x=int(input(\"enter the value x:\"))\n",
    "    y =int(input(\"enter the value y:\"))\n",
    "    result = x/y\n",
    "except ValueError:\n",
    "    print(\"provided numerical value as input\")\n",
    "except ZeroDivisionError:\n",
    "    print(\"Cannot divide by zero\")\n",
    "finally:\n",
    "    print(result)"
   ]
  },
  {
   "cell_type": "code",
   "execution_count": 34,
   "id": "8f7c9d0b-7f41-463f-b88d-520d21d0c7c5",
   "metadata": {
    "tags": []
   },
   "outputs": [
    {
     "name": "stdin",
     "output_type": "stream",
     "text": [
      "enter the value x: 78\n",
      "enter the value y: ioj\n"
     ]
    },
    {
     "name": "stdout",
     "output_type": "stream",
     "text": [
      "An error occured\n"
     ]
    }
   ],
   "source": [
    "try:\n",
    "    x=int(input(\"enter the value x:\"))\n",
    "    y =int(input(\"enter the value y:\"))\n",
    "    result = x/y\n",
    "except Exception as e:\n",
    "    print(\"An error occured\")\n",
    "else:\n",
    "    print(result)"
   ]
  },
  {
   "cell_type": "markdown",
   "id": "af88f91f-8c19-4df6-9d73-a9bdd2485f42",
   "metadata": {},
   "source": [
    "### custom exceptions\n"
   ]
  },
  {
   "cell_type": "code",
   "execution_count": 38,
   "id": "25511090-de38-4e69-9111-f0964433530b",
   "metadata": {
    "tags": []
   },
   "outputs": [
    {
     "name": "stdin",
     "output_type": "stream",
     "text": [
      "enter the age 67\n"
     ]
    },
    {
     "name": "stdout",
     "output_type": "stream",
     "text": [
      "you are eligible\n"
     ]
    }
   ],
   "source": [
    "class AgeError(Exception):\n",
    "    pass\n",
    "try:\n",
    "    age = int(input(\"enter the age\"))\n",
    "    if age < 18:\n",
    "        raise AgeError(\"Age must be 18 or above!\")\n",
    "    print(\"you are eligible\")\n",
    "except AgeError as e:\n",
    "    print(e)"
   ]
  },
  {
   "cell_type": "code",
   "execution_count": 40,
   "id": "6bfd2ab4-64a5-42e2-ae20-48ad47816afc",
   "metadata": {
    "tags": []
   },
   "outputs": [
    {
     "name": "stdout",
     "output_type": "stream",
     "text": [
      "IndexError: Index out of range\n"
     ]
    }
   ],
   "source": [
    "numbers = [1,2,3,4,5,6]\n",
    "try:\n",
    "    numbers[6] =25\n",
    "except IndexError:\n",
    "    print(\"IndexError: Index out of range\")"
   ]
  },
  {
   "cell_type": "code",
   "execution_count": 43,
   "id": "4e570403-e282-4e47-8ff0-2543618a2add",
   "metadata": {
    "tags": []
   },
   "outputs": [
    {
     "name": "stdout",
     "output_type": "stream",
     "text": [
      "file not found\n",
      "closing file\n"
     ]
    }
   ],
   "source": [
    "try:\n",
    "    f=open(\"abc.txt\",\"r\")\n",
    "    content = f.read()\n",
    "    f.close()\n",
    "except FileNotFoundError:\n",
    "    print(\"file not found\")\n",
    "finally:\n",
    "       print(\"closing file\")   "
   ]
  },
  {
   "cell_type": "code",
   "execution_count": null,
   "id": "4812c27f-f2ac-439c-baa3-21203fc0d2f1",
   "metadata": {},
   "outputs": [],
   "source": []
  }
 ],
 "metadata": {
  "kernelspec": {
   "display_name": "Python 3 (ipykernel)",
   "language": "python",
   "name": "python3"
  },
  "language_info": {
   "codemirror_mode": {
    "name": "ipython",
    "version": 3
   },
   "file_extension": ".py",
   "mimetype": "text/x-python",
   "name": "python",
   "nbconvert_exporter": "python",
   "pygments_lexer": "ipython3",
   "version": "3.11.5"
  }
 },
 "nbformat": 4,
 "nbformat_minor": 5
}
