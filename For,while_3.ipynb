{
 "cells": [
  {
   "cell_type": "code",
   "execution_count": 4,
   "id": "ba9ebd6c-5ec7-4430-bf8c-3d23cbb8912a",
   "metadata": {
    "tags": []
   },
   "outputs": [
    {
     "name": "stdout",
     "output_type": "stream",
     "text": [
      "step1\n",
      "step2\n",
      "step3\n",
      "car ready: 0\n",
      "step1\n",
      "step2\n",
      "step3\n",
      "car ready: 1\n",
      "Done\n"
     ]
    }
   ],
   "source": [
    "car= 0\n",
    "while car < 2:\n",
    "    print(\"step1\")\n",
    "    print(\"step2\")\n",
    "    print(\"step3\")\n",
    "    print(\"car ready:\",car)\n",
    "    car = car + 1\n",
    "print(\"Done\")"
   ]
  },
  {
   "cell_type": "code",
   "execution_count": 7,
   "id": "fc9128c0-35ef-48d5-a429-2a6a29d9c88e",
   "metadata": {
    "tags": []
   },
   "outputs": [
    {
     "name": "stdout",
     "output_type": "stream",
     "text": [
      "step1\n",
      "step2\n",
      "step3\n",
      "car ready: 0\n",
      "step1\n",
      "step2\n",
      "step3\n",
      "car ready: 2\n",
      "step1\n",
      "step2\n",
      "step3\n",
      "car ready: 4\n",
      "done\n"
     ]
    }
   ],
   "source": [
    "for car in range(0,5,2):\n",
    "    print(\"step1\")\n",
    "    print(\"step2\")\n",
    "    print(\"step3\")\n",
    "    print(\"car ready:\",car)\n",
    "    car = car + 1\n",
    "print(\"done\")"
   ]
  },
  {
   "cell_type": "code",
   "execution_count": 9,
   "id": "67744425-ae01-423e-a2d6-c32c6f506176",
   "metadata": {
    "tags": []
   },
   "outputs": [
    {
     "name": "stdout",
     "output_type": "stream",
     "text": [
      "i is integer: 10\n",
      " hello I am 10 is variable\n"
     ]
    }
   ],
   "source": [
    "i=10\n",
    "print(\"i is integer:\",i)\n",
    "print(f\" hello I am {i} is variable\")"
   ]
  },
  {
   "cell_type": "code",
   "execution_count": null,
   "id": "2a55be0f-9220-467c-b7b1-7978c1c695b3",
   "metadata": {},
   "outputs": [],
   "source": []
  }
 ],
 "metadata": {
  "kernelspec": {
   "display_name": "Python 3 (ipykernel)",
   "language": "python",
   "name": "python3"
  },
  "language_info": {
   "codemirror_mode": {
    "name": "ipython",
    "version": 3
   },
   "file_extension": ".py",
   "mimetype": "text/x-python",
   "name": "python",
   "nbconvert_exporter": "python",
   "pygments_lexer": "ipython3",
   "version": "3.11.5"
  }
 },
 "nbformat": 4,
 "nbformat_minor": 5
}
