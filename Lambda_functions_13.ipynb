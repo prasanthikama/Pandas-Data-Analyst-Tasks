{
 "cells": [
  {
   "cell_type": "markdown",
   "id": "b2aaa6d4-8549-49e7-9e9a-a4553d680472",
   "metadata": {},
   "source": [
    "#####lambda functions"
   ]
  },
  {
   "cell_type": "code",
   "execution_count": 1,
   "id": "e622fa90-fa16-47ce-ba65-bac3d9973b87",
   "metadata": {
    "tags": []
   },
   "outputs": [
    {
     "data": {
      "text/plain": [
       "12"
      ]
     },
     "execution_count": 1,
     "metadata": {},
     "output_type": "execute_result"
    }
   ],
   "source": [
    "add = lambda x,y:x+y\n",
    "add(4,8)\n"
   ]
  },
  {
   "cell_type": "code",
   "execution_count": 3,
   "id": "66a2f403-80d3-42af-8612-6f0a4754cf54",
   "metadata": {
    "tags": []
   },
   "outputs": [
    {
     "data": {
      "text/plain": [
       "729"
      ]
     },
     "execution_count": 3,
     "metadata": {},
     "output_type": "execute_result"
    }
   ],
   "source": [
    "cube = lambda x : x**3\n",
    "cube(9)"
   ]
  },
  {
   "cell_type": "code",
   "execution_count": 1,
   "id": "b2786c59-08c8-4d35-89c1-dffba1e0617d",
   "metadata": {},
   "outputs": [
    {
     "name": "stdout",
     "output_type": "stream",
     "text": [
      "27\n"
     ]
    }
   ],
   "source": [
    "cube = lambda x:x**3\n",
    "x=cube(3)\n",
    "print(x)"
   ]
  },
  {
   "cell_type": "markdown",
   "id": "cd333889-71a5-4ab3-9f91-ed0666d4222e",
   "metadata": {},
   "source": [
    "### Difference between lambda function and normal functions \n",
    "1. Normal functions support any number of lines inside the function\n",
    "   Lambda functions support single lines\n",
    "\n",
    "2. Normal functions are easier to read and interpret\n",
    "   Lambda functions are complex to read and understand"
   ]
  },
  {
   "cell_type": "code",
   "execution_count": 3,
   "id": "68a76ebe-956c-411d-8e5b-335642eb7278",
   "metadata": {
    "tags": []
   },
   "outputs": [
    {
     "name": "stdout",
     "output_type": "stream",
     "text": [
      "<function <listcomp>.<lambda> at 0x0000020BD8DFCCC0>\n",
      "<function <listcomp>.<lambda> at 0x0000020BD8DFC680>\n",
      "<function <listcomp>.<lambda> at 0x0000020BD8DFC5E0>\n",
      "<function <listcomp>.<lambda> at 0x0000020BD8DFC720>\n",
      "<function <listcomp>.<lambda> at 0x0000020BD8DFCB80>\n",
      "<function <listcomp>.<lambda> at 0x0000020BD8DFCD60>\n",
      "<function <listcomp>.<lambda> at 0x0000020BD8DFCFE0>\n",
      "<function <listcomp>.<lambda> at 0x0000020BD8DFD1C0>\n",
      "<function <listcomp>.<lambda> at 0x0000020BD8DFD080>\n",
      "<function <listcomp>.<lambda> at 0x0000020BD8DFD120>\n"
     ]
    }
   ],
   "source": [
    "lst = [lambda x:x*10 for x in range(1,11)]\n",
    "for i in lst:\n",
    "    print(i)"
   ]
  },
  {
   "cell_type": "code",
   "execution_count": 5,
   "id": "097f407f-0d79-4698-a3b4-3be3a20f9424",
   "metadata": {
    "tags": []
   },
   "outputs": [],
   "source": [
    "def func():\n",
    "    for x in range(1,11):\n",
    "        lst.append(x*10)"
   ]
  },
  {
   "cell_type": "code",
   "execution_count": 8,
   "id": "0f77290a-5adf-49f7-b3e2-e0fb6c4584ba",
   "metadata": {
    "tags": []
   },
   "outputs": [
    {
     "name": "stdout",
     "output_type": "stream",
     "text": [
      "[<function <listcomp>.<lambda> at 0x0000020BD8DFCCC0>, <function <listcomp>.<lambda> at 0x0000020BD8DFC680>, <function <listcomp>.<lambda> at 0x0000020BD8DFC5E0>, <function <listcomp>.<lambda> at 0x0000020BD8DFC720>, <function <listcomp>.<lambda> at 0x0000020BD8DFCB80>, <function <listcomp>.<lambda> at 0x0000020BD8DFCD60>, <function <listcomp>.<lambda> at 0x0000020BD8DFCFE0>, <function <listcomp>.<lambda> at 0x0000020BD8DFD1C0>, <function <listcomp>.<lambda> at 0x0000020BD8DFD080>, <function <listcomp>.<lambda> at 0x0000020BD8DFD120>, 1, 2, 3, 4, 5, 6, 7, 8, 9, 10, 1, 2, 3, 4, 5, 6, 7, 8, 9, 10]\n"
     ]
    }
   ],
   "source": [
    "### practical usage of lambda function \n",
    "## list comprehsion\n",
    "### lst = []\n",
    "for i in range(1,11):\n",
    "    lst.append(i)\n",
    "print(list(lst))"
   ]
  },
  {
   "cell_type": "markdown",
   "id": "04829432-ba37-4f6a-80e9-e006bff65d37",
   "metadata": {},
   "source": [
    "### write a function to multiple every number between 1 to 10 and store them in a list"
   ]
  },
  {
   "cell_type": "code",
   "execution_count": 10,
   "id": "3c2ba29a-d54e-4471-841a-c45bfaaf9f4d",
   "metadata": {
    "tags": []
   },
   "outputs": [
    {
     "name": "stdout",
     "output_type": "stream",
     "text": [
      "[10, 20, 30, 40, 50, 60, 70, 80, 90, 100]\n"
     ]
    }
   ],
   "source": [
    "def func():\n",
    "    lst = []\n",
    "    for i in range(1,11):\n",
    "        x = i * 10\n",
    "        lst.append(x)\n",
    "    return lst\n",
    "lst = func()\n",
    "print(lst)"
   ]
  },
  {
   "cell_type": "code",
   "execution_count": 20,
   "id": "5cc56e6f-7726-4aba-a56f-1a14ad82b939",
   "metadata": {
    "tags": []
   },
   "outputs": [
    {
     "name": "stdout",
     "output_type": "stream",
     "text": [
      "[<function <listcomp>.<lambda> at 0x0000020BD8DFCCC0>, <function <listcomp>.<lambda> at 0x0000020BD8DFD3A0>, <function <listcomp>.<lambda> at 0x0000020BD8DFE020>, <function <listcomp>.<lambda> at 0x0000020BD8DFE8E0>, <function <listcomp>.<lambda> at 0x0000020BD8DFE980>, <function <listcomp>.<lambda> at 0x0000020BD8DFEA20>, <function <listcomp>.<lambda> at 0x0000020BD8DFEAC0>, <function <listcomp>.<lambda> at 0x0000020BD8DFEB60>, <function <listcomp>.<lambda> at 0x0000020BD8DFEC00>, <function <listcomp>.<lambda> at 0x0000020BD8DFECA0>]\n",
      "10\n",
      "20\n",
      "30\n",
      "40\n",
      "50\n",
      "60\n",
      "70\n",
      "80\n",
      "90\n",
      "100\n"
     ]
    }
   ],
   "source": [
    "lst = [lambda arg=x: arg*10 for x in range(1,11)]\n",
    "print(lst)\n",
    "\n",
    "for i in lst:\n",
    "    print(i())\n"
   ]
  },
  {
   "cell_type": "code",
   "execution_count": 24,
   "id": "55f3f063-b19e-4791-853d-f555e1d4eb9b",
   "metadata": {
    "tags": []
   },
   "outputs": [
    {
     "data": {
      "text/plain": [
       "3"
      ]
     },
     "execution_count": 24,
     "metadata": {},
     "output_type": "execute_result"
    }
   ],
   "source": [
    "def func(x,y):\n",
    "    if x > y :\n",
    "        return x\n",
    "    else:\n",
    "        return y\n",
    "func(2,3)"
   ]
  },
  {
   "cell_type": "code",
   "execution_count": 22,
   "id": "b5fb7f4a-5c3d-4875-9b09-11474f5505c5",
   "metadata": {
    "tags": []
   },
   "outputs": [
    {
     "name": "stdout",
     "output_type": "stream",
     "text": [
      "19\n"
     ]
    }
   ],
   "source": [
    "#### if else using lambda function \n",
    "## find greatest number between two numbers\n",
    "greatest = lambda a,b : a if a > b else b\n",
    "print(greatest(10,19))"
   ]
  },
  {
   "cell_type": "code",
   "execution_count": 28,
   "id": "b2c80b85-9c90-43bf-bd48-e5b85b42f98f",
   "metadata": {
    "tags": []
   },
   "outputs": [
    {
     "name": "stdout",
     "output_type": "stream",
     "text": [
      "[22, 54, 12, 100, 52, 76]\n",
      "[5, 7, 97]\n"
     ]
    }
   ],
   "source": [
    "# lambda function using filters()\n",
    "lst = [5,7,22,97,54,12,100,52,76]\n",
    "even_lst = list(filter(lambda x : (x % 2 == 0),lst))\n",
    "odd_lst = list(filter(lambda x : (x % 2 != 0),lst))\n",
    "print(even_lst)\n",
    "print(odd_lst)"
   ]
  },
  {
   "cell_type": "code",
   "execution_count": 31,
   "id": "74b6b3e7-a92a-4035-9dd4-0988033fc042",
   "metadata": {
    "tags": []
   },
   "outputs": [
    {
     "name": "stdout",
     "output_type": "stream",
     "text": [
      "{1.0, 2.0, 2.23606797749979, 2.6457513110645907, 1.4142135623730951, 2.8284271247461903, 3.0, 3.1622776601683795}\n"
     ]
    }
   ],
   "source": [
    "#lambda function using map()\n",
    "lst = [1,2,5,2,7,4,8,9,10]\n",
    "square_lst = set(map(lambda x: x**0.5, lst))\n",
    "print(square_lst)\n"
   ]
  },
  {
   "cell_type": "code",
   "execution_count": 35,
   "id": "1a6ca6a9-f836-45d8-9cbc-ff064165b9ec",
   "metadata": {
    "tags": []
   },
   "outputs": [
    {
     "data": {
      "text/plain": [
       "[2,\n",
       " 4,\n",
       " 6,\n",
       " 8,\n",
       " 10,\n",
       " 12,\n",
       " 14,\n",
       " 16,\n",
       " 18,\n",
       " 20,\n",
       " 22,\n",
       " 24,\n",
       " 26,\n",
       " 28,\n",
       " 30,\n",
       " 32,\n",
       " 34,\n",
       " 36,\n",
       " 38,\n",
       " 40,\n",
       " 42,\n",
       " 44,\n",
       " 46,\n",
       " 48,\n",
       " 50,\n",
       " 52,\n",
       " 54,\n",
       " 56,\n",
       " 58,\n",
       " 60,\n",
       " 62,\n",
       " 64,\n",
       " 66,\n",
       " 68,\n",
       " 70,\n",
       " 72,\n",
       " 74,\n",
       " 76,\n",
       " 78,\n",
       " 80,\n",
       " 82,\n",
       " 84,\n",
       " 86,\n",
       " 88,\n",
       " 90,\n",
       " 92,\n",
       " 94,\n",
       " 96,\n",
       " 98,\n",
       " 100]"
      ]
     },
     "execution_count": 35,
     "metadata": {},
     "output_type": "execute_result"
    }
   ],
   "source": [
    "list(filter(lambda x: x if x % 2 == 0 else None,range(1,101)))"
   ]
  },
  {
   "cell_type": "code",
   "execution_count": 36,
   "id": "4dcfdef6-a51a-44ac-a655-ad024a043e34",
   "metadata": {
    "tags": []
   },
   "outputs": [
    {
     "data": {
      "text/plain": [
       "(22, 54, 12, 100, 52, 76)"
      ]
     },
     "execution_count": 36,
     "metadata": {},
     "output_type": "execute_result"
    }
   ],
   "source": [
    "tup = (5,7,22,97,54,12,100,52,76)\n",
    "tuple(filter(lambda x : (x % 2 == 0),tup))"
   ]
  },
  {
   "cell_type": "code",
   "execution_count": 40,
   "id": "e95a5eb3-ae77-4563-af86-6a423a1d5af4",
   "metadata": {
    "tags": []
   },
   "outputs": [
    {
     "name": "stdout",
     "output_type": "stream",
     "text": [
      "[1, 4, 9, 16, 25]\n"
     ]
    }
   ],
   "source": [
    "lst = [1,2,3,4,5]\n",
    "y = lambda x : x**2\n",
    "squre_lst = []\n",
    "for i in lst:\n",
    "    squre_lst.append(y(i))\n",
    "print(square_lst)"
   ]
  },
  {
   "cell_type": "code",
   "execution_count": null,
   "id": "dd80522d-48be-4fc2-9864-328b77081c80",
   "metadata": {},
   "outputs": [],
   "source": []
  }
 ],
 "metadata": {
  "kernelspec": {
   "display_name": "Python 3 (ipykernel)",
   "language": "python",
   "name": "python3"
  },
  "language_info": {
   "codemirror_mode": {
    "name": "ipython",
    "version": 3
   },
   "file_extension": ".py",
   "mimetype": "text/x-python",
   "name": "python",
   "nbconvert_exporter": "python",
   "pygments_lexer": "ipython3",
   "version": "3.11.5"
  }
 },
 "nbformat": 4,
 "nbformat_minor": 5
}
