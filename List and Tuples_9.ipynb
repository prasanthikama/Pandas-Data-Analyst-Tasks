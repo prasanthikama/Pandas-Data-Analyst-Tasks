{
 "cells": [
  {
   "cell_type": "code",
   "execution_count": null,
   "id": "1bb31d87-6e37-4d30-b052-23af5e6d8051",
   "metadata": {},
   "outputs": [],
   "source": [
    "#list and Tuples\n"
   ]
  },
  {
   "cell_type": "code",
   "execution_count": 1,
   "id": "314e70f4-b11f-4161-9b9d-79265227e72c",
   "metadata": {},
   "outputs": [
    {
     "data": {
      "text/plain": [
       "list"
      ]
     },
     "execution_count": 1,
     "metadata": {},
     "output_type": "execute_result"
    }
   ],
   "source": [
    "type([1,2,3,4,5])"
   ]
  },
  {
   "cell_type": "markdown",
   "id": "2da3e871-cb9c-4a96-8e06-628f0c016544",
   "metadata": {},
   "source": [
    "# list initializing #"
   ]
  },
  {
   "cell_type": "code",
   "execution_count": 3,
   "id": "0547ae04-a391-47b4-a2e8-e6799358e50a",
   "metadata": {
    "tags": []
   },
   "outputs": [
    {
     "name": "stdout",
     "output_type": "stream",
     "text": [
      "[1, 2, 3, 4, 5]\n",
      "[]\n",
      "[1, 2, 3, 4, 5]\n"
     ]
    }
   ],
   "source": [
    "# case 1\n",
    "x1=[1,2,3,4,5]\n",
    "print(x1)\n",
    "\n",
    "#case 2\n",
    "x2=list()\n",
    "print(x2)\n",
    "\n",
    "#case 3\n",
    "x3=list([1,2,3,4,5])\n",
    "print(x3)"
   ]
  },
  {
   "cell_type": "code",
   "execution_count": 4,
   "id": "850e54bf-efb7-447a-92e2-d1b42c380096",
   "metadata": {
    "tags": []
   },
   "outputs": [
    {
     "data": {
      "text/plain": [
       "5"
      ]
     },
     "execution_count": 4,
     "metadata": {},
     "output_type": "execute_result"
    }
   ],
   "source": [
    "len(x1)"
   ]
  },
  {
   "cell_type": "markdown",
   "id": "4b242fc2-1190-4e5d-987e-1384f0306819",
   "metadata": {},
   "source": [
    "# create a list with hetrogeneous data type #\n"
   ]
  },
  {
   "cell_type": "code",
   "execution_count": 5,
   "id": "4eb2b0b7-2b05-44d0-a1e6-403d74670c06",
   "metadata": {
    "tags": []
   },
   "outputs": [
    {
     "name": "stdout",
     "output_type": "stream",
     "text": [
      "['Hello', 'all', 'my', 'name', 'is', 'prasanthi', 'and', 'I', 'am', 'a', 'data', 'analyst']\n"
     ]
    }
   ],
   "source": [
    "text_data = \"Hello all my name is prasanthi and I am a data analyst\"\n",
    "lst = text_data.split()\n",
    "print(lst)"
   ]
  },
  {
   "cell_type": "code",
   "execution_count": 6,
   "id": "0d97c3e3-d183-4df5-8dc0-85cd7e7c1246",
   "metadata": {
    "tags": []
   },
   "outputs": [
    {
     "name": "stdout",
     "output_type": "stream",
     "text": [
      "Element at 0th index:  1\n",
      "Element at 1st index:  2\n",
      "Element at 2nd index:  3\n",
      "Element at 3rd index:  4\n",
      "Element at 4th index:  5\n",
      "Element at -1st index:  5\n",
      "Element at -2nd index:  4\n",
      "Element at -3rd index:  3\n",
      "Element at -4th index:  2\n",
      "Element at -5th index:  1\n"
     ]
    }
   ],
   "source": [
    "lst = [1,2,3,4,5]\n",
    "print(\"Element at 0th index: \",lst[0])\n",
    "print(\"Element at 1st index: \", lst[1])\n",
    "print(\"Element at 2nd index: \", lst[2])\n",
    "print(\"Element at 3rd index: \", lst[3])\n",
    "print(\"Element at 4th index: \", lst[4])\n",
    "# print(\"Element at 5th index: \", lst[5])\n",
    "\n",
    "print(\"Element at -1st index: \", lst[-1])\n",
    "print(\"Element at -2nd index: \", lst[-2])\n",
    "print(\"Element at -3rd index: \", lst[-3])\n",
    "print(\"Element at -4th index: \", lst[-4])\n",
    "print(\"Element at -5th index: \", lst[-5])"
   ]
  },
  {
   "cell_type": "code",
   "execution_count": 7,
   "id": "f2c90e22-4d9f-470a-866e-8a5f82fea319",
   "metadata": {
    "tags": []
   },
   "outputs": [
    {
     "name": "stdout",
     "output_type": "stream",
     "text": [
      "[1, 2, 3]\n",
      "[1, 2, 3, 4]\n",
      "[1, 2, 3, 4, 5, 6]\n",
      "[1, 3, 5]\n",
      "[5, 4]\n",
      "[6, 5, 4, 3, 2, 1]\n"
     ]
    }
   ],
   "source": [
    "# List Slicing \n",
    "lst = [1,2,3,4,5,6]\n",
    "print(lst[:3])\n",
    "print(lst[:4])\n",
    "print(lst[:])\n",
    "print(lst[::2])\n",
    "print(lst[-2:-4:-1])\n",
    "print(lst[::-1])"
   ]
  },
  {
   "cell_type": "code",
   "execution_count": 8,
   "id": "6a2a21f6-122f-46fb-8938-c88bd88ed54e",
   "metadata": {
    "tags": []
   },
   "outputs": [
    {
     "name": "stdout",
     "output_type": "stream",
     "text": [
      "1\n",
      "2\n",
      "3\n",
      "4\n",
      "5\n",
      "6\n"
     ]
    }
   ],
   "source": [
    "lst = [1,2,3,4,5,6]\n",
    "\n",
    "for i in range(len(lst)):\n",
    "    print(lst[i])"
   ]
  },
  {
   "cell_type": "markdown",
   "id": "79863f03-3a3f-42ae-90a7-998a44307269",
   "metadata": {},
   "source": [
    "# list methonds #"
   ]
  },
  {
   "cell_type": "code",
   "execution_count": 9,
   "id": "875c4ad1-1dc8-4d04-8f74-d7d9d9d99550",
   "metadata": {
    "tags": []
   },
   "outputs": [
    {
     "name": "stdout",
     "output_type": "stream",
     "text": [
      "[1, 2, 3, 4, 5, 6, 7, 8, 9, 6]\n",
      "[1, 2, 3, 4, 5, 6, 7, 8, 9, 6, 7, 8, 9]\n",
      "[0, 1, 2, 3, 4, 5, 6, 7, 8, 9, 6, 7, 8, 9]\n"
     ]
    }
   ],
   "source": [
    "lst = [1,2,3,4,5,6,7,8,9]\n",
    "lst.append(6)\n",
    "print(lst)\n",
    "# extend method\n",
    "lst.extend([7,8,9])\n",
    "print(lst)\n",
    "# insert  list\n",
    "lst.insert(0,0)\n",
    "print(lst)\n"
   ]
  },
  {
   "cell_type": "code",
   "execution_count": 10,
   "id": "53e42af0-c6e1-434f-b299-8a4130081f6a",
   "metadata": {
    "tags": []
   },
   "outputs": [
    {
     "name": "stdout",
     "output_type": "stream",
     "text": [
      "[90, 0, 1, 2, 3, 4, 5, 6, 7, 8, 9, 6, 7, 8, 9]\n"
     ]
    }
   ],
   "source": [
    "lst.insert(0,90)\n",
    "print(lst)"
   ]
  },
  {
   "cell_type": "code",
   "execution_count": 12,
   "id": "1bb2cf2a-227a-4fa2-a543-7aa15b1980f4",
   "metadata": {
    "tags": []
   },
   "outputs": [
    {
     "name": "stdout",
     "output_type": "stream",
     "text": [
      "[90, 0, 1, 2, 3, 4, 5, 6, 7, 8, 9, 6, 7, 8, 500, 500, 9]\n"
     ]
    }
   ],
   "source": [
    "lst.insert(len(lst)-2, 500)\n",
    "print(lst)\n"
   ]
  },
  {
   "cell_type": "code",
   "execution_count": 13,
   "id": "c7c5e1f2-be96-4c55-b167-1e6fe92e1b63",
   "metadata": {
    "tags": []
   },
   "outputs": [
    {
     "name": "stdout",
     "output_type": "stream",
     "text": [
      "[90, 0, 1, 2, 3, 4, 5, 6, 7, 8, 9, 6, 7, 8, 500, 500, 700, 9]\n"
     ]
    }
   ],
   "source": [
    "lst.insert(-1, 700)\n",
    "print(lst)"
   ]
  },
  {
   "cell_type": "code",
   "execution_count": 15,
   "id": "89898b9b-5ebe-49ce-a012-13433ebc0f93",
   "metadata": {
    "tags": []
   },
   "outputs": [
    {
     "name": "stdout",
     "output_type": "stream",
     "text": [
      "[90, 0, 1, 2, 3, 4, 5, 6, 7, 8, 9, 6, 7, 8, 500, 500, 1000, 700, 9, 1000]\n"
     ]
    }
   ],
   "source": [
    "lst.insert(len(lst)-3, 1000)\n",
    "print(lst)"
   ]
  },
  {
   "cell_type": "code",
   "execution_count": 16,
   "id": "8d5209a2-f5ac-44fa-929e-78578c1f9944",
   "metadata": {
    "tags": []
   },
   "outputs": [
    {
     "name": "stdout",
     "output_type": "stream",
     "text": [
      "[1, 2, 3, 4]\n",
      "4\n",
      "[1, 2, 3]\n"
     ]
    }
   ],
   "source": [
    "# pop method\n",
    "lst = [1,2,3,4,5]\n",
    "last_element = lst.pop()\n",
    "print(lst)\n",
    "last_element = lst.pop()\n",
    "print(last_element)\n",
    "print(lst)"
   ]
  },
  {
   "cell_type": "code",
   "execution_count": 17,
   "id": "91a3cdfb-d4b9-4a70-bfdd-dad37229e7b0",
   "metadata": {
    "tags": []
   },
   "outputs": [
    {
     "name": "stdout",
     "output_type": "stream",
     "text": [
      "[10, 30, 40, 50]\n"
     ]
    },
    {
     "ename": "ValueError",
     "evalue": "list.remove(x): x not in list",
     "output_type": "error",
     "traceback": [
      "\u001b[1;31m---------------------------------------------------------------------------\u001b[0m",
      "\u001b[1;31mValueError\u001b[0m                                Traceback (most recent call last)",
      "Cell \u001b[1;32mIn[17], line 5\u001b[0m\n\u001b[0;32m      3\u001b[0m lst\u001b[38;5;241m.\u001b[39mremove(\u001b[38;5;241m20\u001b[39m)\n\u001b[0;32m      4\u001b[0m \u001b[38;5;28mprint\u001b[39m(lst)\n\u001b[1;32m----> 5\u001b[0m lst\u001b[38;5;241m.\u001b[39mremove(\u001b[38;5;241m60\u001b[39m)\n\u001b[0;32m      6\u001b[0m \u001b[38;5;28mprint\u001b[39m(lst)\n",
      "\u001b[1;31mValueError\u001b[0m: list.remove(x): x not in list"
     ]
    }
   ],
   "source": [
    "# remove method\n",
    "lst = [10,20,30,40,50]\n",
    "lst.remove(20)\n",
    "print(lst)\n",
    "lst.remove(60)\n",
    "print(lst)"
   ]
  },
  {
   "cell_type": "code",
   "execution_count": 18,
   "id": "e620d2d4-a8d2-43a4-a61e-02cc70fc0ad7",
   "metadata": {
    "tags": []
   },
   "outputs": [
    {
     "name": "stdout",
     "output_type": "stream",
     "text": [
      "[1, 3, 4, 5, 1, 4, 2, 6, 2, 5, 3, 5]\n"
     ]
    }
   ],
   "source": [
    "lst = [1,2,3,4,5,1,4,2,6,2,5,3,5]\n",
    "\n",
    "lst.remove(2)\n",
    "print(lst)"
   ]
  },
  {
   "cell_type": "code",
   "execution_count": 19,
   "id": "1a27980e-ecc9-4cfd-a4d0-a5eca06d7445",
   "metadata": {
    "tags": []
   },
   "outputs": [
    {
     "data": {
      "text/plain": [
       "0"
      ]
     },
     "execution_count": 19,
     "metadata": {},
     "output_type": "execute_result"
    }
   ],
   "source": [
    "# index method\n",
    "lst = [5,4,3,2,5,2,1,5]\n",
    "lst.index(5)"
   ]
  },
  {
   "cell_type": "code",
   "execution_count": 20,
   "id": "b35fb2a2-4ba2-472b-8cab-2fb13f4d9277",
   "metadata": {
    "tags": []
   },
   "outputs": [
    {
     "name": "stdout",
     "output_type": "stream",
     "text": [
      "[5, 4, 3, 2, 1]\n"
     ]
    }
   ],
   "source": [
    "# reverse method\n",
    "lst = [1,2,3,4,5]\n",
    "lst.reverse()\n",
    "print(lst)"
   ]
  },
  {
   "cell_type": "code",
   "execution_count": 21,
   "id": "b693d26e-41f8-47f7-9641-5038f6091364",
   "metadata": {
    "tags": []
   },
   "outputs": [
    {
     "name": "stdout",
     "output_type": "stream",
     "text": [
      "[5, 4, 3, 2, 1]\n",
      "[1, 2, 3, 4, 5]\n"
     ]
    }
   ],
   "source": [
    "lst = [1,2,3,4,5]\n",
    "print(lst[::-1])\n",
    "print(lst)"
   ]
  },
  {
   "cell_type": "code",
   "execution_count": 22,
   "id": "65f9c0bc-b489-40f1-82bf-45b380f69669",
   "metadata": {
    "tags": []
   },
   "outputs": [
    {
     "name": "stdout",
     "output_type": "stream",
     "text": [
      "[6, 5, 4, 3, 2, 1]\n"
     ]
    }
   ],
   "source": [
    "lst = [1,2,3,4,5,6]\n",
    "lst.reverse()\n",
    "print(lst)"
   ]
  },
  {
   "cell_type": "code",
   "execution_count": 23,
   "id": "35c1e4ac-3f31-4aac-bea2-38809ca447a6",
   "metadata": {
    "tags": []
   },
   "outputs": [
    {
     "name": "stdout",
     "output_type": "stream",
     "text": [
      "[3, 12, 12, 23, 45, 65, 76, 98, 100, 677]\n"
     ]
    }
   ],
   "source": [
    "# sort method\n",
    "lst = [45,23,76,3,12,98,100,677,12,65]\n",
    "lst.sort()\n",
    "print(lst)"
   ]
  },
  {
   "cell_type": "code",
   "execution_count": 24,
   "id": "7a5b04ee-eeab-4949-ad0f-83cf0cb9b557",
   "metadata": {
    "tags": []
   },
   "outputs": [
    {
     "name": "stdout",
     "output_type": "stream",
     "text": [
      "[677, 100, 98, 76, 65, 45, 23, 12, 12, 3]\n"
     ]
    }
   ],
   "source": [
    "lst = [45,23,76,3,12,98,100,677,12,65]\n",
    "lst.sort(reverse=True)\n",
    "print(lst)"
   ]
  },
  {
   "cell_type": "code",
   "execution_count": 26,
   "id": "3994b57d-2f54-4740-a316-4a5bdbf47a75",
   "metadata": {
    "tags": []
   },
   "outputs": [
    {
     "data": {
      "text/plain": [
       "4"
      ]
     },
     "execution_count": 26,
     "metadata": {},
     "output_type": "execute_result"
    }
   ],
   "source": [
    "# count method\n",
    "lst = [1,2,3,4,5,4,3,2,1,6,5,2,3,7,3,4,1,5,2]\n",
    "lst.count(2)"
   ]
  },
  {
   "cell_type": "code",
   "execution_count": 27,
   "id": "f70f895d-52f2-446e-8983-680d0e209635",
   "metadata": {
    "tags": []
   },
   "outputs": [
    {
     "name": "stdout",
     "output_type": "stream",
     "text": [
      "[]\n"
     ]
    }
   ],
   "source": [
    "# clear method\n",
    "\n",
    "lst.clear()\n",
    "print(lst)"
   ]
  },
  {
   "cell_type": "code",
   "execution_count": 42,
   "id": "e84bdeeb-08ee-49ad-97e4-131c19610131",
   "metadata": {
    "tags": []
   },
   "outputs": [
    {
     "name": "stdout",
     "output_type": "stream",
     "text": [
      "[6]\n"
     ]
    }
   ],
   "source": [
    "lst = [1,2,3,1,2,3,4]\n",
    "def get_index(value):\n",
    "        idx =[]\n",
    "        count = 0\n",
    "        for i in lst:\n",
    "            if i == value:\n",
    "                idx.append(count)\n",
    "            count = count + 1\n",
    "        return idx\n",
    "index = get_index(4)\n",
    "print(index)"
   ]
  },
  {
   "cell_type": "code",
   "execution_count": 46,
   "id": "9831bde6-9a28-4bfb-99bb-b78c789761d8",
   "metadata": {
    "tags": []
   },
   "outputs": [
    {
     "name": "stdout",
     "output_type": "stream",
     "text": [
      "15\n",
      "10511\n"
     ]
    }
   ],
   "source": [
    "def addition(a,b):\n",
    "    add = a+b\n",
    "    return add\n",
    "add1 = addition(10,5)\n",
    "print(add1)\n",
    "add2 = addition(646,9865)\n",
    "print(add2)"
   ]
  },
  {
   "cell_type": "markdown",
   "id": "45273841-6769-418b-b7f6-7ec1fee21f6c",
   "metadata": {},
   "source": [
    "# Tuples\n",
    "A tuples is a collection of heterogeneous and homogeneous datatypes which are not mutable in nature.\n",
    "A tuple is denoted by ()."
   ]
  },
  {
   "cell_type": "markdown",
   "id": "31bb82f6-d557-4548-8100-80711c2a1d1a",
   "metadata": {},
   "source": [
    "# Tuple Initialization"
   ]
  },
  {
   "cell_type": "code",
   "execution_count": 1,
   "id": "42c6616c-bf5f-4a8a-ae4c-da2ecc47e808",
   "metadata": {
    "tags": []
   },
   "outputs": [
    {
     "name": "stdout",
     "output_type": "stream",
     "text": [
      "(1, 2, 3, 4, 5)\n",
      "(1, 2, 3, 4, 5)\n",
      "()\n",
      "()\n"
     ]
    }
   ],
   "source": [
    "tup = (1,2,3,4,5)\n",
    "print(tup)\n",
    "tup = tuple((1,2,3,4,5))\n",
    "print(tup)\n",
    "tup=tuple()\n",
    "print(tup)\n",
    "tup=()\n",
    "print(tup)"
   ]
  },
  {
   "cell_type": "code",
   "execution_count": 2,
   "id": "f9ab98b3-fa9d-4e80-8891-3ddc7e30e01c",
   "metadata": {
    "tags": []
   },
   "outputs": [
    {
     "data": {
      "text/plain": [
       "2"
      ]
     },
     "execution_count": 2,
     "metadata": {},
     "output_type": "execute_result"
    }
   ],
   "source": [
    "tup = (1,2,1,3,4,3,4,5)\n",
    "tup.count(1)"
   ]
  },
  {
   "cell_type": "code",
   "execution_count": 5,
   "id": "21f3b11e-f2d4-47b1-950e-1a26e292557d",
   "metadata": {
    "tags": []
   },
   "outputs": [
    {
     "data": {
      "text/plain": [
       "7"
      ]
     },
     "execution_count": 5,
     "metadata": {},
     "output_type": "execute_result"
    }
   ],
   "source": [
    "tup.index(5)"
   ]
  },
  {
   "cell_type": "code",
   "execution_count": null,
   "id": "71bfc764-3793-4bb5-a2d8-86f7114ca09c",
   "metadata": {},
   "outputs": [],
   "source": [
    "### Mutablility vs Immutability"
   ]
  },
  {
   "cell_type": "code",
   "execution_count": 6,
   "id": "fafcfc5c-b26d-41bb-98a1-a3f26c772c10",
   "metadata": {
    "tags": []
   },
   "outputs": [
    {
     "data": {
      "text/plain": [
       "[1, 2, 3, 4, 5, 6, 10]"
      ]
     },
     "execution_count": 6,
     "metadata": {},
     "output_type": "execute_result"
    }
   ],
   "source": [
    "lst = [1,2,3,4,5]\n",
    "lst.append(6)\n",
    "lst + [10]"
   ]
  },
  {
   "cell_type": "code",
   "execution_count": 8,
   "id": "13fd3a27-a217-4796-9048-047b8b0d8376",
   "metadata": {
    "tags": []
   },
   "outputs": [],
   "source": [
    "tup = (1,2,3,4,5)\n"
   ]
  },
  {
   "cell_type": "code",
   "execution_count": 9,
   "id": "177f6c39-69b9-4504-8d7a-43f7b16e56bb",
   "metadata": {
    "tags": []
   },
   "outputs": [
    {
     "data": {
      "text/plain": [
       "(1, 2, 3, 4, 5)"
      ]
     },
     "execution_count": 9,
     "metadata": {},
     "output_type": "execute_result"
    }
   ],
   "source": [
    "tup"
   ]
  },
  {
   "cell_type": "code",
   "execution_count": 11,
   "id": "a15cbfb3-e48f-40c5-8ef3-255d83999a47",
   "metadata": {
    "tags": []
   },
   "outputs": [
    {
     "ename": "TypeError",
     "evalue": "can only concatenate tuple (not \"int\") to tuple",
     "output_type": "error",
     "traceback": [
      "\u001b[1;31m---------------------------------------------------------------------------\u001b[0m",
      "\u001b[1;31mTypeError\u001b[0m                                 Traceback (most recent call last)",
      "Cell \u001b[1;32mIn[11], line 1\u001b[0m\n\u001b[1;32m----> 1\u001b[0m tup \u001b[38;5;241m+\u001b[39m (\u001b[38;5;241m10\u001b[39m)\n",
      "\u001b[1;31mTypeError\u001b[0m: can only concatenate tuple (not \"int\") to tuple"
     ]
    }
   ],
   "source": [
    "tup + (10)"
   ]
  },
  {
   "cell_type": "code",
   "execution_count": 12,
   "id": "0cb7b1d1-776f-428d-bcc5-5ad5e35cec6d",
   "metadata": {
    "tags": []
   },
   "outputs": [],
   "source": [
    "tup1 =(1,2,3,4,5,6,7)\n",
    "tup2 = (10,20,30,40,50)\n",
    "tup = tup1+tup2"
   ]
  },
  {
   "cell_type": "code",
   "execution_count": 13,
   "id": "2acd9d8f-c874-4190-9414-1364b2fe7bc6",
   "metadata": {
    "tags": []
   },
   "outputs": [
    {
     "data": {
      "text/plain": [
       "(1, 2, 3, 4, 5, 6, 7, 10, 20, 30, 40, 50)"
      ]
     },
     "execution_count": 13,
     "metadata": {},
     "output_type": "execute_result"
    }
   ],
   "source": [
    "tup"
   ]
  },
  {
   "cell_type": "code",
   "execution_count": 3,
   "id": "e2ca9b08-7d37-494a-92b8-bb7cb87be9e1",
   "metadata": {},
   "outputs": [
    {
     "data": {
      "text/plain": [
       "[1, 2, 3, 4, 5, 6, 7, 4, 5, 6, 7, 8, 9, 10]"
      ]
     },
     "execution_count": 3,
     "metadata": {},
     "output_type": "execute_result"
    }
   ],
   "source": [
    "lst = [1,2,3,4,5,6,7]\n",
    "for i in range(4,11):\n",
    "    lst.append(i)\n",
    "lst"
   ]
  },
  {
   "cell_type": "code",
   "execution_count": 5,
   "id": "72dcdc0a-606b-4ba9-ba17-8a9f2afed33b",
   "metadata": {},
   "outputs": [
    {
     "data": {
      "text/plain": [
       "(1, 2, 3, 4, 5, 6, 7, 8, 9, 10)"
      ]
     },
     "execution_count": 5,
     "metadata": {},
     "output_type": "execute_result"
    }
   ],
   "source": [
    "tup = (1,2,3,4)\n",
    "for i in range(5,11):\n",
    "    tup2=(i,)\n",
    "    tup = tup + tup2\n",
    "tup"
   ]
  },
  {
   "cell_type": "code",
   "execution_count": null,
   "id": "7afa8a5b-f1e1-4593-9437-ac45c477087f",
   "metadata": {},
   "outputs": [],
   "source": [
    "# How to add new element to a tuple"
   ]
  },
  {
   "cell_type": "code",
   "execution_count": 6,
   "id": "39d3ecec-e752-4d4c-b1f6-0f18be7f7db3",
   "metadata": {
    "tags": []
   },
   "outputs": [
    {
     "name": "stdout",
     "output_type": "stream",
     "text": [
      "(1, 2, 3, 4, 5, 6)\n"
     ]
    }
   ],
   "source": [
    "tup = (1,2,3,4,5)\n",
    "lst = list(tup)\n",
    "lst.append(6)\n",
    "tup = tuple(lst)\n",
    "print(tup)"
   ]
  },
  {
   "cell_type": "code",
   "execution_count": 7,
   "id": "137d312d-c07e-4ea1-956d-2e74c5ad7a5b",
   "metadata": {
    "tags": []
   },
   "outputs": [
    {
     "data": {
      "text/plain": [
       "int"
      ]
     },
     "execution_count": 7,
     "metadata": {},
     "output_type": "execute_result"
    }
   ],
   "source": [
    "type(5)"
   ]
  },
  {
   "cell_type": "code",
   "execution_count": null,
   "id": "6b455ac2-899a-4e3c-b448-f7162b76c0b9",
   "metadata": {},
   "outputs": [],
   "source": [
    "# deep copy and shallow copy"
   ]
  },
  {
   "cell_type": "code",
   "execution_count": 9,
   "id": "87433130-2217-4cda-9f81-8cac6f61f7e3",
   "metadata": {
    "tags": []
   },
   "outputs": [],
   "source": [
    "import copy"
   ]
  },
  {
   "cell_type": "code",
   "execution_count": 10,
   "id": "e4dbb9ee-5c1b-4211-8a9d-13eda0721300",
   "metadata": {
    "tags": []
   },
   "outputs": [
    {
     "name": "stdout",
     "output_type": "stream",
     "text": [
      "[[1, 2, 3, 4, 5], [4, 5, 6, 7]]\n",
      "[[99, 2, 3, 4, 5], [4, 5, 6, 7]]\n"
     ]
    }
   ],
   "source": [
    "### deep copy #####\n",
    "x =[[1,2,3,4,5],[4,5,6,7]]\n",
    "deep_copy = copy.deepcopy(x)\n",
    "deep_copy[0][0]=99\n",
    "print(x)\n",
    "print(deep_copy)\n",
    "    "
   ]
  },
  {
   "cell_type": "code",
   "execution_count": 13,
   "id": "34e421ca-67e4-43bf-8d3a-9c4f65822339",
   "metadata": {
    "tags": []
   },
   "outputs": [
    {
     "name": "stdout",
     "output_type": "stream",
     "text": [
      "[[99, 2, 3, 4, 5], [4, 5, 6, 7]]\n",
      "[[99, 2, 3, 4, 5], [4, 5, 6, 7]]\n"
     ]
    }
   ],
   "source": [
    "#### shallow copy ###\n",
    "x =[[1,2,3,4,5],[4,5,6,7]]\n",
    "shallow_copy = copy.copy(x)\n",
    "shallow_copy[0][0]=99\n",
    "print(x)\n",
    "print(shallow_copy)"
   ]
  },
  {
   "cell_type": "code",
   "execution_count": null,
   "id": "dd21bc53-ac68-4ed0-92b4-777d71b110df",
   "metadata": {},
   "outputs": [],
   "source": []
  }
 ],
 "metadata": {
  "kernelspec": {
   "display_name": "Python 3 (ipykernel)",
   "language": "python",
   "name": "python3"
  },
  "language_info": {
   "codemirror_mode": {
    "name": "ipython",
    "version": 3
   },
   "file_extension": ".py",
   "mimetype": "text/x-python",
   "name": "python",
   "nbconvert_exporter": "python",
   "pygments_lexer": "ipython3",
   "version": "3.11.5"
  }
 },
 "nbformat": 4,
 "nbformat_minor": 5
}
