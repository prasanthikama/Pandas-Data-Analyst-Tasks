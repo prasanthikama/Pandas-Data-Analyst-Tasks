{
 "cells": [
  {
   "cell_type": "markdown",
   "id": "3c5fb61d-ecc6-4676-83fb-8ed6b7a12855",
   "metadata": {},
   "source": [
    "# String\n",
    "A string in python is a sequence of character enclosed within singlr quote(\" this a string\"),\n",
    "or triple quotes(\"\"\"This a strring\"\"\")"
   ]
  },
  {
   "cell_type": "code",
   "execution_count": 1,
   "id": "69f5514e-2f14-4329-bd4e-9da82a6ae667",
   "metadata": {
    "tags": []
   },
   "outputs": [
    {
     "name": "stdout",
     "output_type": "stream",
     "text": [
      "<class 'int'>\n",
      "<class 'str'>\n",
      "<class 'str'>\n",
      "<class 'str'>\n"
     ]
    }
   ],
   "source": [
    "x= 5\n",
    "print(type(x))\n",
    "x = '5'\n",
    "print(type(x))\n",
    "x=\"5\"\n",
    "print(type(x))\n",
    "x= \"\"\"5\"\"\"\n",
    "print(type(x))"
   ]
  },
  {
   "cell_type": "code",
   "execution_count": 6,
   "id": "7b231d4a-e8c7-4b41-abb1-6725b1a2db6d",
   "metadata": {
    "tags": []
   },
   "outputs": [
    {
     "name": "stdout",
     "output_type": "stream",
     "text": [
      "Hii!! my name is prasanthi.I am 30 years old.I love teaching ...@#$%\n",
      "H\n",
      " my name is\n",
      " ynm s\n",
      "%$#@... gnihcaet evol I.dlo sraey 03 ma I.ihtnasarp si eman ym !!iiH\n"
     ]
    }
   ],
   "source": [
    "s = \"Hii!! my name is prasanthi.I am 30 years old.I love teaching ...@#$%\"\n",
    "print(s[:])\n",
    "print(s[0])\n",
    "print(s[5:16])\n",
    "print(s[5:16:2])\n",
    "print(s[::-1])"
   ]
  },
  {
   "cell_type": "markdown",
   "id": "62e29b2e-85dc-48b9-a58d-2a0a3bd6eeef",
   "metadata": {},
   "source": [
    "### string methods"
   ]
  },
  {
   "cell_type": "code",
   "execution_count": 10,
   "id": "ff0e652f-0e90-467f-a0f2-970522364174",
   "metadata": {
    "tags": []
   },
   "outputs": [
    {
     "name": "stdout",
     "output_type": "stream",
     "text": [
      "HELLO WORLD\n",
      "hello world\n",
      "Hello world\n",
      "Hello World\n",
      "hELLO wORLD\n"
     ]
    }
   ],
   "source": [
    "s=\"Hello World\"\n",
    "print(s.upper())\n",
    "print(s.lower())\n",
    "print(s.capitalize())\n",
    "print(s.title())\n",
    "print(s.swapcase())"
   ]
  },
  {
   "cell_type": "code",
   "execution_count": 18,
   "id": "34db6ded-bd0d-4ca7-b52c-06e63bffb665",
   "metadata": {
    "tags": []
   },
   "outputs": [
    {
     "name": "stdout",
     "output_type": "stream",
     "text": [
      "False\n",
      "False\n",
      "True\n",
      "False\n",
      "True\n",
      "False\n"
     ]
    }
   ],
   "source": [
    "s = \"python123\"\n",
    "print(s.isalpha())\n",
    "print(s.isdigit())\n",
    "print(s.isalnum())\n",
    "print(s.isspace())\n",
    "print(s.startswith('py'))\n",
    "print(s.endswith('321'))"
   ]
  },
  {
   "cell_type": "code",
   "execution_count": 26,
   "id": "72a93118-bfd0-4558-a87a-e07362d1dac9",
   "metadata": {
    "tags": []
   },
   "outputs": [
    {
     "name": "stdout",
     "output_type": "stream",
     "text": [
      "hello     world\n",
      "hello     world  \n",
      "  hello     world\n",
      "  hello     python  \n"
     ]
    }
   ],
   "source": [
    "s = \"  hello     world  \"\n",
    "print(s.strip())\n",
    "print(s.lstrip())\n",
    "print(s.rstrip())\n",
    "print(s.replace(\"world\",\"python\"))"
   ]
  },
  {
   "cell_type": "code",
   "execution_count": 30,
   "id": "664c9c48-35a4-4345-be31-e42554a90977",
   "metadata": {
    "tags": []
   },
   "outputs": [
    {
     "name": "stdout",
     "output_type": "stream",
     "text": [
      "['apple,grapes,banana']\n",
      "hello world\n"
     ]
    }
   ],
   "source": [
    "s = \"apple,grapes,banana\"\n",
    "print(s.split(sep=' '))\n",
    "words = [\"hello\", \"world\"]\n",
    "print(\" \".join(words))"
   ]
  },
  {
   "cell_type": "code",
   "execution_count": 35,
   "id": "86dbd26e-5cba-4d60-9b02-a99ecd6c8b95",
   "metadata": {
    "tags": []
   },
   "outputs": [
    {
     "name": "stdout",
     "output_type": "stream",
     "text": [
      "-1\n"
     ]
    }
   ],
   "source": [
    "### substring \n",
    "s = \"python\"\n",
    "print(s.find(\"program\"))"
   ]
  },
  {
   "cell_type": "code",
   "execution_count": 36,
   "id": "e99e0d17-18d9-4fe9-a854-71c1ad83eb17",
   "metadata": {
    "tags": []
   },
   "outputs": [
    {
     "name": "stdout",
     "output_type": "stream",
     "text": [
      "p\n",
      "y\n",
      "t\n",
      "h\n",
      "o\n",
      "n\n"
     ]
    }
   ],
   "source": [
    "for i in s:\n",
    "    print(i)\n",
    "    "
   ]
  },
  {
   "cell_type": "code",
   "execution_count": 41,
   "id": "0d439e92-3daf-4f76-beba-df708430be95",
   "metadata": {
    "tags": []
   },
   "outputs": [
    {
     "name": "stdout",
     "output_type": "stream",
     "text": [
      "@\n",
      "%\n",
      ":\n",
      ";\n"
     ]
    }
   ],
   "source": [
    "## find special charter\n",
    "s = \"This is a string @&%:;\"\n",
    "spl_chars = \"!@#$%^:;\"\n",
    "for i in spl_chars:\n",
    "    if i in s:\n",
    "            print(i)"
   ]
  },
  {
   "cell_type": "code",
   "execution_count": null,
   "id": "587f3132-cd9d-4976-a29c-6e6ffac9834d",
   "metadata": {},
   "outputs": [],
   "source": []
  }
 ],
 "metadata": {
  "kernelspec": {
   "display_name": "Python 3 (ipykernel)",
   "language": "python",
   "name": "python3"
  },
  "language_info": {
   "codemirror_mode": {
    "name": "ipython",
    "version": 3
   },
   "file_extension": ".py",
   "mimetype": "text/x-python",
   "name": "python",
   "nbconvert_exporter": "python",
   "pygments_lexer": "ipython3",
   "version": "3.11.5"
  }
 },
 "nbformat": 4,
 "nbformat_minor": 5
}
