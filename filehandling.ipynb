{
 "cells": [
  {
   "cell_type": "code",
   "execution_count": 49,
   "id": "51098e86-8735-4cb1-a706-1c1a102fff29",
   "metadata": {
    "tags": []
   },
   "outputs": [
    {
     "name": "stdout",
     "output_type": "stream",
     "text": [
      "hi \n",
      "\n",
      "l\n",
      "\n",
      "lo\n",
      "\n",
      "pk \n",
      "\n",
      ",jjii\n",
      "\n",
      "mjvv\n"
     ]
    }
   ],
   "source": [
    "def read_file(filename,mode):\n",
    "    try :\n",
    "        file= open(filename ,mode)\n",
    "    except FileNotFoundError:\n",
    "        print(\"file not found\")\n",
    "    else:\n",
    "        for i in file:\n",
    "            print(i)\n",
    "filename =\"C:/Users/prasa/ancondaprojects/p.txt\"\n",
    "mode = \"r\"\n",
    "read_file(filename,mode)\n",
    "    "
   ]
  },
  {
   "cell_type": "code",
   "execution_count": 57,
   "id": "b063fb07-3c5a-4e71-b760-be462cdec37a",
   "metadata": {
    "tags": []
   },
   "outputs": [
    {
     "name": "stdout",
     "output_type": "stream",
     "text": [
      "False\n",
      "hi \n",
      "l\n",
      "lo\n",
      "pk \n",
      ",jjii\n",
      "mjvv\n",
      "True\n"
     ]
    }
   ],
   "source": [
    "#### best practice : using a with statement automatically closes the file after use\n",
    "with open(\"C:/Users/prasa/ancondaprojects/p.txt\", \"r\") as file:\n",
    "        print(file.closed)\n",
    "        data = file.read()\n",
    "        print(data)\n",
    "print(file.closed)\n",
    "          "
   ]
  },
  {
   "cell_type": "code",
   "execution_count": 46,
   "id": "7b0e4c62-b5ec-435a-b0f8-f6f12e3ae754",
   "metadata": {
    "tags": []
   },
   "outputs": [
    {
     "name": "stdout",
     "output_type": "stream",
     "text": [
      "False\n",
      "hi \n",
      "l\n",
      "lo\n",
      "pk \n",
      ",jjii\n",
      "mjvv\n",
      "True\n"
     ]
    }
   ],
   "source": [
    "with open(\"C:/Users/prasa/ancondaprojects/p.txt\", \"r\") as file:\n",
    "    print(file.closed)  # This will print False because the file is open\n",
    "    data = file.read()  \n",
    "    print(data)  # This prints the file's content\n",
    "\n",
    "print(file.closed)  # This will print True because the file is now closed\n"
   ]
  },
  {
   "cell_type": "code",
   "execution_count": 5,
   "id": "38ef18cd-b4ad-446c-9998-f9b6e79c93fd",
   "metadata": {},
   "outputs": [],
   "source": [
    "#### ways of reading file\n",
    "with open(\"C:/Users/prasa/ancondaprojects/w.txt\",\"w\") as file:\n",
    "    file.write(\"This is apython file Handling topic\")\n",
    "    file.write(\"file handling is very imporotant to learn\")\n",
    "    "
   ]
  },
  {
   "cell_type": "code",
   "execution_count": 32,
   "id": "b6b4ab71-6bb5-4ac1-9fbf-09af09538116",
   "metadata": {
    "tags": []
   },
   "outputs": [],
   "source": [
    "#### write one line after another\n",
    "with open(\"C:/Users/prasa/ancondaprojects/k.txt\",\"w\") as file:\n",
    "    file.write(\"This is apython  handling topic.\\n I am Prasanthi learning file handling\")\n",
    "    ###file.write(\"file handling is very imporotant to learn\")"
   ]
  },
  {
   "cell_type": "code",
   "execution_count": 47,
   "id": "02cc2e72-8c96-41cc-8d4d-ac6f34e359dd",
   "metadata": {
    "tags": []
   },
   "outputs": [],
   "source": [
    "with open(\"C:/Users/prasa/ancondaprojects/o.txt\", \"w\") as file:\n",
    "    file.write(\"This is a Python handling topic.\\n\")  # First line\n",
    "    file.write(\"I am Prasanthi learning file handling.\\n\")  # Second line\n",
    "    # file.write(\"file handling is very important to learn.\\n\")  # Uncomment if needed\n"
   ]
  },
  {
   "cell_type": "code",
   "execution_count": 49,
   "id": "260ff786-1fa7-4086-9602-1c5276059cad",
   "metadata": {
    "tags": []
   },
   "outputs": [
    {
     "name": "stdout",
     "output_type": "stream",
     "text": [
      "['This is a Python handling topic.\\n', 'I am Prasanthi learning OOPS.\\n']\n"
     ]
    }
   ],
   "source": [
    "with open (\"C:/Users/prasa/ancondaprojects/o.txt\",\"r\") as file:\n",
    "    data = file.readlines()\n",
    "    for i in data:\n",
    "         if \"file handling\" in i:\n",
    "            f =  i.replace(\"file handling\",\"OOPS\")\n",
    "    data[1] = f\n",
    "    print(data)\n",
    "    "
   ]
  },
  {
   "cell_type": "code",
   "execution_count": 44,
   "id": "c1a2def4-d9db-49c8-baee-05c7a26a8357",
   "metadata": {
    "tags": []
   },
   "outputs": [],
   "source": [
    "#### Appending data"
   ]
  },
  {
   "cell_type": "code",
   "execution_count": 52,
   "id": "16cd1ebd-24a4-4a96-b2ef-9fdc6279e718",
   "metadata": {
    "tags": []
   },
   "outputs": [],
   "source": [
    "with open (\"C:/Users/prasa/ancondaprojects/o.txt\",\"a\") as file:\n",
    "    file.write(\"\\n I am enjoying the class\")"
   ]
  },
  {
   "cell_type": "code",
   "execution_count": 53,
   "id": "ec84272d-6279-4f6a-904b-90b01e220750",
   "metadata": {
    "tags": []
   },
   "outputs": [],
   "source": [
    "with open (\"C:/Users/prasa/ancondaprojects/o.txt\",\"a\") as file:\n",
    "    file.write(\"\\n I am searching for data analyst\")"
   ]
  },
  {
   "cell_type": "code",
   "execution_count": null,
   "id": "df3fc995-241a-4a98-82cf-69e65aaa64be",
   "metadata": {},
   "outputs": [],
   "source": [
    "with open (\"C:/Users/prasa/ancondaprojects/o.txt\",\"a\") as file:\n",
    "    file.write(\"\\n I am enjoying the class\")"
   ]
  }
 ],
 "metadata": {
  "kernelspec": {
   "display_name": "Python 3 (ipykernel)",
   "language": "python",
   "name": "python3"
  },
  "language_info": {
   "codemirror_mode": {
    "name": "ipython",
    "version": 3
   },
   "file_extension": ".py",
   "mimetype": "text/x-python",
   "name": "python",
   "nbconvert_exporter": "python",
   "pygments_lexer": "ipython3",
   "version": "3.11.5"
  }
 },
 "nbformat": 4,
 "nbformat_minor": 5
}
