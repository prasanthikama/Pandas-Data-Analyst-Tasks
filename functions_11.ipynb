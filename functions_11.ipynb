{
 "cells": [
  {
   "cell_type": "code",
   "execution_count": 16,
   "id": "0d1b8384-d478-4b26-8fb7-dd518b7f5f22",
   "metadata": {
    "tags": []
   },
   "outputs": [],
   "source": [
    "def genarate_odd_even(start_idx,end_idx):\n",
    "    even_list = [i for i in range(start_idx,end_idx) if i%2 ==0]\n",
    "    odd_list = [i for i in range(start_idx,end_idx) if i%2 !=0]\n",
    "    \n",
    "    return even_list, odd_list "
   ]
  },
  {
   "cell_type": "code",
   "execution_count": 17,
   "id": "3a56a47a-88b4-418c-ad90-27ee56cc88de",
   "metadata": {
    "tags": []
   },
   "outputs": [
    {
     "name": "stdin",
     "output_type": "stream",
     "text": [
      "enter the start index:  0\n",
      "enter the end index:   9\n"
     ]
    },
    {
     "name": "stdout",
     "output_type": "stream",
     "text": [
      "[0, 2, 4, 6, 8]\n",
      "\n",
      "[1, 3, 5, 7]\n"
     ]
    }
   ],
   "source": [
    "x = int(input(\"enter the start index: \"))\n",
    "y = int(input(\"enter the end index:  \"))\n",
    "even_lst,odd_lst = genarate_odd_even(start_idx=x,end_idx=y)\n",
    "print(even_lst)\n",
    "print()\n",
    "print(odd_lst)"
   ]
  },
  {
   "cell_type": "code",
   "execution_count": null,
   "id": "ec58ba5a-bfca-48fa-a265-1e122eafe175",
   "metadata": {},
   "outputs": [],
   "source": [
    "### write a function to get the factorial of the number"
   ]
  },
  {
   "cell_type": "code",
   "execution_count": 27,
   "id": "fefad710-4b5c-445f-b1c0-c01587dfe835",
   "metadata": {
    "tags": []
   },
   "outputs": [],
   "source": [
    "def factorial(n):\n",
    "    result = 1\n",
    "    for i in range(1, n + 1):\n",
    "        result *= i\n",
    "    return result"
   ]
  },
  {
   "cell_type": "code",
   "execution_count": 1,
   "id": "f031bf2a-2baa-4484-bd6d-632710a9596d",
   "metadata": {
    "tags": []
   },
   "outputs": [
    {
     "ename": "SyntaxError",
     "evalue": "incomplete input (1563073285.py, line 1)",
     "output_type": "error",
     "traceback": [
      "\u001b[1;36m  Cell \u001b[1;32mIn[1], line 1\u001b[1;36m\u001b[0m\n\u001b[1;33m    n = int(input(\"enter the value:\")\u001b[0m\n\u001b[1;37m                                     ^\u001b[0m\n\u001b[1;31mSyntaxError\u001b[0m\u001b[1;31m:\u001b[0m incomplete input\n"
     ]
    }
   ],
   "source": [
    "n = int(input(\"enter the value:\")"
   ]
  },
  {
   "cell_type": "code",
   "execution_count": null,
   "id": "083b10b7-6625-4c50-8613-023a0aa754da",
   "metadata": {},
   "outputs": [],
   "source": [
    "def factorial(x)\n",
    "    \"\"\"\"\n",
    "    return factorial of x\n",
    "    \"\"\"\"\"\n",
    "    fact = 1\n",
    "    for i in range(x,1)\n",
    "    "
   ]
  },
  {
   "cell_type": "code",
   "execution_count": null,
   "id": "bd5d5d5b-b4d5-49df-904e-e2756ee23be0",
   "metadata": {},
   "outputs": [],
   "source": []
  }
 ],
 "metadata": {
  "kernelspec": {
   "display_name": "Python 3 (ipykernel)",
   "language": "python",
   "name": "python3"
  },
  "language_info": {
   "codemirror_mode": {
    "name": "ipython",
    "version": 3
   },
   "file_extension": ".py",
   "mimetype": "text/x-python",
   "name": "python",
   "nbconvert_exporter": "python",
   "pygments_lexer": "ipython3",
   "version": "3.11.5"
  }
 },
 "nbformat": 4,
 "nbformat_minor": 5
}
