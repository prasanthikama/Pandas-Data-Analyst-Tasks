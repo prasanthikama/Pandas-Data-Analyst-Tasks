{
 "cells": [
  {
   "cell_type": "markdown",
   "id": "dd055504",
   "metadata": {},
   "source": [
    "A regex is a sequence of characters that defines a search pattern, in strings matching. \n",
    "\n",
    "It is used for searching, replacing and validating text\n",
    "\n",
    "Use Cases:\n",
    "\n",
    "a. Data Validation:\n",
    "    1. Email Validation\n",
    "    2. Phone Number Validation\n",
    "    3. Password Validation\n",
    "\n",
    "b. Search and Replace\n",
    "    1. Find all the URLs in a document\n",
    "    2. Censor specific words\n",
    "\n",
    "c. Text Extraction\n",
    "    1. Extract dates in different formats\n",
    "    2. Extract hashtags from social media\n",
    "\n",
    "d. NLP\n",
    "    1. Remove Punctuation"
   ]
  },
  {
   "cell_type": "code",
   "execution_count": 106,
   "id": "c91e9fd8",
   "metadata": {},
   "outputs": [],
   "source": [
    "import re"
   ]
  },
  {
   "cell_type": "code",
   "execution_count": 107,
   "id": "ebe8dd21",
   "metadata": {},
   "outputs": [
    {
     "name": "stdout",
     "output_type": "stream",
     "text": [
      "['17', '27', '45', '78']\n"
     ]
    }
   ],
   "source": [
    "text = \"Roll No: 17 27 45 78\"\n",
    "pattern = r\"\\d+\"\n",
    "\n",
    "matches = re.findall(pattern, text)\n",
    "print(matches)"
   ]
  },
  {
   "cell_type": "code",
   "execution_count": 108,
   "id": "c61d283b",
   "metadata": {},
   "outputs": [],
   "source": [
    "### Regex Basic Sytax "
   ]
  },
  {
   "cell_type": "code",
   "execution_count": 109,
   "id": "a9e1fc5b",
   "metadata": {},
   "outputs": [
    {
     "name": "stdout",
     "output_type": "stream",
     "text": [
      "['cat', 'cut', 'cot', 'cet', 'cht']\n"
     ]
    }
   ],
   "source": [
    "# . (Dot): Matches any character except a new line\n",
    "\n",
    "text = \"I have a cat, a cut and a cot cet cht c\\nt\"\n",
    "pattern = r\"c.t\"\n",
    "\n",
    "matches = re.findall(pattern, text)\n",
    "print(matches)"
   ]
  },
  {
   "cell_type": "code",
   "execution_count": 110,
   "id": "1b622ea4",
   "metadata": {},
   "outputs": [
    {
     "name": "stdout",
     "output_type": "stream",
     "text": [
      "True\n",
      "False\n"
     ]
    }
   ],
   "source": [
    "# ^ (Caret): Matches Start of a String\n",
    "\n",
    "text1 = \"HelloJ World!\"\n",
    "text2 = \"Bye World\"\n",
    "\n",
    "pattern = r\"^H\"\n",
    "\n",
    "print(bool(re.search(pattern, text1)))\n",
    "print(bool(re.search(pattern, text2)))"
   ]
  },
  {
   "cell_type": "code",
   "execution_count": 111,
   "id": "17596757",
   "metadata": {},
   "outputs": [
    {
     "name": "stdout",
     "output_type": "stream",
     "text": [
      "False\n",
      "True\n"
     ]
    }
   ],
   "source": [
    "# $ (Dollar Sign): Matches end of a string\n",
    "\n",
    "text1 = \"Hello World!\"\n",
    "text2 = \"Bye World\"\n",
    "\n",
    "pattern = r\"d$\"\n",
    "\n",
    "print(bool(re.search(pattern, text1)))\n",
    "print(bool(re.search(pattern, text2)))"
   ]
  },
  {
   "cell_type": "code",
   "execution_count": 112,
   "id": "3ec7478e",
   "metadata": {},
   "outputs": [
    {
     "data": {
      "text/plain": [
       "['e', 'd']"
      ]
     },
     "execution_count": 112,
     "metadata": {},
     "output_type": "execute_result"
    }
   ],
   "source": [
    "# [] (Character class): Matches any character inside bracket\n",
    "\n",
    "text = \"Hello World\"\n",
    "pattern = r\"[aeiud]\"\n",
    "\n",
    "re.findall(pattern, text)"
   ]
  },
  {
   "cell_type": "code",
   "execution_count": 113,
   "id": "b7953d6a",
   "metadata": {},
   "outputs": [
    {
     "data": {
      "text/plain": [
       "['27', '264382325', '5']"
      ]
     },
     "execution_count": 113,
     "metadata": {},
     "output_type": "execute_result"
    }
   ],
   "source": [
    "# \\d Matches any Digit(0-9)\n",
    "# \\d+ one or more digits\n",
    "\n",
    "text = \"My age is 27 and my phone is 264382325 5\"\n",
    "pattern = r\"\\d+\"\n",
    "\n",
    "re.findall(pattern, text)"
   ]
  },
  {
   "cell_type": "code",
   "execution_count": 114,
   "id": "bf560e6a",
   "metadata": {},
   "outputs": [
    {
     "name": "stdout",
     "output_type": "stream",
     "text": [
      "['Roll No: ', ' ', ' ', ' ', ' wgfwuih']\n"
     ]
    }
   ],
   "source": [
    "# \\D Matches any non-digit\n",
    "\n",
    "text = \"Roll No: 170 27 45 78 wgfwuih\"\n",
    "pattern = r\"\\D+\"\n",
    "\n",
    "matches = re.findall(pattern, text)\n",
    "print(matches)"
   ]
  },
  {
   "cell_type": "code",
   "execution_count": 115,
   "id": "06c56a29",
   "metadata": {},
   "outputs": [
    {
     "data": {
      "text/plain": [
       "['Regex', 'is', 'a', 'powerful', 'tool_123', '74654385']"
      ]
     },
     "execution_count": 115,
     "metadata": {},
     "output_type": "execute_result"
    }
   ],
   "source": [
    "# \\w Matches any word character (A-Z, a-z, 0-9)\n",
    "\n",
    "text = \"Regex is a powerful tool_123 74654385\"\n",
    "pattern = r\"\\w+\"\n",
    "re.findall(pattern, text)"
   ]
  },
  {
   "cell_type": "code",
   "execution_count": 116,
   "id": "15efe45a",
   "metadata": {},
   "outputs": [
    {
     "data": {
      "text/plain": [
       "['!, ', ' ', ', ', ' ', '!!!, ', ' #$^&^$#']"
      ]
     },
     "execution_count": 116,
     "metadata": {},
     "output_type": "execute_result"
    }
   ],
   "source": [
    "# \\W Matches any non word character (spaces, punctuation, spl characters, etc)\n",
    "\n",
    "text = \"Hello!, my name, is Debanjan!!!, 76345234 #$^&^$#\"\n",
    "pattern = r\"\\W+\"\n",
    "re.findall(pattern, text)"
   ]
  },
  {
   "cell_type": "code",
   "execution_count": 117,
   "id": "ed8da53d",
   "metadata": {},
   "outputs": [
    {
     "data": {
      "text/plain": [
       "[' ', ' ', ' ', ' ', ' ', ' ']"
      ]
     },
     "execution_count": 117,
     "metadata": {},
     "output_type": "execute_result"
    }
   ],
   "source": [
    "# \\s Matches Whitespaces (Spaces, tabs, newline)\n",
    "\n",
    "text = \"Hello!, my name, is Debanjan!!!, 76345234 #$^&^$#\"\n",
    "pattern = r\"\\s+\"\n",
    "re.findall(pattern, text)"
   ]
  },
  {
   "cell_type": "code",
   "execution_count": 118,
   "id": "bf7d545c",
   "metadata": {},
   "outputs": [
    {
     "data": {
      "text/plain": [
       "['Hello!,', 'my', 'name,', 'is', 'Debanjan!!!,', '76345234', '#$^&^$#']"
      ]
     },
     "execution_count": 118,
     "metadata": {},
     "output_type": "execute_result"
    }
   ],
   "source": [
    "# \\S Matches any non whitespace character\n",
    "\n",
    "text = \"Hello!, my name, is Debanjan!!!, 76345234 #$^&^$#\"\n",
    "pattern = r\"\\S+\"\n",
    "re.findall(pattern, text)"
   ]
  },
  {
   "cell_type": "code",
   "execution_count": 119,
   "id": "661b5403",
   "metadata": {},
   "outputs": [
    {
     "data": {
      "text/plain": [
       "['cat']"
      ]
     },
     "execution_count": 119,
     "metadata": {},
     "output_type": "execute_result"
    }
   ],
   "source": [
    "# \\b Matched word boundaries\n",
    "\n",
    "text = \"A cat sat on a scatter mat.\"\n",
    "pattern = r\"\\bcat\\b\"\n",
    "\n",
    "re.findall(pattern, text)"
   ]
  },
  {
   "cell_type": "code",
   "execution_count": 120,
   "id": "6e4d1ac9",
   "metadata": {},
   "outputs": [
    {
     "data": {
      "text/plain": [
       "[('25', '02', '10')]"
      ]
     },
     "execution_count": 120,
     "metadata": {},
     "output_type": "execute_result"
    }
   ],
   "source": [
    "# () Grouping : Captures specific parts of a match\n",
    "\n",
    "text = \"Today's date is 2025-02-10.\"\n",
    "\n",
    "pattern = r\"(\\d{2})-(\\d{2})-(\\d{2})\"\n",
    "re.findall(pattern, text)"
   ]
  },
  {
   "cell_type": "code",
   "execution_count": 121,
   "id": "cd8a7dfa",
   "metadata": {},
   "outputs": [
    {
     "data": {
      "text/plain": [
       "['cat', 'dog']"
      ]
     },
     "execution_count": 121,
     "metadata": {},
     "output_type": "execute_result"
    }
   ],
   "source": [
    "# | OR: Matches either pattern\n",
    "\n",
    "text = \"I have a cat and a dog.\"\n",
    "pattern = r\"cat|dog\"\n",
    "\n",
    "re.findall(pattern, text)"
   ]
  },
  {
   "cell_type": "code",
   "execution_count": 122,
   "id": "358beedc",
   "metadata": {},
   "outputs": [
    {
     "data": {
      "text/plain": [
       "['gd', 'god', 'good', 'goood']"
      ]
     },
     "execution_count": 122,
     "metadata": {},
     "output_type": "execute_result"
    }
   ],
   "source": [
    "# * Asterisk: Matches 0 or more occurences\n",
    "\n",
    "text = \"gd god good goood\"\n",
    "pattern = r\"go*d\"\n",
    "\n",
    "\n",
    "\n",
    "re.findall(pattern, text)"
   ]
  },
  {
   "cell_type": "code",
   "execution_count": 123,
   "id": "d7c0210c",
   "metadata": {},
   "outputs": [
    {
     "data": {
      "text/plain": [
       "['god', 'good', 'goood']"
      ]
     },
     "execution_count": 123,
     "metadata": {},
     "output_type": "execute_result"
    }
   ],
   "source": [
    "# + Plus: Matches 1 or more occurences\n",
    "\n",
    "\n",
    "text = \"gd god good goood\"\n",
    "pattern = r\"go+d\"\n",
    "\n",
    "re.findall(pattern, text)"
   ]
  },
  {
   "cell_type": "code",
   "execution_count": 124,
   "id": "3df3adbd",
   "metadata": {},
   "outputs": [
    {
     "data": {
      "text/plain": [
       "['color', 'colour', 'colour']"
      ]
     },
     "execution_count": 124,
     "metadata": {},
     "output_type": "execute_result"
    }
   ],
   "source": [
    "# ? Question Mark: Matches 0 or 1 occurences\n",
    "\n",
    "\n",
    "#colo(u?)r\n",
    "\n",
    "# color\n",
    "# colour\n",
    "\n",
    "\n",
    "text = \"I like color and colour colour.\"\n",
    "pattern = r\"colou?r\"\n",
    "\n",
    "re.findall(pattern, text)"
   ]
  },
  {
   "cell_type": "code",
   "execution_count": 125,
   "id": "6a0dfe01",
   "metadata": {},
   "outputs": [
    {
     "name": "stdout",
     "output_type": "stream",
     "text": [
      "['123', '456', '789']\n",
      "['12', '123', '1234']\n",
      "['12', '123', '1234', '1234']\n"
     ]
    }
   ],
   "source": [
    "# {} Curly Braces: Matches exactly n occurences\n",
    "\n",
    "text = \"Area codes: 123, 456, 7890\"\n",
    "pattern = r\"\\d{3}\"\n",
    "\n",
    "print(re.findall(pattern, text))\n",
    "\n",
    "# {n,}: Matches at least n or more occurences\n",
    "\n",
    "text = \"Numbers: 1, 12, 123, 1234\"\n",
    "pattern = r\"\\d{2,}\"\n",
    "\n",
    "print(re.findall(pattern, text))\n",
    "\n",
    "# {n,m}: Matches between n and m times\n",
    "\n",
    "text = \"Numbers: 1, 12, 123, 1234, 12345\"\n",
    "pattern = r\"\\d{2,4}\"\n",
    "\n",
    "print(re.findall(pattern, text))"
   ]
  },
  {
   "cell_type": "markdown",
   "id": "b00a8841",
   "metadata": {
    "tags": [
     "parameters"
    ]
   },
   "source": [
    "Basic Regex Functions"
   ]
  },
  {
   "cell_type": "markdown",
   "id": "fbfe7b4d",
   "metadata": {},
   "source": [
    "## Practical Use case"
   ]
  },
  {
   "cell_type": "markdown",
   "id": "146614cf",
   "metadata": {},
   "source": [
    "Data Validation"
   ]
  },
  {
   "cell_type": "code",
   "execution_count": 126,
   "id": "77a50d95",
   "metadata": {},
   "outputs": [
    {
     "name": "stdout",
     "output_type": "stream",
     "text": [
      "True\n",
      "True\n",
      "True\n",
      "True\n",
      "True\n",
      "True\n"
     ]
    }
   ],
   "source": [
    "# email validation\n",
    "\n",
    "# debanjan.chowdhury@s.amity.edu\n",
    "# jyothisatya.gk@gmail.com\n",
    "# debanjan700@outlook.com\n",
    "# me.biochem@gmail.com\n",
    "# anushajalasutram999@gmail.com\n",
    "\n",
    "\n",
    "# rules\n",
    "# 1. @\n",
    "# 2. .\n",
    "# 3. before @ we can have a combination of alphabets,.,numbers\n",
    "# 4. after @ we can have combination of alphabets,.\n",
    "# 5. after the . we have a combination of alphabets of size (2,3)\n",
    "\n",
    "\n",
    "\n",
    "\n",
    "pattern = r\"^[a-z0-9._]+@[a-z.]+\\.[a-z]{2,3}$\"\n",
    "test_case1 = \"debanjan.chowdhury@s.edu\"\n",
    "test_case2 = \"jyothisatya.gk@gmail.com\"\n",
    "test_case3 = \"debanjan700@outlook.com\"\n",
    "test_case4 = \"me.biochem@gmail.com\"\n",
    "test_case5 = \"anushajalasutram999@gmail.com\"\n",
    "test_case6 = \"debanjan_chowdhury@gmail.com\"\n",
    "\n",
    "print(bool(re.match(pattern, test_case1)))\n",
    "print(bool(re.match(pattern, test_case2)))\n",
    "print(bool(re.match(pattern, test_case3)))\n",
    "print(bool(re.match(pattern, test_case4)))\n",
    "print(bool(re.match(pattern, test_case5)))\n",
    "print(bool(re.match(pattern, test_case6)))"
   ]
  },
  {
   "cell_type": "code",
   "execution_count": 129,
   "id": "6b1f766b",
   "metadata": {},
   "outputs": [
    {
     "name": "stdout",
     "output_type": "stream",
     "text": [
      "True\n"
     ]
    }
   ],
   "source": [
    "# Phone Number Validation ** needs to be checked\n",
    "\n",
    "# rules\n",
    "# +91 1234567890\n",
    "# 91 1234567890\n",
    "# 1234567890\n",
    "# 01234567890\n",
    "# (+91 1234567890)\n",
    "\n",
    "pattern = r\"^\\(?\\+?(\\d{0,2})?\\s?\\d{10}\\)?$\"\n",
    "\n",
    "test_case1 = \"+91 1234567890\"\n",
    "\n",
    "print(bool(re.match(pattern, test_case1)))"
   ]
  },
  {
   "cell_type": "markdown",
   "id": "883121d5",
   "metadata": {},
   "source": [
    "Search and replace"
   ]
  },
  {
   "cell_type": "code",
   "execution_count": 130,
   "id": "d2afd4bb",
   "metadata": {},
   "outputs": [
    {
     "name": "stdout",
     "output_type": "stream",
     "text": [
      "Hello World! This is Python.\n"
     ]
    }
   ],
   "source": [
    "text = \"Hello     World!     This is Python.\"\n",
    "pattern = r\"\\s+\"\n",
    "\n",
    "new_text = re.sub(pattern, \" \", text)\n",
    "print(new_text)"
   ]
  },
  {
   "cell_type": "code",
   "execution_count": 131,
   "id": "375572b8",
   "metadata": {},
   "outputs": [
    {
     "data": {
      "text/plain": [
       "'Credit card number is ****-****-****-5432'"
      ]
     },
     "execution_count": 131,
     "metadata": {},
     "output_type": "execute_result"
    }
   ],
   "source": [
    "text = \"Credit card number is 1234-5678-9876-5432\"\n",
    "\n",
    "# Credit card number is ****-****-****-5432\n",
    "\n",
    "pattern = r\"\\d{4}-\\d{4}-\\d{4}-(\\d{4})\"\n",
    "\n",
    "re.sub(pattern, r\"****-****-****-\\1\", text)"
   ]
  },
  {
   "cell_type": "code",
   "execution_count": 132,
   "id": "afbc9ff6",
   "metadata": {},
   "outputs": [
    {
     "data": {
      "text/plain": [
       "['#Python', '#AI']"
      ]
     },
     "execution_count": 132,
     "metadata": {},
     "output_type": "execute_result"
    }
   ],
   "source": [
    "# Hashtags\n",
    "\n",
    "text = \"I love #Python and #AI\"\n",
    "pattern = r\"#\\w+\"\n",
    "re.findall(pattern, text)"
   ]
  },
  {
   "cell_type": "code",
   "execution_count": 133,
   "id": "18f94860",
   "metadata": {},
   "outputs": [
    {
     "data": {
      "text/plain": [
       "['10/02/2024', '11-02-2025', '12.02.2025', '13/02/25']"
      ]
     },
     "execution_count": 133,
     "metadata": {},
     "output_type": "execute_result"
    }
   ],
   "source": [
    "# date extraction\n",
    "\n",
    "text = \"Dates are: 10/02/2024, 11-02-2025, 12.02.2025, 13/02/25\"\n",
    "pattern = r\"\\d{2}[/.-]\\d{2}[/.-]\\d{2,4}\"\n",
    "re.findall(pattern, text)"
   ]
  }
 ],
 "metadata": {
  "kernelspec": {
   "display_name": "Python 3 (ipykernel)",
   "language": "python",
   "name": "python3"
  },
  "language_info": {
   "codemirror_mode": {
    "name": "ipython",
    "version": 3
   },
   "file_extension": ".py",
   "mimetype": "text/x-python",
   "name": "python",
   "nbconvert_exporter": "python",
   "pygments_lexer": "ipython3",
   "version": "3.11.5"
  }
 },
 "nbformat": 4,
 "nbformat_minor": 5
}
