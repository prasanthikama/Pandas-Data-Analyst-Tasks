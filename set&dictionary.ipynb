{
 "cells": [
  {
   "cell_type": "code",
   "execution_count": 6,
   "id": "4bbec5d2-3041-499e-b560-61a77bd7d239",
   "metadata": {},
   "outputs": [],
   "source": [
    "# set also another type of data structure"
   ]
  },
  {
   "cell_type": "code",
   "execution_count": 7,
   "id": "e503c1ae-8ef3-4543-881c-de3109004d47",
   "metadata": {
    "tags": []
   },
   "outputs": [
    {
     "name": "stdout",
     "output_type": "stream",
     "text": [
      "{1, 2, 3, 4, 5}\n"
     ]
    }
   ],
   "source": [
    "my_set = {1,2,3,4,5}\n",
    "print(my_set)\n"
   ]
  },
  {
   "cell_type": "code",
   "execution_count": 8,
   "id": "a9f67888-9df6-4d22-82ad-aa4f2f886e3f",
   "metadata": {
    "tags": []
   },
   "outputs": [
    {
     "name": "stdout",
     "output_type": "stream",
     "text": [
      "{1, 2, 3, 4, 5}\n"
     ]
    }
   ],
   "source": [
    "print(my_set)"
   ]
  },
  {
   "cell_type": "code",
   "execution_count": 9,
   "id": "c17987b9-fc12-4b25-8ad9-2f7efab4b70c",
   "metadata": {
    "tags": []
   },
   "outputs": [],
   "source": [
    "### Duplicate elements in a set"
   ]
  },
  {
   "cell_type": "code",
   "execution_count": 10,
   "id": "b146f733-f7d9-42eb-b400-202d4daaaded",
   "metadata": {
    "tags": []
   },
   "outputs": [
    {
     "name": "stdout",
     "output_type": "stream",
     "text": [
      "{1, 2, 3, 4, 5, 6, 7, 8, 9}\n"
     ]
    }
   ],
   "source": [
    "my_set = {1,2,3,4,5,6,7,8,9,5,5,6}\n",
    "print(my_set)"
   ]
  },
  {
   "cell_type": "code",
   "execution_count": 11,
   "id": "4016828e-2d3d-4ec0-b740-996cc3efb8df",
   "metadata": {
    "tags": []
   },
   "outputs": [
    {
     "name": "stdout",
     "output_type": "stream",
     "text": [
      "{False, 34.56, 5, 'hello', (1, 2, 3, 4, 5)}\n"
     ]
    }
   ],
   "source": [
    "###Heterogeneous data type\n",
    "mixed_set = {5,'hello',34.56,False,(1,2,3,4,5)}\n",
    "print(mixed_set)"
   ]
  },
  {
   "cell_type": "markdown",
   "id": "93f1e7ff-784d-4fec-85e8-8ef7de0dabfd",
   "metadata": {},
   "source": [
    "### Set Methods"
   ]
  },
  {
   "cell_type": "code",
   "execution_count": 12,
   "id": "c4521195-ba06-4d57-9f97-9af048901a77",
   "metadata": {
    "tags": []
   },
   "outputs": [
    {
     "name": "stdout",
     "output_type": "stream",
     "text": [
      "{1, 2, 3, 4, 5, 6, 7}\n",
      "{1, 2, 3, 4, 5, 6, 7}\n",
      "set()\n"
     ]
    }
   ],
   "source": [
    "my_set={1,2,3,4,5,6,7}\n",
    "my_set.add(6)\n",
    "print(my_set)\n",
    "my_set.add(4)\n",
    "print(my_set)\n",
    "my_set.clear()\n",
    "print(my_set)"
   ]
  },
  {
   "cell_type": "code",
   "execution_count": 13,
   "id": "eee8b5f5-a824-46de-a7c4-c73c2a6415a6",
   "metadata": {
    "tags": []
   },
   "outputs": [
    {
     "name": "stdout",
     "output_type": "stream",
     "text": [
      "{1, 2, 3, 4, 5, 6, 7, 8}\n",
      "1\n",
      "{2, 3, 4, 5, 6, 7, 8, 9}\n",
      "{2, 3, 4, 5, 7, 8, 9}\n"
     ]
    }
   ],
   "source": [
    "my_set = {1,2,3,4,5,6,7,8}\n",
    "## set methods\n",
    "## copy \n",
    "my_set=my_set.copy()\n",
    "print(my_set)\n",
    "#pop \n",
    "element=my_set.pop()\n",
    "print(element)\n",
    "## update\n",
    "my_set2 = {3,8,9,5}\n",
    "my_set.update(my_set2)\n",
    "print(my_set)\n",
    "## discard\n",
    "my_set.discard(6)\n",
    "print(my_set)"
   ]
  },
  {
   "cell_type": "markdown",
   "id": "974eae54-f3f9-42c2-bda6-1ca254b7a915",
   "metadata": {},
   "source": [
    "### set concept ###"
   ]
  },
  {
   "cell_type": "code",
   "execution_count": 14,
   "id": "f8b3a015-338f-4cba-a380-0c96980f8636",
   "metadata": {
    "tags": []
   },
   "outputs": [
    {
     "name": "stdout",
     "output_type": "stream",
     "text": [
      "{1, 2, 3, 5, 6, 7}\n"
     ]
    }
   ],
   "source": [
    "set1 = {1,2,3}\n",
    "set2 ={5,6,7}\n",
    "# union method\n",
    "set3 = set1.union(set2)\n",
    "print(set3)"
   ]
  },
  {
   "cell_type": "code",
   "execution_count": 15,
   "id": "d71c070c-3301-4265-81d0-6c630d3eaaa5",
   "metadata": {
    "tags": []
   },
   "outputs": [
    {
     "name": "stdout",
     "output_type": "stream",
     "text": [
      "{1, 2, 3, 4}\n",
      "{1, 2, 3, 4}\n"
     ]
    }
   ],
   "source": [
    "## Update methos\n",
    "set1 = {1,2,3}\n",
    "set2 = {2,3,4}\n",
    "set2.update(set1)\n",
    "print(set2)\n",
    "set1.update(set2)\n",
    "print(set1)"
   ]
  },
  {
   "cell_type": "code",
   "execution_count": 16,
   "id": "d849875c-ef2d-43b4-9c1d-7422b70e1f28",
   "metadata": {
    "tags": []
   },
   "outputs": [
    {
     "name": "stdout",
     "output_type": "stream",
     "text": [
      "{2, 3}\n"
     ]
    }
   ],
   "source": [
    "# intersection\n",
    "set1 = {1,2,3}\n",
    "set2 = {2,3,4}\n",
    "set3=set1.intersection(set2)\n",
    "print(set3)"
   ]
  },
  {
   "cell_type": "code",
   "execution_count": 17,
   "id": "719da6f5-defd-4a6b-ac27-1f3657e2fb4c",
   "metadata": {
    "tags": []
   },
   "outputs": [
    {
     "name": "stdout",
     "output_type": "stream",
     "text": [
      "{2, 3}\n"
     ]
    }
   ],
   "source": [
    "set1 = {1,2,3}\n",
    "set2 = {2,3,4}\n",
    "set3=set2.intersection(set1)\n",
    "print(set3)"
   ]
  },
  {
   "cell_type": "code",
   "execution_count": 18,
   "id": "3fcf2b58-1352-4f15-adae-c60879df6428",
   "metadata": {
    "tags": []
   },
   "outputs": [
    {
     "name": "stdout",
     "output_type": "stream",
     "text": [
      "{4}\n"
     ]
    }
   ],
   "source": [
    "## difference \n",
    "set1 = {1,2,3}\n",
    "set2 = {2,3,4}\n",
    "set3=set2.difference(set1)\n",
    "print(set3)"
   ]
  },
  {
   "cell_type": "code",
   "execution_count": 19,
   "id": "3761bc48-dde3-43d6-87ab-51910bf3ed4f",
   "metadata": {
    "tags": []
   },
   "outputs": [
    {
     "name": "stdout",
     "output_type": "stream",
     "text": [
      "{1}\n"
     ]
    }
   ],
   "source": [
    "set1 = {1,2,3}\n",
    "set2 = {2,3,4}\n",
    "set3=set1.difference(set2)\n",
    "print(set3)"
   ]
  },
  {
   "cell_type": "code",
   "execution_count": 20,
   "id": "d790abe7-b1a1-4bba-805a-633bcf94cb60",
   "metadata": {
    "tags": []
   },
   "outputs": [
    {
     "name": "stdout",
     "output_type": "stream",
     "text": [
      "{1, 4}\n"
     ]
    }
   ],
   "source": [
    "set1 = {1,2,3}\n",
    "set2 = {2,3,4}\n",
    "set3= set1.symmetric_difference(set2)\n",
    "set3= set2.symmetric_difference(set1)\n",
    "print(set3)"
   ]
  },
  {
   "cell_type": "code",
   "execution_count": 21,
   "id": "0f24cf04-b122-4346-94ee-fb9e68762113",
   "metadata": {
    "tags": []
   },
   "outputs": [
    {
     "name": "stdout",
     "output_type": "stream",
     "text": [
      "True\n"
     ]
    }
   ],
   "source": [
    "### isdisjoint method\n",
    "set1 ={1,2,3}\n",
    "set2 = {5,6}\n",
    "value = set1.isdisjoint(set2)\n",
    "print(value)"
   ]
  },
  {
   "cell_type": "code",
   "execution_count": 22,
   "id": "8cc44b67-00f2-4cf5-a673-27467f6626a4",
   "metadata": {
    "tags": []
   },
   "outputs": [
    {
     "name": "stdout",
     "output_type": "stream",
     "text": [
      "False\n"
     ]
    }
   ],
   "source": [
    "# issubset method\n",
    "set1 ={1,2,3}\n",
    "set2 = {5,6}\n",
    "value = set1.issubset(set2)\n",
    "print(value)"
   ]
  },
  {
   "cell_type": "markdown",
   "id": "dbe7b8b7-5b73-4f1f-82a9-648fe9fc43ce",
   "metadata": {},
   "source": [
    "#####Dictionary"
   ]
  },
  {
   "cell_type": "code",
   "execution_count": 23,
   "id": "076c4b38-1cff-4fba-9ed5-ddce54ad6972",
   "metadata": {
    "tags": []
   },
   "outputs": [
    {
     "name": "stdout",
     "output_type": "stream",
     "text": [
      "{'M': 'M', 'A': 'A', 'K': 'B', 'C': 'T'}\n"
     ]
    }
   ],
   "source": [
    "capitals ={\n",
    "    \"M\":\"M\",\n",
    "    \"A\":\"A\",\n",
    "    \"K\":\"B\",\n",
    "    \"C\":\"T\"\n",
    "}\n",
    "print(capitals)\n",
    "    "
   ]
  },
  {
   "cell_type": "code",
   "execution_count": 24,
   "id": "fcdf80ba-a5f7-475a-b2e7-4b15f19220c6",
   "metadata": {
    "tags": []
   },
   "outputs": [
    {
     "name": "stdout",
     "output_type": "stream",
     "text": [
      "{'N': 75, 'p': 100, 'S': 100}\n"
     ]
    }
   ],
   "source": [
    "marks = {\n",
    "    \"N\":70,\n",
    "    \"p\":100,\n",
    "    \"S\":100,\n",
    "    \"N\":75\n",
    "}\n",
    "print(marks)"
   ]
  },
  {
   "cell_type": "markdown",
   "id": "87dfdd1b-80f3-4a01-951f-a0cfe99b4b80",
   "metadata": {},
   "source": [
    "###Dictionary Visulization"
   ]
  },
  {
   "cell_type": "code",
   "execution_count": 25,
   "id": "8820bb65-335c-410e-9f22-1db4b5b508d7",
   "metadata": {
    "tags": []
   },
   "outputs": [],
   "source": [
    "import pprint\n",
    "from tabulate import tabulate\n",
    "import json\n"
   ]
  },
  {
   "cell_type": "code",
   "execution_count": 26,
   "id": "b6b0c35c-6428-49d4-be66-81dce78682b4",
   "metadata": {
    "tags": []
   },
   "outputs": [],
   "source": [
    "employess ={\n",
    "    \"emp_id\":[1,2,3,4,5],\n",
    "    \"employee_name\":[\"A\",\"B\",\"C\",\"D\",\"E\"],\n",
    "    \"employee_salary\" :(50000,60000,70000,100000),\n",
    "    \"employee_address\":{\"city\":[\"a1\",\"b1\",\"c1\",\"d1\",\"e1\"],\n",
    "                        \"state\":[\"s1\",\"s2\",\"s3\",\"s4\",\"s5\"]\n",
    "                                 }}\n",
    "    "
   ]
  },
  {
   "cell_type": "code",
   "execution_count": 27,
   "id": "6b43be99-b449-4c2b-a106-a97608e83aa5",
   "metadata": {
    "tags": []
   },
   "outputs": [
    {
     "name": "stdout",
     "output_type": "stream",
     "text": [
      "{'emp_id': [1, 2, 3, 4, 5], 'employee_name': ['A', 'B', 'C', 'D', 'E'], 'employee_salary': (50000, 60000, 70000, 100000), 'employee_address': {'city': ['a1', 'b1', 'c1', 'd1', 'e1'], 'state': ['s1', 's2', 's3', 's4', 's5']}}\n"
     ]
    }
   ],
   "source": [
    "print(employess)"
   ]
  },
  {
   "cell_type": "code",
   "execution_count": 28,
   "id": "1391dd9e-5010-4902-9fe7-b00fa65379a5",
   "metadata": {
    "tags": []
   },
   "outputs": [
    {
     "name": "stdout",
     "output_type": "stream",
     "text": [
      "{'emp_id': [1, 2, 3, 4, 5],\n",
      " 'employee_address': {'city': ['a1', 'b1', 'c1', 'd1', 'e1'],\n",
      "                      'state': ['s1', 's2', 's3', 's4', 's5']},\n",
      " 'employee_name': ['A', 'B', 'C', 'D', 'E'],\n",
      " 'employee_salary': (50000, 60000, 70000, 100000)}\n"
     ]
    }
   ],
   "source": [
    "pprint.pprint(employess)"
   ]
  },
  {
   "cell_type": "code",
   "execution_count": 29,
   "id": "0e75cb0c-80ce-4eee-bc2a-0f68b6195395",
   "metadata": {
    "tags": []
   },
   "outputs": [
    {
     "name": "stdout",
     "output_type": "stream",
     "text": [
      "+------------------+-----------------------------------------------------------------------------------+\n",
      "| key              | value                                                                             |\n",
      "+==================+===================================================================================+\n",
      "| emp_id           | [1, 2, 3, 4, 5]                                                                   |\n",
      "+------------------+-----------------------------------------------------------------------------------+\n",
      "| employee_name    | ['A', 'B', 'C', 'D', 'E']                                                         |\n",
      "+------------------+-----------------------------------------------------------------------------------+\n",
      "| employee_salary  | (50000, 60000, 70000, 100000)                                                     |\n",
      "+------------------+-----------------------------------------------------------------------------------+\n",
      "| employee_address | {'city': ['a1', 'b1', 'c1', 'd1', 'e1'], 'state': ['s1', 's2', 's3', 's4', 's5']} |\n",
      "+------------------+-----------------------------------------------------------------------------------+\n"
     ]
    }
   ],
   "source": [
    "headers = [\"key\" ,\"value\"]\n",
    "table = tabulate(employess.items(),headers = headers,tablefmt='grid')\n",
    "print(table)"
   ]
  },
  {
   "cell_type": "code",
   "execution_count": 30,
   "id": "9fbb8ee3-89fc-4903-ac67-0eac75dd5259",
   "metadata": {
    "tags": []
   },
   "outputs": [
    {
     "name": "stdout",
     "output_type": "stream",
     "text": [
      "{\n",
      "        \"emp_id\": [\n",
      "                1,\n",
      "                2,\n",
      "                3,\n",
      "                4,\n",
      "                5\n",
      "        ],\n",
      "        \"employee_name\": [\n",
      "                \"A\",\n",
      "                \"B\",\n",
      "                \"C\",\n",
      "                \"D\",\n",
      "                \"E\"\n",
      "        ],\n",
      "        \"employee_salary\": [\n",
      "                50000,\n",
      "                60000,\n",
      "                70000,\n",
      "                100000\n",
      "        ],\n",
      "        \"employee_address\": {\n",
      "                \"city\": [\n",
      "                        \"a1\",\n",
      "                        \"b1\",\n",
      "                        \"c1\",\n",
      "                        \"d1\",\n",
      "                        \"e1\"\n",
      "                ],\n",
      "                \"state\": [\n",
      "                        \"s1\",\n",
      "                        \"s2\",\n",
      "                        \"s3\",\n",
      "                        \"s4\",\n",
      "                        \"s5\"\n",
      "                ]\n",
      "        }\n",
      "}\n"
     ]
    }
   ],
   "source": [
    "print(json.dumps(employess,indent=8))"
   ]
  },
  {
   "cell_type": "markdown",
   "id": "e44df7d3-5fc3-4a66-9ed7-258798cedf32",
   "metadata": {},
   "source": [
    "# Dictionary Method ###"
   ]
  },
  {
   "cell_type": "code",
   "execution_count": 31,
   "id": "53aebe37-2d10-4ecc-bdcf-07db9283f9be",
   "metadata": {
    "tags": []
   },
   "outputs": [],
   "source": [
    "marks = {\n",
    "    \"N\":70,\n",
    "    \"p\":100,\n",
    "    \"S\":100,\n",
    "    \"sn\":75\n",
    "}"
   ]
  },
  {
   "cell_type": "code",
   "execution_count": 32,
   "id": "bbff090e-31d1-45bb-a36e-144635bdee72",
   "metadata": {
    "tags": []
   },
   "outputs": [
    {
     "name": "stdout",
     "output_type": "stream",
     "text": [
      "dict_items([('N', 70), ('p', 100), ('S', 100), ('sn', 75)])\n"
     ]
    }
   ],
   "source": [
    "# items method\n",
    "items = marks.items()\n",
    "print(items)"
   ]
  },
  {
   "cell_type": "code",
   "execution_count": 33,
   "id": "ec72f141-fdd1-41eb-8822-f0ce1b42299a",
   "metadata": {
    "tags": []
   },
   "outputs": [
    {
     "name": "stdout",
     "output_type": "stream",
     "text": [
      "dict_keys(['N', 'p', 'S', 'sn'])\n"
     ]
    }
   ],
   "source": [
    "# keys method\n",
    "keys = marks.keys()\n",
    "print(keys)"
   ]
  },
  {
   "cell_type": "code",
   "execution_count": 34,
   "id": "d219c1aa-87a4-4237-ad05-cc6ca2b4c5cc",
   "metadata": {
    "tags": []
   },
   "outputs": [
    {
     "name": "stdout",
     "output_type": "stream",
     "text": [
      "dict_values([70, 100, 100, 75])\n"
     ]
    }
   ],
   "source": [
    "## values method #\n",
    "values = marks.values()\n",
    "print(values)"
   ]
  },
  {
   "cell_type": "code",
   "execution_count": 35,
   "id": "c26d59ed-86e5-4ccc-be1b-becb55de3b36",
   "metadata": {
    "tags": []
   },
   "outputs": [],
   "source": [
    "marks1 = {\n",
    "    \"G\":100,\n",
    "    \"K\":90\n",
    "}"
   ]
  },
  {
   "cell_type": "code",
   "execution_count": 36,
   "id": "77ad18ed-8497-464e-a2ba-d401ad78ff17",
   "metadata": {
    "tags": []
   },
   "outputs": [
    {
     "name": "stdout",
     "output_type": "stream",
     "text": [
      "{'N': 70, 'p': 100, 'S': 100, 'sn': 75, 'G': 100, 'K': 90}\n"
     ]
    }
   ],
   "source": [
    "# update method\n",
    "marks.update(marks1)\n",
    "print(marks)"
   ]
  },
  {
   "cell_type": "code",
   "execution_count": 37,
   "id": "c0972bb0-2d74-4e3b-9585-589c3a5f0ac8",
   "metadata": {
    "tags": []
   },
   "outputs": [
    {
     "name": "stdout",
     "output_type": "stream",
     "text": [
      "{'p': 100, 'S': 100, 'sn': 75, 'G': 100, 'K': 90}\n"
     ]
    }
   ],
   "source": [
    "values= marks.pop(\"N\")\n",
    "print(marks)"
   ]
  },
  {
   "cell_type": "code",
   "execution_count": 38,
   "id": "a3bf76d5-44d3-4bf0-ba5b-a4e7a21368af",
   "metadata": {
    "tags": []
   },
   "outputs": [
    {
     "ename": "AttributeError",
     "evalue": "'dict' object has no attribute 'popiteam'",
     "output_type": "error",
     "traceback": [
      "\u001b[1;31m---------------------------------------------------------------------------\u001b[0m",
      "\u001b[1;31mAttributeError\u001b[0m                            Traceback (most recent call last)",
      "Cell \u001b[1;32mIn[38], line 2\u001b[0m\n\u001b[0;32m      1\u001b[0m \u001b[38;5;66;03m# pop item\u001b[39;00m\n\u001b[1;32m----> 2\u001b[0m tup \u001b[38;5;241m=\u001b[39m marks\u001b[38;5;241m.\u001b[39mpopiteam()\n\u001b[0;32m      3\u001b[0m \u001b[38;5;28mprint\u001b[39m(tup)\n\u001b[0;32m      4\u001b[0m \u001b[38;5;28mprint\u001b[39m(marks)\n",
      "\u001b[1;31mAttributeError\u001b[0m: 'dict' object has no attribute 'popiteam'"
     ]
    }
   ],
   "source": [
    "# pop item\n",
    "tup = marks.popiteam()\n",
    "print(tup)\n",
    "print(marks)"
   ]
  },
  {
   "cell_type": "code",
   "execution_count": 39,
   "id": "c4fb6484-9718-43c7-8271-95610e131fc8",
   "metadata": {
    "tags": []
   },
   "outputs": [
    {
     "name": "stdout",
     "output_type": "stream",
     "text": [
      "{'p': 100, 'S': 100, 'sn': 75, 'G': 100, 'K': 90}\n"
     ]
    }
   ],
   "source": [
    "# copy \n",
    "marks_copy = marks.copy()\n",
    "print(marks_copy)"
   ]
  },
  {
   "cell_type": "code",
   "execution_count": 40,
   "id": "30362a48-5602-4a0d-90d6-1ff60fa9583b",
   "metadata": {
    "tags": []
   },
   "outputs": [
    {
     "name": "stdout",
     "output_type": "stream",
     "text": [
      "100\n"
     ]
    }
   ],
   "source": [
    "### get method\n",
    "values = marks.get(\"p\")\n",
    "print(values)"
   ]
  },
  {
   "cell_type": "code",
   "execution_count": 41,
   "id": "599b1fd5-d6e8-4a11-a7a8-d8a519f24f2e",
   "metadata": {
    "tags": []
   },
   "outputs": [
    {
     "name": "stdout",
     "output_type": "stream",
     "text": [
      "None\n"
     ]
    }
   ],
   "source": [
    "values = marks.get(\"N\")\n",
    "print(values)"
   ]
  },
  {
   "cell_type": "code",
   "execution_count": 42,
   "id": "413bb18e-8fa2-4323-9402-19b6d3a935ee",
   "metadata": {
    "tags": []
   },
   "outputs": [
    {
     "name": "stdout",
     "output_type": "stream",
     "text": [
      "{1: [5, 6, 7], 2: [5, 6, 7], 3: [5, 6, 7], 4: [5, 6, 7], 5: [5, 6, 7]}\n"
     ]
    }
   ],
   "source": [
    "## fromkeys method\n",
    "seq = {1,2,3,4,5}\n",
    "value = [5,6,7]\n",
    "\n",
    "resultant_dict = dict.fromkeys(seq,value)\n",
    "print(resultant_dict)"
   ]
  },
  {
   "cell_type": "code",
   "execution_count": 43,
   "id": "d2c43c01-e8d9-4c70-aae1-69a5a436e34a",
   "metadata": {
    "tags": []
   },
   "outputs": [
    {
     "name": "stdout",
     "output_type": "stream",
     "text": [
      "{1: [5, 6, 7], 2: [5, 6, 7], 3: [5, 6, 7], 4: [5, 6, 7], 5: [5, 6, 7], 6: [5, 6, 7]}\n"
     ]
    }
   ],
   "source": [
    "# setdefault method\n",
    "resultant_dict.setdefault(6,value)\n",
    "print(resultant_dict)\n"
   ]
  },
  {
   "cell_type": "code",
   "execution_count": 44,
   "id": "62ca9a16-52fc-44d9-85a7-23825a9c7a3a",
   "metadata": {
    "tags": []
   },
   "outputs": [
    {
     "data": {
      "text/plain": [
       "{'S': 100, 'sn': 75, 'G': 100, 'K': 90, 'Alex': 90}"
      ]
     },
     "execution_count": 44,
     "metadata": {},
     "output_type": "execute_result"
    }
   ],
   "source": [
    "marks.update({'Alex':90})\n",
    "marks.pop('p')\n",
    "marks\n",
    "            "
   ]
  },
  {
   "cell_type": "code",
   "execution_count": 45,
   "id": "906ca920-b38f-4e98-8e86-806b7d02e244",
   "metadata": {
    "tags": []
   },
   "outputs": [
    {
     "name": "stdout",
     "output_type": "stream",
     "text": [
      "S   100\n",
      "sn   75\n",
      "G   100\n",
      "K   90\n",
      "Alex   90\n"
     ]
    }
   ],
   "source": [
    "for i in marks:\n",
    "    print(i,\" \",marks[i])\n"
   ]
  },
  {
   "cell_type": "code",
   "execution_count": 46,
   "id": "740eb28b-e595-4a50-83a7-6de3e641013e",
   "metadata": {
    "tags": []
   },
   "outputs": [
    {
     "name": "stdout",
     "output_type": "stream",
     "text": [
      "S   100\n",
      "sn   75\n",
      "G   100\n",
      "K   90\n",
      "Alex   90\n"
     ]
    }
   ],
   "source": [
    "for k,v in marks.items():\n",
    "    print(k,\" \",v)"
   ]
  },
  {
   "cell_type": "code",
   "execution_count": 53,
   "id": "7c90f1d8-7712-4f02-b625-d0f614890be1",
   "metadata": {},
   "outputs": [
    {
     "data": {
      "text/plain": [
       "{'S': 100, 'sn': 75, 'G': 100, 'K': 90, 'Alex': 90, 'Geeta': 85, 'shyam': 85}"
      ]
     },
     "execution_count": 53,
     "metadata": {},
     "output_type": "execute_result"
    }
   ],
   "source": [
    "marks['shyam'] = 85\n",
    "marks\n",
    "    "
   ]
  },
  {
   "cell_type": "code",
   "execution_count": 56,
   "id": "bcc7731b-0e7c-4c75-a516-7dd3f2b1dc1b",
   "metadata": {
    "tags": []
   },
   "outputs": [],
   "source": [
    "## change the key of 85 to geetha\n",
    "try:\n",
    "    for k,v in marks.items():\n",
    "        if v==85:\n",
    "            if \"Geeta\" not in marks.keys():\n",
    "                marks[\"Geeta\"]=v\n",
    "                marks.pop(k)\n",
    "            break\n",
    "except runtimeerror as e:\n",
    "    pass"
   ]
  },
  {
   "cell_type": "code",
   "execution_count": 57,
   "id": "c92a17c5-79fd-436f-8a62-61eac9345cf2",
   "metadata": {
    "tags": []
   },
   "outputs": [
    {
     "data": {
      "text/plain": [
       "{'S': 100, 'sn': 75, 'G': 100, 'K': 90, 'Alex': 90, 'Geeta': 85, 'shyam': 85}"
      ]
     },
     "execution_count": 57,
     "metadata": {},
     "output_type": "execute_result"
    }
   ],
   "source": [
    "marks"
   ]
  },
  {
   "cell_type": "code",
   "execution_count": 58,
   "id": "eac433d1-cbb1-4b64-90aa-7382b9979315",
   "metadata": {
    "tags": []
   },
   "outputs": [
    {
     "name": "stdout",
     "output_type": "stream",
     "text": [
      "{'Rita': 80, 'Abdul': 75, 'Alex': 90, 'Geetha': 85}\n"
     ]
    }
   ],
   "source": [
    "marks = {'shyam' : 85,'Rita':80,'Abdul':75,'Alex':90}\n",
    "first_item = list(marks.items())[0]\n",
    "marks['Geetha']=first_item[1]\n",
    "del marks[first_item[0]]\n",
    "print(marks)"
   ]
  },
  {
   "cell_type": "code",
   "execution_count": 68,
   "id": "2cb70368-a741-4043-8a49-71a49f17cad4",
   "metadata": {
    "tags": []
   },
   "outputs": [],
   "source": [
    "marks = {\n",
    "    'A':80,\n",
    "    'B':80\n",
    "}\n",
    "for k,v in marks.items():\n",
    "       if v == 80:\n",
    "            if \"C\" not in marks.keys():\n",
    "                marks[\"C\"]=v\n",
    "                marks.pop(k)\n",
    "                break\n",
    "    "
   ]
  },
  {
   "cell_type": "code",
   "execution_count": 69,
   "id": "128b7fd6-ae7e-4e32-8032-b881fb25297e",
   "metadata": {
    "tags": []
   },
   "outputs": [
    {
     "data": {
      "text/plain": [
       "{'B': 80, 'C': 80}"
      ]
     },
     "execution_count": 69,
     "metadata": {},
     "output_type": "execute_result"
    }
   ],
   "source": [
    "marks"
   ]
  },
  {
   "cell_type": "code",
   "execution_count": null,
   "id": "c17c614e-8f2d-42b4-bbc6-f933d27bbf4b",
   "metadata": {},
   "outputs": [],
   "source": []
  }
 ],
 "metadata": {
  "kernelspec": {
   "display_name": "Python 3 (ipykernel)",
   "language": "python",
   "name": "python3"
  },
  "language_info": {
   "codemirror_mode": {
    "name": "ipython",
    "version": 3
   },
   "file_extension": ".py",
   "mimetype": "text/x-python",
   "name": "python",
   "nbconvert_exporter": "python",
   "pygments_lexer": "ipython3",
   "version": "3.11.5"
  }
 },
 "nbformat": 4,
 "nbformat_minor": 5
}
